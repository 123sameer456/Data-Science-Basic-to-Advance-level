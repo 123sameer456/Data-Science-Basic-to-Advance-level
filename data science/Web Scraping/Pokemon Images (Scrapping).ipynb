{
 "cells": [
  {
   "cell_type": "code",
   "execution_count": null,
   "metadata": {},
   "outputs": [],
   "source": [
    "from bs4 import BeautifulSoup\n",
    "import requests\n",
    "\n",
    "src = requests.get(\"https://pokemondb.net/pokedex/national\")\n",
    "soup = BeautifulSoup(src.content, 'html')\n",
    "image = soup.find_all('span', attrs = {'class':'infocard-lg-img'})\n",
    "#image\n",
    "dir = []\n",
    "for i in image:\n",
    "    for j in i.find_all('a'):\n",
    "        #print(j)\n",
    "        #print(j.span.get('data-src'))\n",
    "        dir.append(j.span.get('data-src'))\n",
    "#print(len(dir))\n",
    "for i in range(1,len(dir)):\n",
    "    r = requests.get(dir[i])\n",
    "    with open('image{}.jpg'.format(i+1), 'wb') as f:\n",
    "        f.write(r.content)"
   ]
  },
  {
   "cell_type": "code",
   "execution_count": null,
   "metadata": {},
   "outputs": [],
   "source": []
  },
  {
   "cell_type": "code",
   "execution_count": null,
   "metadata": {},
   "outputs": [],
   "source": []
  }
 ],
 "metadata": {
  "kernelspec": {
   "display_name": "Python 3",
   "language": "python",
   "name": "python3"
  },
  "language_info": {
   "codemirror_mode": {
    "name": "ipython",
    "version": 3
   },
   "file_extension": ".py",
   "mimetype": "text/x-python",
   "name": "python",
   "nbconvert_exporter": "python",
   "pygments_lexer": "ipython3",
   "version": "3.8.3"
  }
 },
 "nbformat": 4,
 "nbformat_minor": 2
}
