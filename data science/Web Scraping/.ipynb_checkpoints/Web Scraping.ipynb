{
 "cells": [
  {
   "cell_type": "code",
   "execution_count": 2,
   "metadata": {},
   "outputs": [],
   "source": [
    "import requests\n",
    "from bs4 import BeautifulSoup"
   ]
  },
  {
   "cell_type": "code",
   "execution_count": 3,
   "metadata": {},
   "outputs": [
    {
     "data": {
      "text/plain": [
       "200"
      ]
     },
     "execution_count": 3,
     "metadata": {},
     "output_type": "execute_result"
    }
   ],
   "source": [
    "response = requests.get(\"http://www.espncricinfo.com/rankings/content/page/211271.html\")\n",
    "response.status_code"
   ]
  },
  {
   "cell_type": "code",
   "execution_count": 4,
   "metadata": {},
   "outputs": [],
   "source": [
    "content = response.content\n",
    "# content"
   ]
  },
  {
   "cell_type": "code",
   "execution_count": 5,
   "metadata": {},
   "outputs": [],
   "source": [
    "# response.json()"
   ]
  },
  {
   "cell_type": "code",
   "execution_count": 6,
   "metadata": {},
   "outputs": [],
   "source": [
    "parser = BeautifulSoup(content,\"html.parser\")"
   ]
  },
  {
   "cell_type": "code",
   "execution_count": 7,
   "metadata": {},
   "outputs": [
    {
     "data": {
      "text/plain": [
       "u'ICC Cricket Rankings - Current ICC Rankings for Tests, ODIs, T20 Cricket | ESPNcricinfo.com'"
      ]
     },
     "execution_count": 7,
     "metadata": {},
     "output_type": "execute_result"
    }
   ],
   "source": [
    "parser.find_all(\"head\")[0].title.text"
   ]
  },
  {
   "cell_type": "code",
   "execution_count": 8,
   "metadata": {},
   "outputs": [
    {
     "data": {
      "text/plain": [
       "u'ICC Cricket Rankings - Current ICC Rankings for Tests, ODIs, T20 Cricket | ESPNcricinfo.com'"
      ]
     },
     "execution_count": 8,
     "metadata": {},
     "output_type": "execute_result"
    }
   ],
   "source": [
    "parser.head.title.text"
   ]
  },
  {
   "cell_type": "code",
   "execution_count": 9,
   "metadata": {},
   "outputs": [
    {
     "data": {
      "text/plain": [
       "u'ICC Cricket Rankings - Current ICC Rankings for Tests, ODIs, T20 Cricket | ESPNcricinfo.com'"
      ]
     },
     "execution_count": 9,
     "metadata": {},
     "output_type": "execute_result"
    }
   ],
   "source": [
    "parser.select(\"head\")[0].title.text"
   ]
  },
  {
   "cell_type": "code",
   "execution_count": 10,
   "metadata": {},
   "outputs": [
    {
     "data": {
      "text/plain": [
       "u'30 September 2019'"
      ]
     },
     "execution_count": 10,
     "metadata": {},
     "output_type": "execute_result"
    }
   ],
   "source": [
    "parser.select(\"caption\")[1].text"
   ]
  },
  {
   "cell_type": "code",
   "execution_count": 11,
   "metadata": {},
   "outputs": [],
   "source": [
    "data = parser.find_all(\"td\", class_ = \"left\")"
   ]
  },
  {
   "cell_type": "code",
   "execution_count": 12,
   "metadata": {},
   "outputs": [
    {
     "data": {
      "text/plain": [
       "u'27'"
      ]
     },
     "execution_count": 12,
     "metadata": {},
     "output_type": "execute_result"
    }
   ],
   "source": [
    "parser.find_all(\"tr\")[7].find_all(\"td\")[2].text"
   ]
  },
  {
   "cell_type": "code",
   "execution_count": 13,
   "metadata": {},
   "outputs": [
    {
     "data": {
      "text/plain": [
       "[<h3>ICC Test Championship</h3>,\n",
       " <h3>ICC ODI Championship</h3>,\n",
       " <h3>ICC Twenty20 Rankings</h3>,\n",
       " <h3>ICC Women's ODI Team Rankings</h3>,\n",
       " <h3>ICC Women's T20 Team Rankings</h3>]"
      ]
     },
     "execution_count": 13,
     "metadata": {},
     "output_type": "execute_result"
    }
   ],
   "source": [
    "cric_format = parser.find_all(\"div\", class_ = \"ciPhotoContainer\")[0].select(\"h3\")\n",
    "cric_format"
   ]
  },
  {
   "cell_type": "code",
   "execution_count": 14,
   "metadata": {},
   "outputs": [
    {
     "data": {
      "text/plain": [
       "[<table class=\"StoryengineTable\">\\n<caption>15 September 2019</caption>\\n<tr class=\"head\">\\n<th class=\"left\">Pos</th>\\n<th class=\"left\">Team</th>\\n<th class=\"left\">Matches</th>\\n<th class=\"left\">Points</th>\\n<th class=\"left\">Rating</th>\\n</tr>\\n<tr>\\n<td class=\"left\">1</td>\\n<td class=\"left\">India</td>\\n<td class=\"left\">35</td>\\n<td class=\"left\">4027</td>\\n<td class=\"left\">115</td>\\n</tr>\\n<tr>\\n<td class=\"left\">2</td>\\n<td class=\"left\">New Zealand</td>\\n<td class=\"left\">26</td>\\n<td class=\"left\">2829</td>\\n<td class=\"left\">109</td>\\n</tr>\\n<tr>\\n<td class=\"left\">3</td>\\n<td class=\"left\">South Africa</td>\\n<td class=\"left\">27</td>\\n<td class=\"left\">2917</td>\\n<td class=\"left\">108</td>\\n</tr>\\n<tr>\\n<td class=\"left\">4</td>\\n<td class=\"left\">England</td>\\n<td class=\"left\">42</td>\\n<td class=\"left\">4366</td>\\n<td class=\"left\">104</td>\\n</tr>\\n<tr>\\n<td class=\"left\">5</td>\\n<td class=\"left\">Australia</td>\\n<td class=\"left\">33</td>\\n<td class=\"left\">3270</td>\\n<td class=\"left\">99</td>\\n</tr>\\n<tr>\\n<td class=\"left\">6</td>\\n<td class=\"left\">Sri Lanka</td>\\n<td class=\"left\">40</td>\\n<td class=\"left\">3795</td>\\n<td class=\"left\">95</td>\\n</tr>\\n<tr>\\n<td class=\"left\">7</td>\\n<td class=\"left\">Pakistan</td>\\n<td class=\"left\">27</td>\\n<td class=\"left\">2263</td>\\n<td class=\"left\">84</td>\\n</tr>\\n<tr>\\n<td class=\"left\">8</td>\\n<td class=\"left\">West Indies</td>\\n<td class=\"left\">32</td>\\n<td class=\"left\">2570</td>\\n<td class=\"left\">80</td>\\n</tr>\\n<tr>\\n<td class=\"left\">9</td>\\n<td class=\"left\">Bangladesh</td>\\n<td class=\"left\">23</td>\\n<td class=\"left\">1413</td>\\n<td class=\"left\">61</td>\\n</tr>\\n<tr>\\n<td class=\"left\">10</td>\\n<td class=\"left\">Afghanistan</td>\\n<td class=\"left\">3</td>\\n<td class=\"left\">165</td>\\n<td class=\"left\">55</td>\\n</tr>\\n<tr>\\n<td class=\"left\">11</td>\\n<td class=\"left\">Zimbabwe</td>\\n<td class=\"left\">9</td>\\n<td class=\"left\">140</td>\\n<td class=\"left\">16</td>\\n</tr>\\n<tr>\\n<td class=\"left\">12</td>\\n<td class=\"left\">Ireland</td>\\n<td class=\"left\">3</td>\\n<td class=\"left\">0</td>\\n<td class=\"left\">0</td>\\n</tr>\\n</table>,\n",
       " <table class=\"StoryengineTable\">\\n<caption>30 September 2019</caption>\\n<tr class=\"head\">\\n<th class=\"left\">Pos</th>\\n<th class=\"left\">Team</th>\\n<th class=\"left\">Matches</th>\\n<th class=\"left\">Points</th>\\n<th class=\"left\">Rating</th>\\n</tr>\\n<tr>\\n<td class=\"left\">1</td>\\n<td class=\"left\">England</td>\\n<td class=\"left\">54</td>\\n<td class=\"left\">6745</td>\\n<td class=\"left\">125</td>\\n</tr>\\n<tr>\\n<td class=\"left\">2</td>\\n<td class=\"left\">India</td>\\n<td class=\"left\">58</td>\\n<td class=\"left\">7071</td>\\n<td class=\"left\">122</td>\\n</tr>\\n<tr>\\n<td class=\"left\">3</td>\\n<td class=\"left\">New Zealand</td>\\n<td class=\"left\">42</td>\\n<td class=\"left\">4709</td>\\n<td class=\"left\">112</td>\\n</tr>\\n<tr>\\n<td class=\"left\">4</td>\\n<td class=\"left\">Australia</td>\\n<td class=\"left\">50</td>\\n<td class=\"left\">5543</td>\\n<td class=\"left\">111</td>\\n</tr>\\n<tr>\\n<td class=\"left\">5</td>\\n<td class=\"left\">South Africa</td>\\n<td class=\"left\">47</td>\\n<td class=\"left\">5193</td>\\n<td class=\"left\">110</td>\\n</tr>\\n<tr>\\n<td class=\"left\">6</td>\\n<td class=\"left\">Pakistan</td>\\n<td class=\"left\">50</td>\\n<td class=\"left\">4888</td>\\n<td class=\"left\">98</td>\\n</tr>\\n<tr>\\n<td class=\"left\">7</td>\\n<td class=\"left\">Bangladesh</td>\\n<td class=\"left\">46</td>\\n<td class=\"left\">3963</td>\\n<td class=\"left\">86</td>\\n</tr>\\n<tr>\\n<td class=\"left\">8</td>\\n<td class=\"left\">Sri Lanka</td>\\n<td class=\"left\">55</td>\\n<td class=\"left\">4472</td>\\n<td class=\"left\">81</td>\\n</tr>\\n<tr>\\n<td class=\"left\">9</td>\\n<td class=\"left\">West Indies</td>\\n<td class=\"left\">48</td>\\n<td class=\"left\">3675</td>\\n<td class=\"left\">77</td>\\n</tr>\\n<tr>\\n<td class=\"left\">10</td>\\n<td class=\"left\">Afghanistan</td>\\n<td class=\"left\">40</td>\\n<td class=\"left\">2359</td>\\n<td class=\"left\">59</td>\\n</tr>\\n<tr>\\n<td class=\"left\">11</td>\\n<td class=\"left\">Ireland</td>\\n<td class=\"left\">29</td>\\n<td class=\"left\">1466</td>\\n<td class=\"left\">51</td>\\n</tr>\\n<tr>\\n<td class=\"left\">12</td>\\n<td class=\"left\">Zimbabwe</td>\\n<td class=\"left\">35</td>\\n<td class=\"left\">1538</td>\\n<td class=\"left\">44</td>\\n</tr>\\n<tr>\\n<td class=\"left\">13</td>\\n<td class=\"left\">Netherlands</td>\\n<td class=\"left\">6</td>\\n<td class=\"left\">222</td>\\n<td class=\"left\">37</td>\\n</tr>\\n<tr>\\n<td class=\"left\">14</td>\\n<td class=\"left\">Scotland</td>\\n<td class=\"left\">15</td>\\n<td class=\"left\">534</td>\\n<td class=\"left\">36</td>\\n</tr>\\n<tr>\\n<td class=\"left\">15</td>\\n<td class=\"left\">Namibia</td>\\n<td class=\"left\">8</td>\\n<td class=\"left\">183</td>\\n<td class=\"left\">23</td>\\n</tr>\\n<tr>\\n<td class=\"left\">16</td>\\n<td class=\"left\">Oman</td>\\n<td class=\"left\">8</td>\\n<td class=\"left\">174</td>\\n<td class=\"left\">22</td>\\n</tr>\\n<tr>\\n<td class=\"left\">17</td>\\n<td class=\"left\">Nepal</td>\\n<td class=\"left\">8</td>\\n<td class=\"left\">152</td>\\n<td class=\"left\">19</td>\\n</tr>\\n<tr>\\n<td class=\"left\">18</td>\\n<td class=\"left\">USA</td>\\n<td class=\"left\">8</td>\\n<td class=\"left\">115</td>\\n<td class=\"left\">14</td>\\n</tr>\\n<tr>\\n<td class=\"left\">19</td>\\n<td class=\"left\">UAE</td>\\n<td class=\"left\">15</td>\\n<td class=\"left\">144</td>\\n<td class=\"left\">10</td>\\n</tr>\\n<tr>\\n<td class=\"left\">20</td>\\n<td class=\"left\">PNG</td>\\n<td class=\"left\">17</td>\\n<td class=\"left\">0</td>\\n<td class=\"left\">0</td>\\n</tr>\\n</table>,\n",
       " <table class=\"StoryengineTable\">\\n<caption>30 September 2019</caption>\\n<tr class=\"head\">\\n<th class=\"left\">Pos</th>\\n<th class=\"left\">Team</th>\\n<th class=\"left\">Matches</th>\\n<th class=\"left\">Points</th>\\n<th class=\"left\">Rating</th>\\n</tr>\\n<tr>\\n<td class=\"left\">1</td>\\n<td class=\"left\">Pakistan</td>\\n<td class=\"left\">26</td>\\n<td class=\"left\">7365</td>\\n<td class=\"left\">283</td>\\n</tr>\\n<tr>\\n<td class=\"left\">2</td>\\n<td class=\"left\">England</td>\\n<td class=\"left\">16</td>\\n<td class=\"left\">4253</td>\\n<td class=\"left\">266</td>\\n</tr>\\n<tr>\\n<td class=\"left\">3</td>\\n<td class=\"left\">South Africa</td>\\n<td class=\"left\">18</td>\\n<td class=\"left\">4720</td>\\n<td class=\"left\">262</td>\\n</tr>\\n<tr>\\n<td class=\"left\">4</td>\\n<td class=\"left\">India</td>\\n<td class=\"left\">33</td>\\n<td class=\"left\">8620</td>\\n<td class=\"left\">261</td>\\n</tr>\\n<tr>\\n<td class=\"left\">5</td>\\n<td class=\"left\">Australia</td>\\n<td class=\"left\">21</td>\\n<td class=\"left\">5471</td>\\n<td class=\"left\">261</td>\\n</tr>\\n<tr>\\n<td class=\"left\">6</td>\\n<td class=\"left\">New Zealand</td>\\n<td class=\"left\">19</td>\\n<td class=\"left\">4784</td>\\n<td class=\"left\">252</td>\\n</tr>\\n<tr>\\n<td class=\"left\">7</td>\\n<td class=\"left\">Afghanistan</td>\\n<td class=\"left\">20</td>\\n<td class=\"left\">4696</td>\\n<td class=\"left\">235</td>\\n</tr>\\n<tr>\\n<td class=\"left\">8</td>\\n<td class=\"left\">Sri Lanka</td>\\n<td class=\"left\">21</td>\\n<td class=\"left\">4808</td>\\n<td class=\"left\">229</td>\\n</tr>\\n<tr>\\n<td class=\"left\">9</td>\\n<td class=\"left\">West Indies</td>\\n<td class=\"left\">24</td>\\n<td class=\"left\">5378</td>\\n<td class=\"left\">224</td>\\n</tr>\\n<tr>\\n<td class=\"left\">10</td>\\n<td class=\"left\">Bangladesh</td>\\n<td class=\"left\">20</td>\\n<td class=\"left\">4483</td>\\n<td class=\"left\">224</td>\\n</tr>\\n<tr>\\n<td class=\"left\">11</td>\\n<td class=\"left\">Nepal</td>\\n<td class=\"left\">16</td>\\n<td class=\"left\">3168</td>\\n<td class=\"left\">198</td>\\n</tr>\\n<tr>\\n<td class=\"left\">12</td>\\n<td class=\"left\">Scotland</td>\\n<td class=\"left\">15</td>\\n<td class=\"left\">2901</td>\\n<td class=\"left\">193</td>\\n</tr>\\n<tr>\\n<td class=\"left\">13</td>\\n<td class=\"left\">UAE</td>\\n<td class=\"left\">18</td>\\n<td class=\"left\">3453</td>\\n<td class=\"left\">192</td>\\n</tr>\\n<tr>\\n<td class=\"left\">14</td>\\n<td class=\"left\">Zimbabwe</td>\\n<td class=\"left\">19</td>\\n<td class=\"left\">3630</td>\\n<td class=\"left\">191</td>\\n</tr>\\n<tr>\\n<td class=\"left\">15</td>\\n<td class=\"left\">Ireland</td>\\n<td class=\"left\">24</td>\\n<td class=\"left\">4455</td>\\n<td class=\"left\">186</td>\\n</tr>\\n<tr>\\n<td class=\"left\">16</td>\\n<td class=\"left\">Netherlands</td>\\n<td class=\"left\">18</td>\\n<td class=\"left\">3138</td>\\n<td class=\"left\">174</td>\\n</tr>\\n<tr>\\n<td class=\"left\">17</td>\\n<td class=\"left\">PNG</td>\\n<td class=\"left\">22</td>\\n<td class=\"left\">3834</td>\\n<td class=\"left\">174</td>\\n</tr>\\n<tr>\\n<td class=\"left\">18</td>\\n<td class=\"left\">Oman</td>\\n<td class=\"left\">5</td>\\n<td class=\"left\">774</td>\\n<td class=\"left\">155</td>\\n</tr>\\n<tr>\\n<td class=\"left\">19</td>\\n<td class=\"left\">Hong Kong</td>\\n<td class=\"left\">8</td>\\n<td class=\"left\">1213</td>\\n<td class=\"left\">152</td>\\n</tr>\\n<tr>\\n<td class=\"left\">20</td>\\n<td class=\"left\">Namibia</td>\\n<td class=\"left\">16</td>\\n<td class=\"left\">2350</td>\\n<td class=\"left\">147</td>\\n</tr>\\n<tr>\\n<td class=\"left\">21</td>\\n<td class=\"left\">Singapore</td>\\n<td class=\"left\">15</td>\\n<td class=\"left\">2049</td>\\n<td class=\"left\">137</td>\\n</tr>\\n<tr>\\n<td class=\"left\">22</td>\\n<td class=\"left\">Qatar</td>\\n<td class=\"left\">18</td>\\n<td class=\"left\">2262</td>\\n<td class=\"left\">126</td>\\n</tr>\\n<tr>\\n<td class=\"left\">23</td>\\n<td class=\"left\">Saudi Arabia</td>\\n<td class=\"left\">11</td>\\n<td class=\"left\">1331</td>\\n<td class=\"left\">121</td>\\n</tr>\\n<tr>\\n<td class=\"left\">24</td>\\n<td class=\"left\">Canada</td>\\n<td class=\"left\">13</td>\\n<td class=\"left\">1568</td>\\n<td class=\"left\">121</td>\\n</tr>\\n<tr>\\n<td class=\"left\">25</td>\\n<td class=\"left\">Jersey</td>\\n<td class=\"left\">16</td>\\n<td class=\"left\">1834</td>\\n<td class=\"left\">115</td>\\n</tr>\\n<tr>\\n<td class=\"left\">26</td>\\n<td class=\"left\">Italy</td>\\n<td class=\"left\">12</td>\\n<td class=\"left\">1326</td>\\n<td class=\"left\">111</td>\\n</tr>\\n<tr>\\n<td class=\"left\">27</td>\\n<td class=\"left\">Kuwait</td>\\n<td class=\"left\">13</td>\\n<td class=\"left\">1354</td>\\n<td class=\"left\">104</td>\\n</tr>\\n<tr>\\n<td class=\"left\">28</td>\\n<td class=\"left\">Denmark</td>\\n<td class=\"left\">14</td>\\n<td class=\"left\">1438</td>\\n<td class=\"left\">103</td>\\n</tr>\\n<tr>\\n<td class=\"left\">29</td>\\n<td class=\"left\">Kenya</td>\\n<td class=\"left\">12</td>\\n<td class=\"left\">1229</td>\\n<td class=\"left\">102</td>\\n</tr>\\n<tr>\\n<td class=\"left\">30</td>\\n<td class=\"left\">Bermuda</td>\\n<td class=\"left\">7</td>\\n<td class=\"left\">716</td>\\n<td class=\"left\">102</td>\\n</tr>\\n<tr>\\n<td class=\"left\">31</td>\\n<td class=\"left\">Germany</td>\\n<td class=\"left\">18</td>\\n<td class=\"left\">1527</td>\\n<td class=\"left\">85</td>\\n</tr>\\n<tr>\\n<td class=\"left\">32</td>\\n<td class=\"left\">USA</td>\\n<td class=\"left\">15</td>\\n<td class=\"left\">1208</td>\\n<td class=\"left\">81</td>\\n</tr>\\n<tr>\\n<td class=\"left\">33</td>\\n<td class=\"left\">Botswana</td>\\n<td class=\"left\">19</td>\\n<td class=\"left\">1494</td>\\n<td class=\"left\">79</td>\\n</tr>\\n<tr>\\n<td class=\"left\">34</td>\\n<td class=\"left\">Ghana</td>\\n<td class=\"left\">10</td>\\n<td class=\"left\">773</td>\\n<td class=\"left\">77</td>\\n</tr>\\n<tr>\\n<td class=\"left\">35</td>\\n<td class=\"left\">Uganda</td>\\n<td class=\"left\">14</td>\\n<td class=\"left\">1069</td>\\n<td class=\"left\">76</td>\\n</tr>\\n<tr>\\n<td class=\"left\">36</td>\\n<td class=\"left\">Malaysia</td>\\n<td class=\"left\">22</td>\\n<td class=\"left\">1607</td>\\n<td class=\"left\">73</td>\\n</tr>\\n<tr>\\n<td class=\"left\">37</td>\\n<td class=\"left\">Norway</td>\\n<td class=\"left\">10</td>\\n<td class=\"left\">709</td>\\n<td class=\"left\">87</td>\\n</tr>\\n<tr>\\n<td class=\"left\">38</td>\\n<td class=\"left\">Nigeria</td>\\n<td class=\"left\">10</td>\\n<td class=\"left\">708</td>\\n<td class=\"left\">71</td>\\n</tr>\\n<tr>\\n<td class=\"left\">39</td>\\n<td class=\"left\">Austria</td>\\n<td class=\"left\">11</td>\\n<td class=\"left\">778</td>\\n<td class=\"left\">71</td>\\n</tr>\\n<tr>\\n<td class=\"left\">40</td>\\n<td class=\"left\">Guernsey</td>\\n<td class=\"left\">16</td>\\n<td class=\"left\">1127</td>\\n<td class=\"left\">70</td>\\n</tr>\\n<tr>\\n<td class=\"left\">41</td>\\n<td class=\"left\">Romania</td>\\n<td class=\"left\">6</td>\\n<td class=\"left\">419</td>\\n<td class=\"left\">70</td>\\n</tr>\\n<tr>\\n<td class=\"left\">42</td>\\n<td class=\"left\">Sweden</td>\\n<td class=\"left\">8</td>\\n<td class=\"left\">465</td>\\n<td class=\"left\">58</td>\\n</tr>\\n<tr>\\n<td class=\"left\">43</td>\\n<td class=\"left\">Tanzania</td>\\n<td class=\"left\">6</td>\\n<td class=\"left\">334</td>\\n<td class=\"left\">56</td>\\n</tr>\\n<tr>\\n<td class=\"left\">44</td>\\n<td class=\"left\">Cayman Islands</td>\\n<td class=\"left\">8</td>\\n<td class=\"left\">430</td>\\n<td class=\"left\">54</td>\\n</tr>\\n<tr>\\n<td class=\"left\">45</td>\\n<td class=\"left\">Spain</td>\\n<td class=\"left\">12</td>\\n<td class=\"left\">602</td>\\n<td class=\"left\">50</td>\\n</tr>\\n<tr>\\n<td class=\"left\">46</td>\\n<td class=\"left\">Philippines</td>\\n<td class=\"left\">9</td>\\n<td class=\"left\">433</td>\\n<td class=\"left\">48</td>\\n</tr>\\n<tr>\\n<td class=\"left\">47</td>\\n<td class=\"left\">France</td>\\n<td class=\"left\">6</td>\\n<td class=\"left\">267</td>\\n<td class=\"left\">45</td>\\n</tr>\\n<tr>\\n<td class=\"left\">48</td>\\n<td class=\"left\">Belize</td>\\n<td class=\"left\">9</td>\\n<td class=\"left\">377</td>\\n<td class=\"left\">42</td>\\n</tr>\\n<tr>\\n<td class=\"left\">49</td>\\n<td class=\"left\">Luxembourg</td>\\n<td class=\"left\">10</td>\\n<td class=\"left\">407</td>\\n<td class=\"left\">41</td>\\n</tr>\\n<tr>\\n<td class=\"left\">50</td>\\n<td class=\"left\">Peru</td>\\n<td class=\"left\">9</td>\\n<td class=\"left\">356</td>\\n<td class=\"left\">40</td>\\n</tr>\\n<tr>\\n<td class=\"left\">51</td>\\n<td class=\"left\">Bahrain</td>\\n<td class=\"left\">7</td>\\n<td class=\"left\">261</td>\\n<td class=\"left\">37</td>\\n</tr>\\n<tr>\\n<td class=\"left\">52</td>\\n<td class=\"left\">Vanuatu</td>\\n<td class=\"left\">16</td>\\n<td class=\"left\">590</td>\\n<td class=\"left\">37</td>\\n</tr>\\n<tr>\\n<td class=\"left\">53</td>\\n<td class=\"left\">Mexico</td>\\n<td class=\"left\">12</td>\\n<td class=\"left\">426</td>\\n<td class=\"left\">36</td>\\n</tr>\\n<tr>\\n<td class=\"left\">54</td>\\n<td class=\"left\">Fiji</td>\\n<td class=\"left\">6</td>\\n<td class=\"left\">210</td>\\n<td class=\"left\">35</td>\\n</tr>\\n<tr>\\n<td class=\"left\">55</td>\\n<td class=\"left\">Panama</td>\\n<td class=\"left\">9</td>\\n<td class=\"left\">291</td>\\n<td class=\"left\">32</td>\\n</tr>\\n<tr>\\n<td class=\"left\">56</td>\\n<td class=\"left\">Belgium</td>\\n<td class=\"left\">9</td>\\n<td class=\"left\">290</td>\\n<td class=\"left\">32</td>\\n</tr>\\n<tr>\\n<td class=\"left\">57</td>\\n<td class=\"left\">Samoa</td>\\n<td class=\"left\">10</td>\\n<td class=\"left\">318</td>\\n<td class=\"left\">32</td>\\n</tr>\\n<tr>\\n<td class=\"left\">58</td>\\n<td class=\"left\">Japan</td>\\n<td class=\"left\">10</td>\\n<td class=\"left\">317</td>\\n<td class=\"left\">32</td>\\n</tr>\\n<tr>\\n<td class=\"left\">59</td>\\n<td class=\"left\">Costa Rica</td>\\n<td class=\"left\">8</td>\\n<td class=\"left\">252</td>\\n<td class=\"left\">32</td>\\n</tr>\\n<tr>\\n<td class=\"left\">60</td>\\n<td class=\"left\">Argentina</td>\\n<td class=\"left\">12</td>\\n<td class=\"left\">370</td>\\n<td class=\"left\">31</td>\\n</tr>\\n<tr>\\n<td class=\"left\">61</td>\\n<td class=\"left\">Hungary</td>\\n<td class=\"left\">6</td>\\n<td class=\"left\">180</td>\\n<td class=\"left\">30</td>\\n</tr>\\n<tr>\\n<td class=\"left\">62</td>\\n<td class=\"left\">Mozambique</td>\\n<td class=\"left\">12</td>\\n<td class=\"left\">352</td>\\n<td class=\"left\">29</td>\\n</tr>\\n<tr>\\n<td class=\"left\">63</td>\\n<td class=\"left\">Thailand</td>\\n<td class=\"left\">14</td>\\n<td class=\"left\">369</td>\\n<td class=\"left\">26</td>\\n</tr>\\n<tr>\\n<td class=\"left\">64</td>\\n<td class=\"left\">Chile</td>\\n<td class=\"left\">10</td>\\n<td class=\"left\">249</td>\\n<td class=\"left\">25</td>\\n</tr>\\n<tr>\\n<td class=\"left\">65</td>\\n<td class=\"left\">Malawi</td>\\n<td class=\"left\">12</td>\\n<td class=\"left\">297</td>\\n<td class=\"left\">25</td>\\n</tr>\\n<tr>\\n<td class=\"left\">66</td>\\n<td class=\"left\">Israel</td>\\n<td class=\"left\">7</td>\\n<td class=\"left\">173</td>\\n<td class=\"left\">25</td>\\n</tr>\\n<tr>\\n<td class=\"left\">67</td>\\n<td class=\"left\">Czech Republic</td>\\n<td class=\"left\">15</td>\\n<td class=\"left\">355</td>\\n<td class=\"left\">24</td>\\n</tr>\\n<tr>\\n<td class=\"left\">68</td>\\n<td class=\"left\">Finland</td>\\n<td class=\"left\">13</td>\\n<td class=\"left\">296</td>\\n<td class=\"left\">23</td>\\n</tr>\\n<tr>\\n<td class=\"left\">69</td>\\n<td class=\"left\">Bhutan</td>\\n<td class=\"left\">8</td>\\n<td class=\"left\">180</td>\\n<td class=\"left\">23</td>\\n</tr>\\n<tr>\\n<td class=\"left\">70</td>\\n<td class=\"left\">South Korea</td>\\n<td class=\"left\">10</td>\\n<td class=\"left\">217</td>\\n<td class=\"left\">22</td>\\n</tr>\\n<tr>\\n<td class=\"left\">71</td>\\n<td class=\"left\">Isle of Man</td>\\n<td class=\"left\">7</td>\\n<td class=\"left\">149</td>\\n<td class=\"left\">21</td>\\n</tr>\\n<tr>\\n<td class=\"left\">72</td>\\n<td class=\"left\">Malta</td>\\n<td class=\"left\">11</td>\\n<td class=\"left\">158</td>\\n<td class=\"left\">14</td>\\n</tr>\\n<tr>\\n<td class=\"left\">73</td>\\n<td class=\"left\">Bulgaria</td>\\n<td class=\"left\">5</td>\\n<td class=\"left\">68</td>\\n<td class=\"left\">14</td>\\n</tr>\\n<tr>\\n<td class=\"left\">74</td>\\n<td class=\"left\">Sierra Leone</td>\\n<td class=\"left\">5</td>\\n<td class=\"left\">61</td>\\n<td class=\"left\">12</td>\\n</tr>\\n<tr>\\n<td class=\"left\">75</td>\\n<td class=\"left\">Brazil</td>\\n<td class=\"left\">9</td>\\n<td class=\"left\">108</td>\\n<td class=\"left\">12</td>\\n</tr>\\n<tr>\\n<td class=\"left\">76</td>\\n<td class=\"left\">Maldives</td>\\n<td class=\"left\">11</td>\\n<td class=\"left\">114</td>\\n<td class=\"left\">10</td>\\n</tr>\\n<tr>\\n<td class=\"left\">77</td>\\n<td class=\"left\">St Helena</td>\\n<td class=\"left\">12</td>\\n<td class=\"left\">109</td>\\n<td class=\"left\">9</td>\\n</tr>\\n<tr>\\n<td class=\"left\">78</td>\\n<td class=\"left\">Gibraltar</td>\\n<td class=\"left\">8</td>\\n<td class=\"left\">35</td>\\n<td class=\"left\">4</td>\\n</tr>\\n<tr>\\n<td class=\"left\">79</td>\\n<td class=\"left\">Myanmar</td>\\n<td class=\"left\">9</td>\\n<td class=\"left\">23</td>\\n<td class=\"left\">3</td>\\n</tr>\\n<tr>\\n<td class=\"left\">80</td>\\n<td class=\"left\">Indonesia</td>\\n<td class=\"left\">7</td>\\n<td class=\"left\">3</td>\\n<td class=\"left\">0</td>\\n</tr>\\n<tr>\\n<td class=\"left\">81</td>\\n<td class=\"left\">China</td>\\n<td class=\"left\">11</td>\\n<td class=\"left\">0</td>\\n<td class=\"left\">0</td>\\n</tr>\\n<tr>\\n<td class=\"left\">82</td>\\n<td class=\"left\">Gambia</td>\\n<td class=\"left\">6</td>\\n<td class=\"left\">0</td>\\n<td class=\"left\">0</td>\\n</tr>\\n<tr>\\n<td class=\"left\">83</td>\\n<td class=\"left\">Swaziland</td>\\n<td class=\"left\">6</td>\\n<td class=\"left\">0</td>\\n<td class=\"left\">0</td>\\n</tr>\\n<tr>\\n<td class=\"left\">84</td>\\n<td class=\"left\">Rwanda</td>\\n<td class=\"left\">6</td>\\n<td class=\"left\">0</td>\\n<td class=\"left\">0</td>\\n</tr>\\n<tr>\\n<td class=\"left\">85</td>\\n<td class=\"left\">Lesotho</td>\\n<td class=\"left\">6</td>\\n<td class=\"left\">0</td>\\n<td class=\"left\">0</td>\\n</tr>\\n</table>,\n",
       " <table class=\"StoryengineTable\">\\n<caption>11 September 2019</caption>\\n<tr class=\"head\">\\n<th class=\"left\">Pos</th>\\n<th class=\"left\">Team</th>\\n<th class=\"left\">Matches</th>\\n<th class=\"left\">Points</th>\\n<th class=\"left\">Rating</th>\\n</tr>\\n<tr>\\n<td class=\"left\">1</td>\\n<td class=\"left\">Australia Women</td>\\n<td class=\"left\">31</td>\\n<td class=\"left\">4594</td>\\n<td class=\"left\">148</td>\\n</tr>\\n<tr>\\n<td class=\"left\">2</td>\\n<td class=\"left\">India Women</td>\\n<td class=\"left\">33</td>\\n<td class=\"left\">4018</td>\\n<td class=\"left\">122</td>\\n</tr>\\n<tr>\\n<td class=\"left\">3</td>\\n<td class=\"left\">England Women</td>\\n<td class=\"left\">36</td>\\n<td class=\"left\">4368</td>\\n<td class=\"left\">121</td>\\n</tr>\\n<tr>\\n<td class=\"left\">4</td>\\n<td class=\"left\">New Zealand Women</td>\\n<td class=\"left\">33</td>\\n<td class=\"left\">3714</td>\\n<td class=\"left\">113</td>\\n</tr>\\n<tr>\\n<td class=\"left\">5</td>\\n<td class=\"left\">South Africa Women</td>\\n<td class=\"left\">42</td>\\n<td class=\"left\">4097</td>\\n<td class=\"left\">98</td>\\n</tr>\\n<tr>\\n<td class=\"left\">6</td>\\n<td class=\"left\">West Indies Women</td>\\n<td class=\"left\">28</td>\\n<td class=\"left\">2365</td>\\n<td class=\"left\">84</td>\\n</tr>\\n<tr>\\n<td class=\"left\">7</td>\\n<td class=\"left\">Pakistan Women</td>\\n<td class=\"left\">29</td>\\n<td class=\"left\">2272</td>\\n<td class=\"left\">78</td>\\n</tr>\\n<tr>\\n<td class=\"left\">8</td>\\n<td class=\"left\">Sri Lanka Women</td>\\n<td class=\"left\">29</td>\\n<td class=\"left\">1617</td>\\n<td class=\"left\">56</td>\\n</tr>\\n<tr>\\n<td class=\"left\">9</td>\\n<td class=\"left\">Bangladesh Women</td>\\n<td class=\"left\">13</td>\\n<td class=\"left\">632</td>\\n<td class=\"left\">49</td>\\n</tr>\\n<tr>\\n<td class=\"left\">10</td>\\n<td class=\"left\">Ireland Women</td>\\n<td class=\"left\">10</td>\\n<td class=\"left\">211</td>\\n<td class=\"left\">21</td>\\n</tr>\\n</table>,\n",
       " <table class=\"StoryengineTable\">\\n<caption>30 September 2019</caption>\\n<tr class=\"head\">\\n<th class=\"left\">Pos</th>\\n<th class=\"left\">Team</th>\\n<th class=\"left\">Matches</th>\\n<th class=\"left\">Points</th>\\n<th class=\"left\">Rating</th>\\n</tr>\\n<tr>\\n<td class=\"left\">1</td>\\n<td class=\"left\">Australia Women</td>\\n<td class=\"left\">36</td>\\n<td class=\"left\">10343</td>\\n<td class=\"left\">287</td>\\n</tr>\\n<tr>\\n<td class=\"left\">2</td>\\n<td class=\"left\">England Women</td>\\n<td class=\"left\">34</td>\\n<td class=\"left\">9448</td>\\n<td class=\"left\">278</td>\\n</tr>\\n<tr>\\n<td class=\"left\">3</td>\\n<td class=\"left\">New Zealand Women</td>\\n<td class=\"left\">32</td>\\n<td class=\"left\">8837</td>\\n<td class=\"left\">276</td>\\n</tr>\\n<tr>\\n<td class=\"left\">4</td>\\n<td class=\"left\">West Indies Women</td>\\n<td class=\"left\">34</td>\\n<td class=\"left\">8791</td>\\n<td class=\"left\">259</td>\\n</tr>\\n<tr>\\n<td class=\"left\">5</td>\\n<td class=\"left\">India Women</td>\\n<td class=\"left\">39</td>\\n<td class=\"left\">9797</td>\\n<td class=\"left\">251</td>\\n</tr>\\n<tr>\\n<td class=\"left\">6</td>\\n<td class=\"left\">South Africa Women</td>\\n<td class=\"left\">34</td>\\n<td class=\"left\">8215</td>\\n<td class=\"left\">242</td>\\n</tr>\\n<tr>\\n<td class=\"left\">7</td>\\n<td class=\"left\">Pakistan Women</td>\\n<td class=\"left\">39</td>\\n<td class=\"left\">8874</td>\\n<td class=\"left\">228</td>\\n</tr>\\n<tr>\\n<td class=\"left\">8</td>\\n<td class=\"left\">Sri Lanka Women</td>\\n<td class=\"left\">34</td>\\n<td class=\"left\">6959</td>\\n<td class=\"left\">205</td>\\n</tr>\\n<tr>\\n<td class=\"left\">9</td>\\n<td class=\"left\">Bangladesh Women</td>\\n<td class=\"left\">38</td>\\n<td class=\"left\">7353</td>\\n<td class=\"left\">194</td>\\n</tr>\\n<tr>\\n<td class=\"left\">10</td>\\n<td class=\"left\">Ireland Women</td>\\n<td class=\"left\">30</td>\\n<td class=\"left\">5168</td>\\n<td class=\"left\">172</td>\\n</tr>\\n<tr>\\n<td class=\"left\">11</td>\\n<td class=\"left\">Thailand Women</td>\\n<td class=\"left\">52</td>\\n<td class=\"left\">8139</td>\\n<td class=\"left\">157</td>\\n</tr>\\n<tr>\\n<td class=\"left\">12</td>\\n<td class=\"left\">Zimbabwe Women</td>\\n<td class=\"left\">28</td>\\n<td class=\"left\">4337</td>\\n<td class=\"left\">155</td>\\n</tr>\\n<tr>\\n<td class=\"left\">13</td>\\n<td class=\"left\">Scotland Women</td>\\n<td class=\"left\">23</td>\\n<td class=\"left\">3380</td>\\n<td class=\"left\">147</td>\\n</tr>\\n<tr>\\n<td class=\"left\">14</td>\\n<td class=\"left\">Nepal Women</td>\\n<td class=\"left\">19</td>\\n<td class=\"left\">2425</td>\\n<td class=\"left\">128</td>\\n</tr>\\n<tr>\\n<td class=\"left\">15</td>\\n<td class=\"left\">PNG Women</td>\\n<td class=\"left\">27</td>\\n<td class=\"left\">3415</td>\\n<td class=\"left\">126</td>\\n</tr>\\n<tr>\\n<td class=\"left\">16</td>\\n<td class=\"left\">UAE Women</td>\\n<td class=\"left\">27</td>\\n<td class=\"left\">3381</td>\\n<td class=\"left\">125</td>\\n</tr>\\n<tr>\\n<td class=\"left\">17</td>\\n<td class=\"left\">Samoa Women</td>\\n<td class=\"left\">15</td>\\n<td class=\"left\">1816</td>\\n<td class=\"left\">121</td>\\n</tr>\\n<tr>\\n<td class=\"left\">18</td>\\n<td class=\"left\">Uganda Women</td>\\n<td class=\"left\">34</td>\\n<td class=\"left\">4103</td>\\n<td class=\"left\">121</td>\\n</tr>\\n<tr>\\n<td class=\"left\">19</td>\\n<td class=\"left\">Kenya Women</td>\\n<td class=\"left\">14</td>\\n<td class=\"left\">1427</td>\\n<td class=\"left\">102</td>\\n</tr>\\n<tr>\\n<td class=\"left\">20</td>\\n<td class=\"left\">Tanzania Women</td>\\n<td class=\"left\">28</td>\\n<td class=\"left\">2755</td>\\n<td class=\"left\">98</td>\\n</tr>\\n<tr>\\n<td class=\"left\">21</td>\\n<td class=\"left\">Netherlands Women</td>\\n<td class=\"left\">23</td>\\n<td class=\"left\">1918</td>\\n<td class=\"left\">83</td>\\n</tr>\\n<tr>\\n<td class=\"left\">22</td>\\n<td class=\"left\">Indonesia Women</td>\\n<td class=\"left\">20</td>\\n<td class=\"left\">1636</td>\\n<td class=\"left\">82</td>\\n</tr>\\n<tr>\\n<td class=\"left\">23</td>\\n<td class=\"left\">Qatar Women</td>\\n<td class=\"left\">5</td>\\n<td class=\"left\">368</td>\\n<td class=\"left\">74</td>\\n</tr>\\n<tr>\\n<td class=\"left\">24</td>\\n<td class=\"left\">Hong Kong Women</td>\\n<td class=\"left\">30</td>\\n<td class=\"left\">2197</td>\\n<td class=\"left\">73</td>\\n</tr>\\n<tr>\\n<td class=\"left\">25</td>\\n<td class=\"left\">China Women</td>\\n<td class=\"left\">28</td>\\n<td class=\"left\">1945</td>\\n<td class=\"left\">69</td>\\n</tr>\\n<tr>\\n<td class=\"left\">26</td>\\n<td class=\"left\">Namibia Women</td>\\n<td class=\"left\">39</td>\\n<td class=\"left\">2655</td>\\n<td class=\"left\">68</td>\\n</tr>\\n<tr>\\n<td class=\"left\">27</td>\\n<td class=\"left\">Japan Women</td>\\n<td class=\"left\">14</td>\\n<td class=\"left\">752</td>\\n<td class=\"left\">54</td>\\n</tr>\\n<tr>\\n<td class=\"left\">28</td>\\n<td class=\"left\">Vanuatu Women</td>\\n<td class=\"left\">15</td>\\n<td class=\"left\">734</td>\\n<td class=\"left\">49</td>\\n</tr>\\n<tr>\\n<td class=\"left\">29</td>\\n<td class=\"left\">Argentina Women</td>\\n<td class=\"left\">14</td>\\n<td class=\"left\">674</td>\\n<td class=\"left\">48</td>\\n</tr>\\n<tr>\\n<td class=\"left\">30</td>\\n<td class=\"left\">Rwanda Women</td>\\n<td class=\"left\">20</td>\\n<td class=\"left\">851</td>\\n<td class=\"left\">43</td>\\n</tr>\\n<tr>\\n<td class=\"left\">31</td>\\n<td class=\"left\">Myanmar Women</td>\\n<td class=\"left\">10</td>\\n<td class=\"left\">424</td>\\n<td class=\"left\">42</td>\\n</tr>\\n<tr>\\n<td class=\"left\">32</td>\\n<td class=\"left\">Malaysia Women</td>\\n<td class=\"left\">39</td>\\n<td class=\"left\">1610</td>\\n<td class=\"left\">41</td>\\n</tr>\\n<tr>\\n<td class=\"left\">33</td>\\n<td class=\"left\">USA Women</td>\\n<td class=\"left\">9</td>\\n<td class=\"left\">371</td>\\n<td class=\"left\">41</td>\\n</tr>\\n<tr>\\n<td class=\"left\">34</td>\\n<td class=\"left\">Sierra Leone Women</td>\\n<td class=\"left\">12</td>\\n<td class=\"left\">489</td>\\n<td class=\"left\">41</td>\\n</tr>\\n<tr>\\n<td class=\"left\">35</td>\\n<td class=\"left\">Jersey Women</td>\\n<td class=\"left\">7</td>\\n<td class=\"left\">280</td>\\n<td class=\"left\">40</td>\\n</tr>\\n<tr>\\n<td class=\"left\">36</td>\\n<td class=\"left\">Kuwait Women</td>\\n<td class=\"left\">8</td>\\n<td class=\"left\">309</td>\\n<td class=\"left\">39</td>\\n</tr>\\n<tr>\\n<td class=\"left\">37</td>\\n<td class=\"left\">Germany Women</td>\\n<td class=\"left\">10</td>\\n<td class=\"left\">380</td>\\n<td class=\"left\">38</td>\\n</tr>\\n<tr>\\n<td class=\"left\">38</td>\\n<td class=\"left\">France Women</td>\\n<td class=\"left\">11</td>\\n<td class=\"left\">411</td>\\n<td class=\"left\">37</td>\\n</tr>\\n<tr>\\n<td class=\"left\">39</td>\\n<td class=\"left\">Botswana Women</td>\\n<td class=\"left\">15</td>\\n<td class=\"left\">555</td>\\n<td class=\"left\">37</td>\\n</tr>\\n<tr>\\n<td class=\"left\">40</td>\\n<td class=\"left\">Oman Women</td>\\n<td class=\"left\">4</td>\\n<td class=\"left\">145</td>\\n<td class=\"left\">36</td>\\n</tr>\\n<tr>\\n<td class=\"left\">41</td>\\n<td class=\"left\">Brazil Women</td>\\n<td class=\"left\">18</td>\\n<td class=\"left\">597</td>\\n<td class=\"left\">33</td>\\n</tr>\\n<tr>\\n<td class=\"left\">42</td>\\n<td class=\"left\">Nigeria Women</td>\\n<td class=\"left\">17</td>\\n<td class=\"left\">536</td>\\n<td class=\"left\">32</td>\\n</tr>\\n<tr>\\n<td class=\"left\">43</td>\\n<td class=\"left\">Bhutan Women</td>\\n<td class=\"left\">7</td>\\n<td class=\"left\">167</td>\\n<td class=\"left\">24</td>\\n</tr>\\n<tr>\\n<td class=\"left\">44</td>\\n<td class=\"left\">Denmark Women</td>\\n<td class=\"left\">5</td>\\n<td class=\"left\">98</td>\\n<td class=\"left\">20</td>\\n</tr>\\n<tr>\\n<td class=\"left\">45</td>\\n<td class=\"left\">South Korea Women</td>\\n<td class=\"left\">9</td>\\n<td class=\"left\">158</td>\\n<td class=\"left\">18</td>\\n</tr>\\n<tr>\\n<td class=\"left\">46</td>\\n<td class=\"left\">Mexico Women</td>\\n<td class=\"left\">6</td>\\n<td class=\"left\">100</td>\\n<td class=\"left\">17</td>\\n</tr>\\n<tr>\\n<td class=\"left\">47</td>\\n<td class=\"left\">Mozambique Women</td>\\n<td class=\"left\">14</td>\\n<td class=\"left\">202</td>\\n<td class=\"left\">14</td>\\n</tr>\\n<tr>\\n<td class=\"left\">48</td>\\n<td class=\"left\">Zambia Women</td>\\n<td class=\"left\">3</td>\\n<td class=\"left\">34</td>\\n<td class=\"left\">11</td>\\n</tr>\\n<tr>\\n<td class=\"left\">49</td>\\n<td class=\"left\">Malawi Women</td>\\n<td class=\"left\">7</td>\\n<td class=\"left\">68</td>\\n<td class=\"left\">10</td>\\n</tr>\\n<tr>\\n<td class=\"left\">50</td>\\n<td class=\"left\">Austria Women</td>\\n<td class=\"left\">6</td>\\n<td class=\"left\">54</td>\\n<td class=\"left\">9</td>\\n</tr>\\n<tr>\\n<td class=\"left\">51</td>\\n<td class=\"left\">Belgium Women</td>\\n<td class=\"left\">5</td>\\n<td class=\"left\">43</td>\\n<td class=\"left\">9</td>\\n</tr>\\n<tr>\\n<td class=\"left\">52</td>\\n<td class=\"left\">Singapore Women</td>\\n<td class=\"left\">15</td>\\n<td class=\"left\">119</td>\\n<td class=\"left\">8</td>\\n</tr>\\n<tr>\\n<td class=\"left\">53</td>\\n<td class=\"left\">Chile Women</td>\\n<td class=\"left\">13</td>\\n<td class=\"left\">86</td>\\n<td class=\"left\">7</td>\\n</tr>\\n<tr>\\n<td class=\"left\">54</td>\\n<td class=\"left\">Peru Women</td>\\n<td class=\"left\">11</td>\\n<td class=\"left\">1</td>\\n<td class=\"left\">0</td>\\n</tr>\\n<tr>\\n<td class=\"left\">55</td>\\n<td class=\"left\">Norway Women</td>\\n<td class=\"left\">8</td>\\n<td class=\"left\">0</td>\\n<td class=\"left\">0</td>\\n</tr>\\n<tr>\\n<td class=\"left\">56</td>\\n<td class=\"left\">Lesotho Women</td>\\n<td class=\"left\">8</td>\\n<td class=\"left\">0</td>\\n<td class=\"left\">0</td>\\n</tr>\\n<tr>\\n<td class=\"left\">57</td>\\n<td class=\"left\">Fiji Women</td>\\n<td class=\"left\">12</td>\\n<td class=\"left\">0</td>\\n<td class=\"left\">0</td>\\n</tr>\\n<tr>\\n<td class=\"left\">58</td>\\n<td class=\"left\">Mali Women</td>\\n<td class=\"left\">6</td>\\n<td class=\"left\">0</td>\\n<td class=\"left\">0</td>\\n</tr>\\n</table>]"
      ]
     },
     "execution_count": 14,
     "metadata": {},
     "output_type": "execute_result"
    }
   ],
   "source": [
    "ranking = parser.find_all(\"table\", class_ = \"StoryengineTable\")\n",
    "ranking"
   ]
  },
  {
   "cell_type": "code",
   "execution_count": 140,
   "metadata": {},
   "outputs": [
    {
     "name": "stdout",
     "output_type": "stream",
     "text": [
      "ICC Test Championship\n",
      "\n",
      "15 September 2019\n",
      "Pos                 Team                Matches             Points              Rating              \n",
      "1                   India               35                  4027                115                 \n",
      "2                   New Zealand         26                  2829                109                 \n",
      "3                   South Africa        27                  2917                108                 \n",
      "4                   England             42                  4366                104                 \n",
      "5                   Australia           33                  3270                99                  \n",
      "6                   Sri Lanka           40                  3795                95                  \n",
      "7                   Pakistan            27                  2263                84                  \n",
      "8                   West Indies         32                  2570                80                  \n",
      "9                   Bangladesh          23                  1413                61                  \n",
      "10                  Afghanistan         3                   165                 55                  \n",
      "11                  Zimbabwe            9                   140                 16                  \n",
      "12                  Ireland             3                   0                   0                   \n",
      "\n",
      "ICC ODI Championship\n",
      "\n",
      "30 September 2019\n",
      "Pos                 Team                Matches             Points              Rating              \n",
      "1                   England             54                  6745                125                 \n",
      "2                   India               58                  7071                122                 \n",
      "3                   New Zealand         42                  4709                112                 \n",
      "4                   Australia           50                  5543                111                 \n",
      "5                   South Africa        47                  5193                110                 \n",
      "6                   Pakistan            50                  4888                98                  \n",
      "7                   Bangladesh          46                  3963                86                  \n",
      "8                   Sri Lanka           55                  4472                81                  \n",
      "9                   West Indies         48                  3675                77                  \n",
      "10                  Afghanistan         40                  2359                59                  \n",
      "11                  Ireland             29                  1466                51                  \n",
      "12                  Zimbabwe            35                  1538                44                  \n",
      "13                  Netherlands         6                   222                 37                  \n",
      "14                  Scotland            15                  534                 36                  \n",
      "15                  Namibia             8                   183                 23                  \n",
      "16                  Oman                8                   174                 22                  \n",
      "17                  Nepal               8                   152                 19                  \n",
      "18                  USA                 8                   115                 14                  \n",
      "19                  UAE                 15                  144                 10                  \n",
      "20                  PNG                 17                  0                   0                   \n",
      "\n",
      "ICC Twenty20 Rankings\n",
      "\n",
      "30 September 2019\n",
      "Pos                 Team                Matches             Points              Rating              \n",
      "1                   Pakistan            26                  7365                283                 \n",
      "2                   England             16                  4253                266                 \n",
      "3                   South Africa        18                  4720                262                 \n",
      "4                   India               33                  8620                261                 \n",
      "5                   Australia           21                  5471                261                 \n",
      "6                   New Zealand         19                  4784                252                 \n",
      "7                   Afghanistan         20                  4696                235                 \n",
      "8                   Sri Lanka           21                  4808                229                 \n",
      "9                   West Indies         24                  5378                224                 \n",
      "10                  Bangladesh          20                  4483                224                 \n",
      "11                  Nepal               16                  3168                198                 \n",
      "12                  Scotland            15                  2901                193                 \n",
      "13                  UAE                 18                  3453                192                 \n",
      "14                  Zimbabwe            19                  3630                191                 \n",
      "15                  Ireland             24                  4455                186                 \n",
      "16                  Netherlands         18                  3138                174                 \n",
      "17                  PNG                 22                  3834                174                 \n",
      "18                  Oman                5                   774                 155                 \n",
      "19                  Hong Kong           8                   1213                152                 \n",
      "20                  Namibia             16                  2350                147                 \n",
      "21                  Singapore           15                  2049                137                 \n",
      "22                  Qatar               18                  2262                126                 \n",
      "23                  Saudi Arabia        11                  1331                121                 \n",
      "24                  Canada              13                  1568                121                 \n",
      "25                  Jersey              16                  1834                115                 \n",
      "26                  Italy               12                  1326                111                 \n",
      "27                  Kuwait              13                  1354                104                 \n",
      "28                  Denmark             14                  1438                103                 \n",
      "29                  Kenya               12                  1229                102                 \n",
      "30                  Bermuda             7                   716                 102                 \n",
      "31                  Germany             18                  1527                85                  \n",
      "32                  USA                 15                  1208                81                  \n",
      "33                  Botswana            19                  1494                79                  \n",
      "34                  Ghana               10                  773                 77                  \n",
      "35                  Uganda              14                  1069                76                  \n",
      "36                  Malaysia            22                  1607                73                  \n",
      "37                  Norway              10                  709                 87                  \n",
      "38                  Nigeria             10                  708                 71                  \n",
      "39                  Austria             11                  778                 71                  \n",
      "40                  Guernsey            16                  1127                70                  \n",
      "41                  Romania             6                   419                 70                  \n",
      "42                  Sweden              8                   465                 58                  \n",
      "43                  Tanzania            6                   334                 56                  \n",
      "44                  Cayman Islands      8                   430                 54                  \n",
      "45                  Spain               12                  602                 50                  \n",
      "46                  Philippines         9                   433                 48                  \n",
      "47                  France              6                   267                 45                  \n",
      "48                  Belize              9                   377                 42                  \n",
      "49                  Luxembourg          10                  407                 41                  \n",
      "50                  Peru                9                   356                 40                  \n",
      "51                  Bahrain             7                   261                 37                  \n",
      "52                  Vanuatu             16                  590                 37                  \n",
      "53                  Mexico              12                  426                 36                  \n",
      "54                  Fiji                6                   210                 35                  \n",
      "55                  Panama              9                   291                 32                  \n",
      "56                  Belgium             9                   290                 32                  \n",
      "57                  Samoa               10                  318                 32                  \n",
      "58                  Japan               10                  317                 32                  \n",
      "59                  Costa Rica          8                   252                 32                  \n",
      "60                  Argentina           12                  370                 31                  \n",
      "61                  Hungary             6                   180                 30                  \n",
      "62                  Mozambique          12                  352                 29                  \n",
      "63                  Thailand            14                  369                 26                  \n",
      "64                  Chile               10                  249                 25                  \n",
      "65                  Malawi              12                  297                 25                  \n",
      "66                  Israel              7                   173                 25                  \n",
      "67                  Czech Republic      15                  355                 24                  \n",
      "68                  Finland             13                  296                 23                  \n",
      "69                  Bhutan              8                   180                 23                  \n",
      "70                  South Korea         10                  217                 22                  \n",
      "71                  Isle of Man         7                   149                 21                  \n",
      "72                  Malta               11                  158                 14                  \n",
      "73                  Bulgaria            5                   68                  14                  \n",
      "74                  Sierra Leone        5                   61                  12                  \n",
      "75                  Brazil              9                   108                 12                  \n",
      "76                  Maldives            11                  114                 10                  \n",
      "77                  St Helena           12                  109                 9                   \n",
      "78                  Gibraltar           8                   35                  4                   \n",
      "79                  Myanmar             9                   23                  3                   \n",
      "80                  Indonesia           7                   3                   0                   \n",
      "81                  China               11                  0                   0                   \n",
      "82                  Gambia              6                   0                   0                   \n",
      "83                  Swaziland           6                   0                   0                   \n",
      "84                  Rwanda              6                   0                   0                   \n",
      "85                  Lesotho             6                   0                   0                   \n",
      "\n",
      "ICC Women's ODI Team Rankings\n",
      "\n",
      "11 September 2019\n",
      "Pos                 Team                Matches             Points              Rating              \n",
      "1                   Australia Women     31                  4594                148                 \n",
      "2                   India Women         33                  4018                122                 \n",
      "3                   England Women       36                  4368                121                 \n",
      "4                   New Zealand Women   33                  3714                113                 \n",
      "5                   South Africa Women  42                  4097                98                  \n",
      "6                   West Indies Women   28                  2365                84                  \n",
      "7                   Pakistan Women      29                  2272                78                  \n",
      "8                   Sri Lanka Women     29                  1617                56                  \n",
      "9                   Bangladesh Women    13                  632                 49                  \n",
      "10                  Ireland Women       10                  211                 21                  \n",
      "\n",
      "ICC Women's T20 Team Rankings\n",
      "\n",
      "30 September 2019\n",
      "Pos                 Team                Matches             Points              Rating              \n",
      "1                   Australia Women     36                  10343               287                 \n",
      "2                   England Women       34                  9448                278                 \n",
      "3                   New Zealand Women   32                  8837                276                 \n",
      "4                   West Indies Women   34                  8791                259                 \n",
      "5                   India Women         39                  9797                251                 \n",
      "6                   South Africa Women  34                  8215                242                 \n",
      "7                   Pakistan Women      39                  8874                228                 \n",
      "8                   Sri Lanka Women     34                  6959                205                 \n",
      "9                   Bangladesh Women    38                  7353                194                 \n",
      "10                  Ireland Women       30                  5168                172                 \n",
      "11                  Thailand Women      52                  8139                157                 \n",
      "12                  Zimbabwe Women      28                  4337                155                 \n",
      "13                  Scotland Women      23                  3380                147                 \n",
      "14                  Nepal Women         19                  2425                128                 \n",
      "15                  PNG Women           27                  3415                126                 \n",
      "16                  UAE Women           27                  3381                125                 \n",
      "17                  Samoa Women         15                  1816                121                 \n",
      "18                  Uganda Women        34                  4103                121                 \n",
      "19                  Kenya Women         14                  1427                102                 \n",
      "20                  Tanzania Women      28                  2755                98                  \n",
      "21                  Netherlands Women   23                  1918                83                  \n",
      "22                  Indonesia Women     20                  1636                82                  \n",
      "23                  Qatar Women         5                   368                 74                  \n",
      "24                  Hong Kong Women     30                  2197                73                  \n",
      "25                  China Women         28                  1945                69                  \n",
      "26                  Namibia Women       39                  2655                68                  \n",
      "27                  Japan Women         14                  752                 54                  \n",
      "28                  Vanuatu Women       15                  734                 49                  \n",
      "29                  Argentina Women     14                  674                 48                  \n",
      "30                  Rwanda Women        20                  851                 43                  \n",
      "31                  Myanmar Women       10                  424                 42                  \n",
      "32                  Malaysia Women      39                  1610                41                  \n",
      "33                  USA Women           9                   371                 41                  \n",
      "34                  Sierra Leone Women  12                  489                 41                  \n",
      "35                  Jersey Women        7                   280                 40                  \n",
      "36                  Kuwait Women        8                   309                 39                  \n",
      "37                  Germany Women       10                  380                 38                  \n",
      "38                  France Women        11                  411                 37                  \n",
      "39                  Botswana Women      15                  555                 37                  \n",
      "40                  Oman Women          4                   145                 36                  \n",
      "41                  Brazil Women        18                  597                 33                  \n",
      "42                  Nigeria Women       17                  536                 32                  \n",
      "43                  Bhutan Women        7                   167                 24                  \n",
      "44                  Denmark Women       5                   98                  20                  \n",
      "45                  South Korea Women   9                   158                 18                  \n",
      "46                  Mexico Women        6                   100                 17                  \n",
      "47                  Mozambique Women    14                  202                 14                  \n",
      "48                  Zambia Women        3                   34                  11                  \n",
      "49                  Malawi Women        7                   68                  10                  \n",
      "50                  Austria Women       6                   54                  9                   \n",
      "51                  Belgium Women       5                   43                  9                   \n",
      "52                  Singapore Women     15                  119                 8                   \n",
      "53                  Chile Women         13                  86                  7                   \n",
      "54                  Peru Women          11                  1                   0                   \n",
      "55                  Norway Women        8                   0                   0                   \n",
      "56                  Lesotho Women       8                   0                   0                   \n",
      "57                  Fiji Women          12                  0                   0                   \n",
      "58                  Mali Women          6                   0                   0                   \n",
      "\n"
     ]
    }
   ],
   "source": [
    "for i, value in enumerate(ranking):\n",
    "    print(cric_format[i].text)\n",
    "    print()\n",
    "    print(value.caption.text)\n",
    "    tr = value.find_all(\"tr\")\n",
    "    j = 0\n",
    "    for t in tr:\n",
    "        if j == 0:\n",
    "            search = \"th\"\n",
    "        else:\n",
    "            search = \"td\"\n",
    "        for y in t.find_all(search):\n",
    "            print(\"{:20}\".format(y.text), end = \"\")\n",
    "        j+=1\n",
    "        print()\n",
    "    print()"
   ]
  },
  {
   "cell_type": "code",
   "execution_count": null,
   "metadata": {},
   "outputs": [],
   "source": []
  },
  {
   "cell_type": "code",
   "execution_count": null,
   "metadata": {},
   "outputs": [],
   "source": []
  }
 ],
 "metadata": {
  "kernelspec": {
   "display_name": "Python 2",
   "language": "python",
   "name": "python2"
  },
  "language_info": {
   "codemirror_mode": {
    "name": "ipython",
    "version": 2
   },
   "file_extension": ".py",
   "mimetype": "text/x-python",
   "name": "python",
   "nbconvert_exporter": "python",
   "pygments_lexer": "ipython2",
   "version": "2.7.16"
  }
 },
 "nbformat": 4,
 "nbformat_minor": 2
}
