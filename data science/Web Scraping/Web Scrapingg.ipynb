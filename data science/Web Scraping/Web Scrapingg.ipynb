{
 "cells": [
  {
   "cell_type": "code",
   "execution_count": 1,
   "metadata": {},
   "outputs": [],
   "source": [
    "import requests\n",
    "from bs4 import BeautifulSoup"
   ]
  },
  {
   "cell_type": "code",
   "execution_count": 2,
   "metadata": {},
   "outputs": [
    {
     "data": {
      "text/plain": [
       "200"
      ]
     },
     "execution_count": 2,
     "metadata": {},
     "output_type": "execute_result"
    }
   ],
   "source": [
    "response = requests.get(\"http://www.espncricinfo.com/rankings/content/page/211271.html\")\n",
    "response.status_code"
   ]
  },
  {
   "cell_type": "code",
   "execution_count": 3,
   "metadata": {},
   "outputs": [],
   "source": [
    "content = response.content\n",
    "# content"
   ]
  },
  {
   "cell_type": "code",
   "execution_count": 4,
   "metadata": {},
   "outputs": [],
   "source": [
    "# response.json()"
   ]
  },
  {
   "cell_type": "code",
   "execution_count": 5,
   "metadata": {},
   "outputs": [],
   "source": [
    "parser = BeautifulSoup(content,\"html.parser\")"
   ]
  },
  {
   "cell_type": "code",
   "execution_count": 20,
   "metadata": {},
   "outputs": [
    {
     "data": {
      "text/plain": [
       "u'ICC Cricket Rankings - Current ICC Rankings for Tests, ODIs, T20 Cricket | ESPNcricinfo.com'"
      ]
     },
     "execution_count": 20,
     "metadata": {},
     "output_type": "execute_result"
    }
   ],
   "source": [
    "parser.find_all(\"head\")[0].title.text"
   ]
  },
  {
   "cell_type": "code",
   "execution_count": 19,
   "metadata": {},
   "outputs": [
    {
     "data": {
      "text/plain": [
       "u'ICC Cricket Rankings - Current ICC Rankings for Tests, ODIs, T20 Cricket | ESPNcricinfo.com'"
      ]
     },
     "execution_count": 19,
     "metadata": {},
     "output_type": "execute_result"
    }
   ],
   "source": [
    "parser.head.title.text"
   ]
  },
  {
   "cell_type": "code",
   "execution_count": 8,
   "metadata": {},
   "outputs": [
    {
     "data": {
      "text/plain": [
       "u'ICC Cricket Rankings - Current ICC Rankings for Tests, ODIs, T20 Cricket | ESPNcricinfo.com'"
      ]
     },
     "execution_count": 8,
     "metadata": {},
     "output_type": "execute_result"
    }
   ],
   "source": [
    "parser.select(\"head\")[0].title.text"
   ]
  },
  {
   "cell_type": "code",
   "execution_count": 9,
   "metadata": {},
   "outputs": [
    {
     "data": {
      "text/plain": [
       "u'02 October 2019'"
      ]
     },
     "execution_count": 9,
     "metadata": {},
     "output_type": "execute_result"
    }
   ],
   "source": [
    "parser.select(\"caption\")[1].text"
   ]
  },
  {
   "cell_type": "code",
   "execution_count": 10,
   "metadata": {},
   "outputs": [],
   "source": [
    "data = parser.find_all(\"td\", class_ = \"left\")"
   ]
  },
  {
   "cell_type": "code",
   "execution_count": 11,
   "metadata": {},
   "outputs": [
    {
     "data": {
      "text/plain": [
       "[<tr class=\"head\">\\n<th class=\"left\">Pos</th>\\n<th class=\"left\">Team</th>\\n<th class=\"left\">Matches</th>\\n<th class=\"left\">Points</th>\\n<th class=\"left\">Rating</th>\\n</tr>,\n",
       " <tr>\\n<td class=\"left\">1</td>\\n<td class=\"left\">India</td>\\n<td class=\"left\">35</td>\\n<td class=\"left\">4027</td>\\n<td class=\"left\">115</td>\\n</tr>,\n",
       " <tr>\\n<td class=\"left\">2</td>\\n<td class=\"left\">New Zealand</td>\\n<td class=\"left\">26</td>\\n<td class=\"left\">2829</td>\\n<td class=\"left\">109</td>\\n</tr>,\n",
       " <tr>\\n<td class=\"left\">3</td>\\n<td class=\"left\">South Africa</td>\\n<td class=\"left\">27</td>\\n<td class=\"left\">2917</td>\\n<td class=\"left\">108</td>\\n</tr>,\n",
       " <tr>\\n<td class=\"left\">4</td>\\n<td class=\"left\">England</td>\\n<td class=\"left\">42</td>\\n<td class=\"left\">4366</td>\\n<td class=\"left\">104</td>\\n</tr>,\n",
       " <tr>\\n<td class=\"left\">5</td>\\n<td class=\"left\">Australia</td>\\n<td class=\"left\">33</td>\\n<td class=\"left\">3270</td>\\n<td class=\"left\">99</td>\\n</tr>,\n",
       " <tr>\\n<td class=\"left\">6</td>\\n<td class=\"left\">Sri Lanka</td>\\n<td class=\"left\">40</td>\\n<td class=\"left\">3795</td>\\n<td class=\"left\">95</td>\\n</tr>,\n",
       " <tr>\\n<td class=\"left\">7</td>\\n<td class=\"left\">Pakistan</td>\\n<td class=\"left\">27</td>\\n<td class=\"left\">2263</td>\\n<td class=\"left\">84</td>\\n</tr>,\n",
       " <tr>\\n<td class=\"left\">8</td>\\n<td class=\"left\">West Indies</td>\\n<td class=\"left\">32</td>\\n<td class=\"left\">2570</td>\\n<td class=\"left\">80</td>\\n</tr>,\n",
       " <tr>\\n<td class=\"left\">9</td>\\n<td class=\"left\">Bangladesh</td>\\n<td class=\"left\">23</td>\\n<td class=\"left\">1413</td>\\n<td class=\"left\">61</td>\\n</tr>,\n",
       " <tr>\\n<td class=\"left\">10</td>\\n<td class=\"left\">Afghanistan</td>\\n<td class=\"left\">3</td>\\n<td class=\"left\">165</td>\\n<td class=\"left\">55</td>\\n</tr>,\n",
       " <tr>\\n<td class=\"left\">11</td>\\n<td class=\"left\">Zimbabwe</td>\\n<td class=\"left\">9</td>\\n<td class=\"left\">140</td>\\n<td class=\"left\">16</td>\\n</tr>,\n",
       " <tr>\\n<td class=\"left\">12</td>\\n<td class=\"left\">Ireland</td>\\n<td class=\"left\">3</td>\\n<td class=\"left\">0</td>\\n<td class=\"left\">0</td>\\n</tr>,\n",
       " <tr class=\"head\">\\n<th class=\"left\">Pos</th>\\n<th class=\"left\">Team</th>\\n<th class=\"left\">Matches</th>\\n<th class=\"left\">Points</th>\\n<th class=\"left\">Rating</th>\\n</tr>,\n",
       " <tr>\\n<td class=\"left\">1</td>\\n<td class=\"left\">England</td>\\n<td class=\"left\">54</td>\\n<td class=\"left\">6745</td>\\n<td class=\"left\">125</td>\\n</tr>,\n",
       " <tr>\\n<td class=\"left\">2</td>\\n<td class=\"left\">India</td>\\n<td class=\"left\">58</td>\\n<td class=\"left\">7071</td>\\n<td class=\"left\">122</td>\\n</tr>,\n",
       " <tr>\\n<td class=\"left\">3</td>\\n<td class=\"left\">New Zealand</td>\\n<td class=\"left\">42</td>\\n<td class=\"left\">4709</td>\\n<td class=\"left\">112</td>\\n</tr>,\n",
       " <tr>\\n<td class=\"left\">4</td>\\n<td class=\"left\">Australia</td>\\n<td class=\"left\">50</td>\\n<td class=\"left\">5543</td>\\n<td class=\"left\">111</td>\\n</tr>,\n",
       " <tr>\\n<td class=\"left\">5</td>\\n<td class=\"left\">South Africa</td>\\n<td class=\"left\">47</td>\\n<td class=\"left\">5193</td>\\n<td class=\"left\">110</td>\\n</tr>,\n",
       " <tr>\\n<td class=\"left\">6</td>\\n<td class=\"left\">Pakistan</td>\\n<td class=\"left\">51</td>\\n<td class=\"left\">5019</td>\\n<td class=\"left\">98</td>\\n</tr>,\n",
       " <tr>\\n<td class=\"left\">7</td>\\n<td class=\"left\">Bangladesh</td>\\n<td class=\"left\">46</td>\\n<td class=\"left\">3963</td>\\n<td class=\"left\">86</td>\\n</tr>,\n",
       " <tr>\\n<td class=\"left\">8</td>\\n<td class=\"left\">Sri Lanka</td>\\n<td class=\"left\">56</td>\\n<td class=\"left\">4520</td>\\n<td class=\"left\">81</td>\\n</tr>,\n",
       " <tr>\\n<td class=\"left\">9</td>\\n<td class=\"left\">West Indies</td>\\n<td class=\"left\">48</td>\\n<td class=\"left\">3675</td>\\n<td class=\"left\">77</td>\\n</tr>,\n",
       " <tr>\\n<td class=\"left\">10</td>\\n<td class=\"left\">Afghanistan</td>\\n<td class=\"left\">40</td>\\n<td class=\"left\">2359</td>\\n<td class=\"left\">59</td>\\n</tr>,\n",
       " <tr>\\n<td class=\"left\">11</td>\\n<td class=\"left\">Ireland</td>\\n<td class=\"left\">29</td>\\n<td class=\"left\">1466</td>\\n<td class=\"left\">51</td>\\n</tr>,\n",
       " <tr>\\n<td class=\"left\">12</td>\\n<td class=\"left\">Zimbabwe</td>\\n<td class=\"left\">35</td>\\n<td class=\"left\">1538</td>\\n<td class=\"left\">44</td>\\n</tr>,\n",
       " <tr>\\n<td class=\"left\">13</td>\\n<td class=\"left\">Netherlands</td>\\n<td class=\"left\">6</td>\\n<td class=\"left\">222</td>\\n<td class=\"left\">37</td>\\n</tr>,\n",
       " <tr>\\n<td class=\"left\">14</td>\\n<td class=\"left\">Scotland</td>\\n<td class=\"left\">15</td>\\n<td class=\"left\">534</td>\\n<td class=\"left\">36</td>\\n</tr>,\n",
       " <tr>\\n<td class=\"left\">15</td>\\n<td class=\"left\">Namibia</td>\\n<td class=\"left\">8</td>\\n<td class=\"left\">183</td>\\n<td class=\"left\">23</td>\\n</tr>,\n",
       " <tr>\\n<td class=\"left\">16</td>\\n<td class=\"left\">Oman</td>\\n<td class=\"left\">8</td>\\n<td class=\"left\">174</td>\\n<td class=\"left\">22</td>\\n</tr>,\n",
       " <tr>\\n<td class=\"left\">17</td>\\n<td class=\"left\">Nepal</td>\\n<td class=\"left\">8</td>\\n<td class=\"left\">152</td>\\n<td class=\"left\">19</td>\\n</tr>,\n",
       " <tr>\\n<td class=\"left\">18</td>\\n<td class=\"left\">USA</td>\\n<td class=\"left\">8</td>\\n<td class=\"left\">115</td>\\n<td class=\"left\">14</td>\\n</tr>,\n",
       " <tr>\\n<td class=\"left\">19</td>\\n<td class=\"left\">UAE</td>\\n<td class=\"left\">15</td>\\n<td class=\"left\">144</td>\\n<td class=\"left\">10</td>\\n</tr>,\n",
       " <tr>\\n<td class=\"left\">20</td>\\n<td class=\"left\">PNG</td>\\n<td class=\"left\">17</td>\\n<td class=\"left\">0</td>\\n<td class=\"left\">0</td>\\n</tr>,\n",
       " <tr class=\"head\">\\n<th class=\"left\">Pos</th>\\n<th class=\"left\">Team</th>\\n<th class=\"left\">Matches</th>\\n<th class=\"left\">Points</th>\\n<th class=\"left\">Rating</th>\\n</tr>,\n",
       " <tr>\\n<td class=\"left\">1</td>\\n<td class=\"left\">Pakistan</td>\\n<td class=\"left\">26</td>\\n<td class=\"left\">7365</td>\\n<td class=\"left\">283</td>\\n</tr>,\n",
       " <tr>\\n<td class=\"left\">2</td>\\n<td class=\"left\">England</td>\\n<td class=\"left\">16</td>\\n<td class=\"left\">4253</td>\\n<td class=\"left\">266</td>\\n</tr>,\n",
       " <tr>\\n<td class=\"left\">3</td>\\n<td class=\"left\">South Africa</td>\\n<td class=\"left\">18</td>\\n<td class=\"left\">4720</td>\\n<td class=\"left\">262</td>\\n</tr>,\n",
       " <tr>\\n<td class=\"left\">4</td>\\n<td class=\"left\">India</td>\\n<td class=\"left\">33</td>\\n<td class=\"left\">8620</td>\\n<td class=\"left\">261</td>\\n</tr>,\n",
       " <tr>\\n<td class=\"left\">5</td>\\n<td class=\"left\">Australia</td>\\n<td class=\"left\">21</td>\\n<td class=\"left\">5471</td>\\n<td class=\"left\">261</td>\\n</tr>,\n",
       " <tr>\\n<td class=\"left\">6</td>\\n<td class=\"left\">New Zealand</td>\\n<td class=\"left\">19</td>\\n<td class=\"left\">4784</td>\\n<td class=\"left\">252</td>\\n</tr>,\n",
       " <tr>\\n<td class=\"left\">7</td>\\n<td class=\"left\">Afghanistan</td>\\n<td class=\"left\">20</td>\\n<td class=\"left\">4696</td>\\n<td class=\"left\">235</td>\\n</tr>,\n",
       " <tr>\\n<td class=\"left\">8</td>\\n<td class=\"left\">Sri Lanka</td>\\n<td class=\"left\">21</td>\\n<td class=\"left\">4808</td>\\n<td class=\"left\">229</td>\\n</tr>,\n",
       " <tr>\\n<td class=\"left\">9</td>\\n<td class=\"left\">West Indies</td>\\n<td class=\"left\">24</td>\\n<td class=\"left\">5378</td>\\n<td class=\"left\">224</td>\\n</tr>,\n",
       " <tr>\\n<td class=\"left\">10</td>\\n<td class=\"left\">Bangladesh</td>\\n<td class=\"left\">20</td>\\n<td class=\"left\">4483</td>\\n<td class=\"left\">224</td>\\n</tr>,\n",
       " <tr>\\n<td class=\"left\">11</td>\\n<td class=\"left\">Nepal</td>\\n<td class=\"left\">16</td>\\n<td class=\"left\">3168</td>\\n<td class=\"left\">198</td>\\n</tr>,\n",
       " <tr>\\n<td class=\"left\">12</td>\\n<td class=\"left\">Scotland</td>\\n<td class=\"left\">15</td>\\n<td class=\"left\">2901</td>\\n<td class=\"left\">193</td>\\n</tr>,\n",
       " <tr>\\n<td class=\"left\">13</td>\\n<td class=\"left\">UAE</td>\\n<td class=\"left\">18</td>\\n<td class=\"left\">3453</td>\\n<td class=\"left\">192</td>\\n</tr>,\n",
       " <tr>\\n<td class=\"left\">14</td>\\n<td class=\"left\">Zimbabwe</td>\\n<td class=\"left\">19</td>\\n<td class=\"left\">3630</td>\\n<td class=\"left\">191</td>\\n</tr>,\n",
       " <tr>\\n<td class=\"left\">15</td>\\n<td class=\"left\">Ireland</td>\\n<td class=\"left\">24</td>\\n<td class=\"left\">4455</td>\\n<td class=\"left\">186</td>\\n</tr>,\n",
       " <tr>\\n<td class=\"left\">16</td>\\n<td class=\"left\">Netherlands</td>\\n<td class=\"left\">18</td>\\n<td class=\"left\">3138</td>\\n<td class=\"left\">174</td>\\n</tr>,\n",
       " <tr>\\n<td class=\"left\">17</td>\\n<td class=\"left\">PNG</td>\\n<td class=\"left\">22</td>\\n<td class=\"left\">3834</td>\\n<td class=\"left\">174</td>\\n</tr>,\n",
       " <tr>\\n<td class=\"left\">18</td>\\n<td class=\"left\">Oman</td>\\n<td class=\"left\">5</td>\\n<td class=\"left\">774</td>\\n<td class=\"left\">155</td>\\n</tr>,\n",
       " <tr>\\n<td class=\"left\">19</td>\\n<td class=\"left\">Hong Kong</td>\\n<td class=\"left\">8</td>\\n<td class=\"left\">1213</td>\\n<td class=\"left\">152</td>\\n</tr>,\n",
       " <tr>\\n<td class=\"left\">20</td>\\n<td class=\"left\">Namibia</td>\\n<td class=\"left\">16</td>\\n<td class=\"left\">2350</td>\\n<td class=\"left\">147</td>\\n</tr>,\n",
       " <tr>\\n<td class=\"left\">21</td>\\n<td class=\"left\">Singapore</td>\\n<td class=\"left\">15</td>\\n<td class=\"left\">2049</td>\\n<td class=\"left\">137</td>\\n</tr>,\n",
       " <tr>\\n<td class=\"left\">22</td>\\n<td class=\"left\">Qatar</td>\\n<td class=\"left\">18</td>\\n<td class=\"left\">2262</td>\\n<td class=\"left\">126</td>\\n</tr>,\n",
       " <tr>\\n<td class=\"left\">23</td>\\n<td class=\"left\">Saudi Arabia</td>\\n<td class=\"left\">11</td>\\n<td class=\"left\">1331</td>\\n<td class=\"left\">121</td>\\n</tr>,\n",
       " <tr>\\n<td class=\"left\">24</td>\\n<td class=\"left\">Canada</td>\\n<td class=\"left\">13</td>\\n<td class=\"left\">1568</td>\\n<td class=\"left\">121</td>\\n</tr>,\n",
       " <tr>\\n<td class=\"left\">25</td>\\n<td class=\"left\">Jersey</td>\\n<td class=\"left\">16</td>\\n<td class=\"left\">1834</td>\\n<td class=\"left\">115</td>\\n</tr>,\n",
       " <tr>\\n<td class=\"left\">26</td>\\n<td class=\"left\">Italy</td>\\n<td class=\"left\">12</td>\\n<td class=\"left\">1326</td>\\n<td class=\"left\">111</td>\\n</tr>,\n",
       " <tr>\\n<td class=\"left\">27</td>\\n<td class=\"left\">Kuwait</td>\\n<td class=\"left\">13</td>\\n<td class=\"left\">1354</td>\\n<td class=\"left\">104</td>\\n</tr>,\n",
       " <tr>\\n<td class=\"left\">28</td>\\n<td class=\"left\">Denmark</td>\\n<td class=\"left\">14</td>\\n<td class=\"left\">1438</td>\\n<td class=\"left\">103</td>\\n</tr>,\n",
       " <tr>\\n<td class=\"left\">29</td>\\n<td class=\"left\">Kenya</td>\\n<td class=\"left\">12</td>\\n<td class=\"left\">1229</td>\\n<td class=\"left\">102</td>\\n</tr>,\n",
       " <tr>\\n<td class=\"left\">30</td>\\n<td class=\"left\">Bermuda</td>\\n<td class=\"left\">7</td>\\n<td class=\"left\">716</td>\\n<td class=\"left\">102</td>\\n</tr>,\n",
       " <tr>\\n<td class=\"left\">31</td>\\n<td class=\"left\">Germany</td>\\n<td class=\"left\">18</td>\\n<td class=\"left\">1527</td>\\n<td class=\"left\">85</td>\\n</tr>,\n",
       " <tr>\\n<td class=\"left\">32</td>\\n<td class=\"left\">USA</td>\\n<td class=\"left\">15</td>\\n<td class=\"left\">1208</td>\\n<td class=\"left\">81</td>\\n</tr>,\n",
       " <tr>\\n<td class=\"left\">33</td>\\n<td class=\"left\">Botswana</td>\\n<td class=\"left\">19</td>\\n<td class=\"left\">1494</td>\\n<td class=\"left\">79</td>\\n</tr>,\n",
       " <tr>\\n<td class=\"left\">34</td>\\n<td class=\"left\">Ghana</td>\\n<td class=\"left\">10</td>\\n<td class=\"left\">773</td>\\n<td class=\"left\">77</td>\\n</tr>,\n",
       " <tr>\\n<td class=\"left\">35</td>\\n<td class=\"left\">Uganda</td>\\n<td class=\"left\">14</td>\\n<td class=\"left\">1069</td>\\n<td class=\"left\">76</td>\\n</tr>,\n",
       " <tr>\\n<td class=\"left\">36</td>\\n<td class=\"left\">Malaysia</td>\\n<td class=\"left\">22</td>\\n<td class=\"left\">1607</td>\\n<td class=\"left\">73</td>\\n</tr>,\n",
       " <tr>\\n<td class=\"left\">37</td>\\n<td class=\"left\">Norway</td>\\n<td class=\"left\">10</td>\\n<td class=\"left\">709</td>\\n<td class=\"left\">87</td>\\n</tr>,\n",
       " <tr>\\n<td class=\"left\">38</td>\\n<td class=\"left\">Nigeria</td>\\n<td class=\"left\">10</td>\\n<td class=\"left\">708</td>\\n<td class=\"left\">71</td>\\n</tr>,\n",
       " <tr>\\n<td class=\"left\">39</td>\\n<td class=\"left\">Austria</td>\\n<td class=\"left\">11</td>\\n<td class=\"left\">778</td>\\n<td class=\"left\">71</td>\\n</tr>,\n",
       " <tr>\\n<td class=\"left\">40</td>\\n<td class=\"left\">Guernsey</td>\\n<td class=\"left\">16</td>\\n<td class=\"left\">1127</td>\\n<td class=\"left\">70</td>\\n</tr>,\n",
       " <tr>\\n<td class=\"left\">41</td>\\n<td class=\"left\">Romania</td>\\n<td class=\"left\">6</td>\\n<td class=\"left\">419</td>\\n<td class=\"left\">70</td>\\n</tr>,\n",
       " <tr>\\n<td class=\"left\">42</td>\\n<td class=\"left\">Sweden</td>\\n<td class=\"left\">8</td>\\n<td class=\"left\">465</td>\\n<td class=\"left\">58</td>\\n</tr>,\n",
       " <tr>\\n<td class=\"left\">43</td>\\n<td class=\"left\">Tanzania</td>\\n<td class=\"left\">6</td>\\n<td class=\"left\">334</td>\\n<td class=\"left\">56</td>\\n</tr>,\n",
       " <tr>\\n<td class=\"left\">44</td>\\n<td class=\"left\">Cayman Islands</td>\\n<td class=\"left\">8</td>\\n<td class=\"left\">430</td>\\n<td class=\"left\">54</td>\\n</tr>,\n",
       " <tr>\\n<td class=\"left\">45</td>\\n<td class=\"left\">Spain</td>\\n<td class=\"left\">12</td>\\n<td class=\"left\">602</td>\\n<td class=\"left\">50</td>\\n</tr>,\n",
       " <tr>\\n<td class=\"left\">46</td>\\n<td class=\"left\">Philippines</td>\\n<td class=\"left\">9</td>\\n<td class=\"left\">433</td>\\n<td class=\"left\">48</td>\\n</tr>,\n",
       " <tr>\\n<td class=\"left\">47</td>\\n<td class=\"left\">France</td>\\n<td class=\"left\">6</td>\\n<td class=\"left\">267</td>\\n<td class=\"left\">45</td>\\n</tr>,\n",
       " <tr>\\n<td class=\"left\">48</td>\\n<td class=\"left\">Belize</td>\\n<td class=\"left\">9</td>\\n<td class=\"left\">377</td>\\n<td class=\"left\">42</td>\\n</tr>,\n",
       " <tr>\\n<td class=\"left\">49</td>\\n<td class=\"left\">Luxembourg</td>\\n<td class=\"left\">10</td>\\n<td class=\"left\">407</td>\\n<td class=\"left\">41</td>\\n</tr>,\n",
       " <tr>\\n<td class=\"left\">50</td>\\n<td class=\"left\">Peru</td>\\n<td class=\"left\">9</td>\\n<td class=\"left\">356</td>\\n<td class=\"left\">40</td>\\n</tr>,\n",
       " <tr>\\n<td class=\"left\">51</td>\\n<td class=\"left\">Bahrain</td>\\n<td class=\"left\">7</td>\\n<td class=\"left\">261</td>\\n<td class=\"left\">37</td>\\n</tr>,\n",
       " <tr>\\n<td class=\"left\">52</td>\\n<td class=\"left\">Vanuatu</td>\\n<td class=\"left\">16</td>\\n<td class=\"left\">590</td>\\n<td class=\"left\">37</td>\\n</tr>,\n",
       " <tr>\\n<td class=\"left\">53</td>\\n<td class=\"left\">Mexico</td>\\n<td class=\"left\">12</td>\\n<td class=\"left\">426</td>\\n<td class=\"left\">36</td>\\n</tr>,\n",
       " <tr>\\n<td class=\"left\">54</td>\\n<td class=\"left\">Fiji</td>\\n<td class=\"left\">6</td>\\n<td class=\"left\">210</td>\\n<td class=\"left\">35</td>\\n</tr>,\n",
       " <tr>\\n<td class=\"left\">55</td>\\n<td class=\"left\">Panama</td>\\n<td class=\"left\">9</td>\\n<td class=\"left\">291</td>\\n<td class=\"left\">32</td>\\n</tr>,\n",
       " <tr>\\n<td class=\"left\">56</td>\\n<td class=\"left\">Belgium</td>\\n<td class=\"left\">9</td>\\n<td class=\"left\">290</td>\\n<td class=\"left\">32</td>\\n</tr>,\n",
       " <tr>\\n<td class=\"left\">57</td>\\n<td class=\"left\">Samoa</td>\\n<td class=\"left\">10</td>\\n<td class=\"left\">318</td>\\n<td class=\"left\">32</td>\\n</tr>,\n",
       " <tr>\\n<td class=\"left\">58</td>\\n<td class=\"left\">Japan</td>\\n<td class=\"left\">10</td>\\n<td class=\"left\">317</td>\\n<td class=\"left\">32</td>\\n</tr>,\n",
       " <tr>\\n<td class=\"left\">59</td>\\n<td class=\"left\">Costa Rica</td>\\n<td class=\"left\">8</td>\\n<td class=\"left\">252</td>\\n<td class=\"left\">32</td>\\n</tr>,\n",
       " <tr>\\n<td class=\"left\">60</td>\\n<td class=\"left\">Argentina</td>\\n<td class=\"left\">12</td>\\n<td class=\"left\">370</td>\\n<td class=\"left\">31</td>\\n</tr>,\n",
       " <tr>\\n<td class=\"left\">61</td>\\n<td class=\"left\">Hungary</td>\\n<td class=\"left\">6</td>\\n<td class=\"left\">180</td>\\n<td class=\"left\">30</td>\\n</tr>,\n",
       " <tr>\\n<td class=\"left\">62</td>\\n<td class=\"left\">Mozambique</td>\\n<td class=\"left\">12</td>\\n<td class=\"left\">352</td>\\n<td class=\"left\">29</td>\\n</tr>,\n",
       " <tr>\\n<td class=\"left\">63</td>\\n<td class=\"left\">Thailand</td>\\n<td class=\"left\">14</td>\\n<td class=\"left\">369</td>\\n<td class=\"left\">26</td>\\n</tr>,\n",
       " <tr>\\n<td class=\"left\">64</td>\\n<td class=\"left\">Chile</td>\\n<td class=\"left\">10</td>\\n<td class=\"left\">249</td>\\n<td class=\"left\">25</td>\\n</tr>,\n",
       " <tr>\\n<td class=\"left\">65</td>\\n<td class=\"left\">Malawi</td>\\n<td class=\"left\">12</td>\\n<td class=\"left\">297</td>\\n<td class=\"left\">25</td>\\n</tr>,\n",
       " <tr>\\n<td class=\"left\">66</td>\\n<td class=\"left\">Israel</td>\\n<td class=\"left\">7</td>\\n<td class=\"left\">173</td>\\n<td class=\"left\">25</td>\\n</tr>,\n",
       " <tr>\\n<td class=\"left\">67</td>\\n<td class=\"left\">Czech Republic</td>\\n<td class=\"left\">15</td>\\n<td class=\"left\">355</td>\\n<td class=\"left\">24</td>\\n</tr>,\n",
       " <tr>\\n<td class=\"left\">68</td>\\n<td class=\"left\">Finland</td>\\n<td class=\"left\">13</td>\\n<td class=\"left\">296</td>\\n<td class=\"left\">23</td>\\n</tr>,\n",
       " <tr>\\n<td class=\"left\">69</td>\\n<td class=\"left\">Bhutan</td>\\n<td class=\"left\">8</td>\\n<td class=\"left\">180</td>\\n<td class=\"left\">23</td>\\n</tr>,\n",
       " <tr>\\n<td class=\"left\">70</td>\\n<td class=\"left\">South Korea</td>\\n<td class=\"left\">10</td>\\n<td class=\"left\">217</td>\\n<td class=\"left\">22</td>\\n</tr>,\n",
       " <tr>\\n<td class=\"left\">71</td>\\n<td class=\"left\">Isle of Man</td>\\n<td class=\"left\">7</td>\\n<td class=\"left\">149</td>\\n<td class=\"left\">21</td>\\n</tr>,\n",
       " <tr>\\n<td class=\"left\">72</td>\\n<td class=\"left\">Malta</td>\\n<td class=\"left\">11</td>\\n<td class=\"left\">158</td>\\n<td class=\"left\">14</td>\\n</tr>,\n",
       " <tr>\\n<td class=\"left\">73</td>\\n<td class=\"left\">Bulgaria</td>\\n<td class=\"left\">5</td>\\n<td class=\"left\">68</td>\\n<td class=\"left\">14</td>\\n</tr>,\n",
       " <tr>\\n<td class=\"left\">74</td>\\n<td class=\"left\">Sierra Leone</td>\\n<td class=\"left\">5</td>\\n<td class=\"left\">61</td>\\n<td class=\"left\">12</td>\\n</tr>,\n",
       " <tr>\\n<td class=\"left\">75</td>\\n<td class=\"left\">Brazil</td>\\n<td class=\"left\">9</td>\\n<td class=\"left\">108</td>\\n<td class=\"left\">12</td>\\n</tr>,\n",
       " <tr>\\n<td class=\"left\">76</td>\\n<td class=\"left\">Maldives</td>\\n<td class=\"left\">11</td>\\n<td class=\"left\">114</td>\\n<td class=\"left\">10</td>\\n</tr>,\n",
       " <tr>\\n<td class=\"left\">77</td>\\n<td class=\"left\">St Helena</td>\\n<td class=\"left\">12</td>\\n<td class=\"left\">109</td>\\n<td class=\"left\">9</td>\\n</tr>,\n",
       " <tr>\\n<td class=\"left\">78</td>\\n<td class=\"left\">Gibraltar</td>\\n<td class=\"left\">8</td>\\n<td class=\"left\">35</td>\\n<td class=\"left\">4</td>\\n</tr>,\n",
       " <tr>\\n<td class=\"left\">79</td>\\n<td class=\"left\">Myanmar</td>\\n<td class=\"left\">9</td>\\n<td class=\"left\">23</td>\\n<td class=\"left\">3</td>\\n</tr>,\n",
       " <tr>\\n<td class=\"left\">80</td>\\n<td class=\"left\">Indonesia</td>\\n<td class=\"left\">7</td>\\n<td class=\"left\">3</td>\\n<td class=\"left\">0</td>\\n</tr>,\n",
       " <tr>\\n<td class=\"left\">81</td>\\n<td class=\"left\">China</td>\\n<td class=\"left\">11</td>\\n<td class=\"left\">0</td>\\n<td class=\"left\">0</td>\\n</tr>,\n",
       " <tr>\\n<td class=\"left\">82</td>\\n<td class=\"left\">Gambia</td>\\n<td class=\"left\">6</td>\\n<td class=\"left\">0</td>\\n<td class=\"left\">0</td>\\n</tr>,\n",
       " <tr>\\n<td class=\"left\">83</td>\\n<td class=\"left\">Swaziland</td>\\n<td class=\"left\">6</td>\\n<td class=\"left\">0</td>\\n<td class=\"left\">0</td>\\n</tr>,\n",
       " <tr>\\n<td class=\"left\">84</td>\\n<td class=\"left\">Rwanda</td>\\n<td class=\"left\">6</td>\\n<td class=\"left\">0</td>\\n<td class=\"left\">0</td>\\n</tr>,\n",
       " <tr>\\n<td class=\"left\">85</td>\\n<td class=\"left\">Lesotho</td>\\n<td class=\"left\">6</td>\\n<td class=\"left\">0</td>\\n<td class=\"left\">0</td>\\n</tr>,\n",
       " <tr class=\"head\">\\n<th class=\"left\">Pos</th>\\n<th class=\"left\">Team</th>\\n<th class=\"left\">Matches</th>\\n<th class=\"left\">Points</th>\\n<th class=\"left\">Rating</th>\\n</tr>,\n",
       " <tr>\\n<td class=\"left\">1</td>\\n<td class=\"left\">Australia Women</td>\\n<td class=\"left\">25</td>\\n<td class=\"left\">3784</td>\\n<td class=\"left\">151</td>\\n</tr>,\n",
       " <tr>\\n<td class=\"left\">2</td>\\n<td class=\"left\">India Women</td>\\n<td class=\"left\">25</td>\\n<td class=\"left\">3148</td>\\n<td class=\"left\">126</td>\\n</tr>,\n",
       " <tr>\\n<td class=\"left\">3</td>\\n<td class=\"left\">England Women</td>\\n<td class=\"left\">27</td>\\n<td class=\"left\">3303</td>\\n<td class=\"left\">122</td>\\n</tr>,\n",
       " <tr>\\n<td class=\"left\">4</td>\\n<td class=\"left\">New Zealand Women</td>\\n<td class=\"left\">23</td>\\n<td class=\"left\">2533</td>\\n<td class=\"left\">110</td>\\n</tr>,\n",
       " <tr>\\n<td class=\"left\">5</td>\\n<td class=\"left\">South Africa Women</td>\\n<td class=\"left\">31</td>\\n<td class=\"left\">3001</td>\\n<td class=\"left\">97</td>\\n</tr>,\n",
       " <tr>\\n<td class=\"left\">6</td>\\n<td class=\"left\">West Indies Women</td>\\n<td class=\"left\">21</td>\\n<td class=\"left\">1664</td>\\n<td class=\"left\">79</td>\\n</tr>,\n",
       " <tr>\\n<td class=\"left\">7</td>\\n<td class=\"left\">Pakistan Women</td>\\n<td class=\"left\">21</td>\\n<td class=\"left\">1613</td>\\n<td class=\"left\">77</td>\\n</tr>,\n",
       " <tr>\\n<td class=\"left\">8</td>\\n<td class=\"left\">Sri Lanka Women</td>\\n<td class=\"left\">21</td>\\n<td class=\"left\">1163</td>\\n<td class=\"left\">55</td>\\n</tr>,\n",
       " <tr>\\n<td class=\"left\">9</td>\\n<td class=\"left\">Bangladesh Women</td>\\n<td class=\"left\">8</td>\\n<td class=\"left\">387</td>\\n<td class=\"left\">48</td>\\n</tr>,\n",
       " <tr>\\n<td class=\"left\">10</td>\\n<td class=\"left\">Ireland Women</td>\\n<td class=\"left\">6</td>\\n<td class=\"left\">110</td>\\n<td class=\"left\">18</td>\\n</tr>,\n",
       " <tr class=\"head\">\\n<th class=\"left\">Pos</th>\\n<th class=\"left\">Team</th>\\n<th class=\"left\">Matches</th>\\n<th class=\"left\">Points</th>\\n<th class=\"left\">Rating</th>\\n</tr>,\n",
       " <tr>\\n<td class=\"left\">1</td>\\n<td class=\"left\">Australia Women</td>\\n<td class=\"left\">25</td>\\n<td class=\"left\">7331</td>\\n<td class=\"left\">293</td>\\n</tr>,\n",
       " <tr>\\n<td class=\"left\">2</td>\\n<td class=\"left\">England Women</td>\\n<td class=\"left\">22</td>\\n<td class=\"left\">6141</td>\\n<td class=\"left\">279</td>\\n</tr>,\n",
       " <tr>\\n<td class=\"left\">3</td>\\n<td class=\"left\">New Zealand Women</td>\\n<td class=\"left\">18</td>\\n<td class=\"left\">4963</td>\\n<td class=\"left\">276</td>\\n</tr>,\n",
       " <tr>\\n<td class=\"left\">4</td>\\n<td class=\"left\">West Indies Women</td>\\n<td class=\"left\">22</td>\\n<td class=\"left\">5682</td>\\n<td class=\"left\">258</td>\\n</tr>,\n",
       " <tr>\\n<td class=\"left\">5</td>\\n<td class=\"left\">India Women</td>\\n<td class=\"left\">28</td>\\n<td class=\"left\">7046</td>\\n<td class=\"left\">252</td>\\n</tr>,\n",
       " <tr>\\n<td class=\"left\">6</td>\\n<td class=\"left\">South Africa Women</td>\\n<td class=\"left\">24</td>\\n<td class=\"left\">5776</td>\\n<td class=\"left\">241</td>\\n</tr>,\n",
       " <tr>\\n<td class=\"left\">7</td>\\n<td class=\"left\">Pakistan Women</td>\\n<td class=\"left\">25</td>\\n<td class=\"left\">5688</td>\\n<td class=\"left\">228</td>\\n</tr>,\n",
       " <tr>\\n<td class=\"left\">8</td>\\n<td class=\"left\">Sri Lanka Women</td>\\n<td class=\"left\">22</td>\\n<td class=\"left\">4420</td>\\n<td class=\"left\">201</td>\\n</tr>,\n",
       " <tr>\\n<td class=\"left\">9</td>\\n<td class=\"left\">Bangladesh Women</td>\\n<td class=\"left\">24</td>\\n<td class=\"left\">4698</td>\\n<td class=\"left\">196</td>\\n</tr>,\n",
       " <tr>\\n<td class=\"left\">10</td>\\n<td class=\"left\">Ireland Women</td>\\n<td class=\"left\">22</td>\\n<td class=\"left\">3622</td>\\n<td class=\"left\">165</td>\\n</tr>,\n",
       " <tr>\\n<td class=\"left\">11</td>\\n<td class=\"left\">Thailand Women</td>\\n<td class=\"left\">41</td>\\n<td class=\"left\">6582</td>\\n<td class=\"left\">161</td>\\n</tr>,\n",
       " <tr>\\n<td class=\"left\">12</td>\\n<td class=\"left\">Zimbabwe Women</td>\\n<td class=\"left\">20</td>\\n<td class=\"left\">3153</td>\\n<td class=\"left\">158</td>\\n</tr>,\n",
       " <tr>\\n<td class=\"left\">13</td>\\n<td class=\"left\">Scotland Women</td>\\n<td class=\"left\">19</td>\\n<td class=\"left\">2759</td>\\n<td class=\"left\">145</td>\\n</tr>,\n",
       " <tr>\\n<td class=\"left\">14</td>\\n<td class=\"left\">Nepal Women</td>\\n<td class=\"left\">17</td>\\n<td class=\"left\">2181</td>\\n<td class=\"left\">128</td>\\n</tr>,\n",
       " <tr>\\n<td class=\"left\">15</td>\\n<td class=\"left\">PNG Women</td>\\n<td class=\"left\">23</td>\\n<td class=\"left\">2894</td>\\n<td class=\"left\">126</td>\\n</tr>,\n",
       " <tr>\\n<td class=\"left\">16</td>\\n<td class=\"left\">UAE Women</td>\\n<td class=\"left\">19</td>\\n<td class=\"left\">2326</td>\\n<td class=\"left\">122</td>\\n</tr>,\n",
       " <tr>\\n<td class=\"left\">17</td>\\n<td class=\"left\">Uganda Women</td>\\n<td class=\"left\">25</td>\\n<td class=\"left\">3036</td>\\n<td class=\"left\">121</td>\\n</tr>,\n",
       " <tr>\\n<td class=\"left\">18</td>\\n<td class=\"left\">Samoa Women</td>\\n<td class=\"left\">15</td>\\n<td class=\"left\">1816</td>\\n<td class=\"left\">121</td>\\n</tr>,\n",
       " <tr>\\n<td class=\"left\">19</td>\\n<td class=\"left\">Tanzania Women</td>\\n<td class=\"left\">19</td>\\n<td class=\"left\">1915</td>\\n<td class=\"left\">101</td>\\n</tr>,\n",
       " <tr>\\n<td class=\"left\">20</td>\\n<td class=\"left\">Kenya Women</td>\\n<td class=\"left\">11</td>\\n<td class=\"left\">1053</td>\\n<td class=\"left\">96</td>\\n</tr>,\n",
       " <tr>\\n<td class=\"left\">21</td>\\n<td class=\"left\">Netherlands Women</td>\\n<td class=\"left\">19</td>\\n<td class=\"left\">1640</td>\\n<td class=\"left\">86</td>\\n</tr>,\n",
       " <tr>\\n<td class=\"left\">22</td>\\n<td class=\"left\">Indonesia Women</td>\\n<td class=\"left\">18</td>\\n<td class=\"left\">1448</td>\\n<td class=\"left\">80</td>\\n</tr>,\n",
       " <tr>\\n<td class=\"left\">23</td>\\n<td class=\"left\">Hong Kong Women</td>\\n<td class=\"left\">25</td>\\n<td class=\"left\">1841</td>\\n<td class=\"left\">74</td>\\n</tr>,\n",
       " <tr>\\n<td class=\"left\">24</td>\\n<td class=\"left\">Namibia Women</td>\\n<td class=\"left\">30</td>\\n<td class=\"left\">2103</td>\\n<td class=\"left\">70</td>\\n</tr>,\n",
       " <tr>\\n<td class=\"left\">25</td>\\n<td class=\"left\">China Women</td>\\n<td class=\"left\">23</td>\\n<td class=\"left\">1554</td>\\n<td class=\"left\">68</td>\\n</tr>,\n",
       " <tr>\\n<td class=\"left\">26</td>\\n<td class=\"left\">Japan Women</td>\\n<td class=\"left\">14</td>\\n<td class=\"left\">751</td>\\n<td class=\"left\">54</td>\\n</tr>,\n",
       " <tr>\\n<td class=\"left\">27</td>\\n<td class=\"left\">Vanuatu Women</td>\\n<td class=\"left\">15</td>\\n<td class=\"left\">734</td>\\n<td class=\"left\">49</td>\\n</tr>,\n",
       " <tr>\\n<td class=\"left\">28</td>\\n<td class=\"left\">Argentina Women</td>\\n<td class=\"left\">9</td>\\n<td class=\"left\">428</td>\\n<td class=\"left\">48</td>\\n</tr>,\n",
       " <tr>\\n<td class=\"left\">29</td>\\n<td class=\"left\">Malaysia Women</td>\\n<td class=\"left\">27</td>\\n<td class=\"left\">1183</td>\\n<td class=\"left\">44</td>\\n</tr>,\n",
       " <tr>\\n<td class=\"left\">30</td>\\n<td class=\"left\">Rwanda Women</td>\\n<td class=\"left\">20</td>\\n<td class=\"left\">851</td>\\n<td class=\"left\">43</td>\\n</tr>,\n",
       " <tr>\\n<td class=\"left\">31</td>\\n<td class=\"left\">Myanmar Women</td>\\n<td class=\"left\">10</td>\\n<td class=\"left\">424</td>\\n<td class=\"left\">42</td>\\n</tr>,\n",
       " <tr>\\n<td class=\"left\">32</td>\\n<td class=\"left\">USA Women</td>\\n<td class=\"left\">9</td>\\n<td class=\"left\">371</td>\\n<td class=\"left\">41</td>\\n</tr>,\n",
       " <tr>\\n<td class=\"left\">33</td>\\n<td class=\"left\">Jersey Women</td>\\n<td class=\"left\">7</td>\\n<td class=\"left\">280</td>\\n<td class=\"left\">40</td>\\n</tr>,\n",
       " <tr>\\n<td class=\"left\">34</td>\\n<td class=\"left\">Kuwait Women</td>\\n<td class=\"left\">8</td>\\n<td class=\"left\">309</td>\\n<td class=\"left\">39</td>\\n</tr>,\n",
       " <tr>\\n<td class=\"left\">35</td>\\n<td class=\"left\">Sierra Leone Women</td>\\n<td class=\"left\">8</td>\\n<td class=\"left\">308</td>\\n<td class=\"left\">39</td>\\n</tr>,\n",
       " <tr>\\n<td class=\"left\">36</td>\\n<td class=\"left\">France Women</td>\\n<td class=\"left\">9</td>\\n<td class=\"left\">333</td>\\n<td class=\"left\">37</td>\\n</tr>,\n",
       " <tr>\\n<td class=\"left\">37</td>\\n<td class=\"left\">Botswana Women</td>\\n<td class=\"left\">10</td>\\n<td class=\"left\">368</td>\\n<td class=\"left\">37</td>\\n</tr>,\n",
       " <tr>\\n<td class=\"left\">38</td>\\n<td class=\"left\">Germany Women</td>\\n<td class=\"left\">7</td>\\n<td class=\"left\">234</td>\\n<td class=\"left\">33</td>\\n</tr>,\n",
       " <tr>\\n<td class=\"left\">39</td>\\n<td class=\"left\">Nigeria Women</td>\\n<td class=\"left\">16</td>\\n<td class=\"left\">478</td>\\n<td class=\"left\">30</td>\\n</tr>,\n",
       " <tr>\\n<td class=\"left\">40</td>\\n<td class=\"left\">Denmark Women</td>\\n<td class=\"left\">3</td>\\n<td class=\"left\">85</td>\\n<td class=\"left\">28</td>\\n</tr>,\n",
       " <tr>\\n<td class=\"left\">41</td>\\n<td class=\"left\">Mexico Women</td>\\n<td class=\"left\">4</td>\\n<td class=\"left\">100</td>\\n<td class=\"left\">25</td>\\n</tr>,\n",
       " <tr>\\n<td class=\"left\">42</td>\\n<td class=\"left\">Brazil Women</td>\\n<td class=\"left\">11</td>\\n<td class=\"left\">256</td>\\n<td class=\"left\">23</td>\\n</tr>,\n",
       " <tr>\\n<td class=\"left\">43</td>\\n<td class=\"left\">South Korea Women</td>\\n<td class=\"left\">9</td>\\n<td class=\"left\">159</td>\\n<td class=\"left\">18</td>\\n</tr>,\n",
       " <tr>\\n<td class=\"left\">44</td>\\n<td class=\"left\">Bhutan Women</td>\\n<td class=\"left\">6</td>\\n<td class=\"left\">101</td>\\n<td class=\"left\">17</td>\\n</tr>,\n",
       " <tr>\\n<td class=\"left\">45</td>\\n<td class=\"left\">Malawi Women</td>\\n<td class=\"left\">3</td>\\n<td class=\"left\">34</td>\\n<td class=\"left\">11</td>\\n</tr>,\n",
       " <tr>\\n<td class=\"left\">46</td>\\n<td class=\"left\">Mozambique Women</td>\\n<td class=\"left\">9</td>\\n<td class=\"left\">94</td>\\n<td class=\"left\">10</td>\\n</tr>,\n",
       " <tr>\\n<td class=\"left\">47</td>\\n<td class=\"left\">Austria Women</td>\\n<td class=\"left\">6</td>\\n<td class=\"left\">54</td>\\n<td class=\"left\">9</td>\\n</tr>,\n",
       " <tr>\\n<td class=\"left\">48</td>\\n<td class=\"left\">Belgium Women</td>\\n<td class=\"left\">3</td>\\n<td class=\"left\">20</td>\\n<td class=\"left\">7</td>\\n</tr>,\n",
       " <tr>\\n<td class=\"left\">49</td>\\n<td class=\"left\">Chile Women</td>\\n<td class=\"left\">6</td>\\n<td class=\"left\">33</td>\\n<td class=\"left\">6</td>\\n</tr>,\n",
       " <tr>\\n<td class=\"left\">50</td>\\n<td class=\"left\">Peru Women</td>\\n<td class=\"left\">6</td>\\n<td class=\"left\">13</td>\\n<td class=\"left\">2</td>\\n</tr>,\n",
       " <tr>\\n<td class=\"left\">51</td>\\n<td class=\"left\">Singapore Women</td>\\n<td class=\"left\">10</td>\\n<td class=\"left\">6</td>\\n<td class=\"left\">1</td>\\n</tr>,\n",
       " <tr>\\n<td class=\"left\">52</td>\\n<td class=\"left\">Fiji Women</td>\\n<td class=\"left\">12</td>\\n<td class=\"left\">0</td>\\n<td class=\"left\">0</td>\\n</tr>,\n",
       " <tr>\\n<td class=\"left\">53</td>\\n<td class=\"left\">Norway Women</td>\\n<td class=\"left\">6</td>\\n<td class=\"left\">0</td>\\n<td class=\"left\">0</td>\\n</tr>,\n",
       " <tr>\\n<td class=\"left\">54</td>\\n<td class=\"left\">Mali Women</td>\\n<td class=\"left\">6</td>\\n<td class=\"left\">0</td>\\n<td class=\"left\">0</td>\\n</tr>,\n",
       " <tr>\\n<td class=\"left\">55</td>\\n<td class=\"left\">Lesotho Women</td>\\n<td class=\"left\">3</td>\\n<td class=\"left\">0</td>\\n<td class=\"left\">0</td>\\n</tr>]"
      ]
     },
     "execution_count": 11,
     "metadata": {},
     "output_type": "execute_result"
    }
   ],
   "source": [
    "parser.find_all(\"tr\")"
   ]
  },
  {
   "cell_type": "code",
   "execution_count": 12,
   "metadata": {},
   "outputs": [
    {
     "data": {
      "text/plain": [
       "[<h3>ICC Test Championship</h3>,\n",
       " <h3>ICC ODI Championship</h3>,\n",
       " <h3>ICC Twenty20 Rankings</h3>,\n",
       " <h3>ICC Women's ODI Team Rankings</h3>,\n",
       " <h3>ICC Women's T20 Team Rankings</h3>]"
      ]
     },
     "execution_count": 12,
     "metadata": {},
     "output_type": "execute_result"
    }
   ],
   "source": [
    "cric_format = parser.find_all(\"div\", class_ = \"ciPhotoContainer\")[0].select(\"h3\")\n",
    "cric_format"
   ]
  },
  {
   "cell_type": "code",
   "execution_count": 13,
   "metadata": {},
   "outputs": [
    {
     "data": {
      "text/plain": [
       "<table class=\"StoryengineTable\">\\n<caption>15 September 2019</caption>\\n<tr class=\"head\">\\n<th class=\"left\">Pos</th>\\n<th class=\"left\">Team</th>\\n<th class=\"left\">Matches</th>\\n<th class=\"left\">Points</th>\\n<th class=\"left\">Rating</th>\\n</tr>\\n<tr>\\n<td class=\"left\">1</td>\\n<td class=\"left\">India</td>\\n<td class=\"left\">35</td>\\n<td class=\"left\">4027</td>\\n<td class=\"left\">115</td>\\n</tr>\\n<tr>\\n<td class=\"left\">2</td>\\n<td class=\"left\">New Zealand</td>\\n<td class=\"left\">26</td>\\n<td class=\"left\">2829</td>\\n<td class=\"left\">109</td>\\n</tr>\\n<tr>\\n<td class=\"left\">3</td>\\n<td class=\"left\">South Africa</td>\\n<td class=\"left\">27</td>\\n<td class=\"left\">2917</td>\\n<td class=\"left\">108</td>\\n</tr>\\n<tr>\\n<td class=\"left\">4</td>\\n<td class=\"left\">England</td>\\n<td class=\"left\">42</td>\\n<td class=\"left\">4366</td>\\n<td class=\"left\">104</td>\\n</tr>\\n<tr>\\n<td class=\"left\">5</td>\\n<td class=\"left\">Australia</td>\\n<td class=\"left\">33</td>\\n<td class=\"left\">3270</td>\\n<td class=\"left\">99</td>\\n</tr>\\n<tr>\\n<td class=\"left\">6</td>\\n<td class=\"left\">Sri Lanka</td>\\n<td class=\"left\">40</td>\\n<td class=\"left\">3795</td>\\n<td class=\"left\">95</td>\\n</tr>\\n<tr>\\n<td class=\"left\">7</td>\\n<td class=\"left\">Pakistan</td>\\n<td class=\"left\">27</td>\\n<td class=\"left\">2263</td>\\n<td class=\"left\">84</td>\\n</tr>\\n<tr>\\n<td class=\"left\">8</td>\\n<td class=\"left\">West Indies</td>\\n<td class=\"left\">32</td>\\n<td class=\"left\">2570</td>\\n<td class=\"left\">80</td>\\n</tr>\\n<tr>\\n<td class=\"left\">9</td>\\n<td class=\"left\">Bangladesh</td>\\n<td class=\"left\">23</td>\\n<td class=\"left\">1413</td>\\n<td class=\"left\">61</td>\\n</tr>\\n<tr>\\n<td class=\"left\">10</td>\\n<td class=\"left\">Afghanistan</td>\\n<td class=\"left\">3</td>\\n<td class=\"left\">165</td>\\n<td class=\"left\">55</td>\\n</tr>\\n<tr>\\n<td class=\"left\">11</td>\\n<td class=\"left\">Zimbabwe</td>\\n<td class=\"left\">9</td>\\n<td class=\"left\">140</td>\\n<td class=\"left\">16</td>\\n</tr>\\n<tr>\\n<td class=\"left\">12</td>\\n<td class=\"left\">Ireland</td>\\n<td class=\"left\">3</td>\\n<td class=\"left\">0</td>\\n<td class=\"left\">0</td>\\n</tr>\\n</table>"
      ]
     },
     "execution_count": 13,
     "metadata": {},
     "output_type": "execute_result"
    }
   ],
   "source": [
    "ranking = parser.find_all(\"table\", class_ = \"StoryengineTable\")\n",
    "ranking[0]"
   ]
  },
  {
   "cell_type": "code",
   "execution_count": 1,
   "metadata": {},
   "outputs": [
    {
     "ename": "SyntaxError",
     "evalue": "invalid syntax (<ipython-input-1-d3c665298cd9>, line 13)",
     "output_type": "error",
     "traceback": [
      "\u001b[1;36m  File \u001b[1;32m\"<ipython-input-1-d3c665298cd9>\"\u001b[1;36m, line \u001b[1;32m13\u001b[0m\n\u001b[1;33m    print(\"{:20}\".format(y.text), end = \"\")\u001b[0m\n\u001b[1;37m                                      ^\u001b[0m\n\u001b[1;31mSyntaxError\u001b[0m\u001b[1;31m:\u001b[0m invalid syntax\n"
     ]
    }
   ],
   "source": [
    "for i, value in enumerate(ranking):\n",
    "    print(cric_format[i].text)\n",
    "    print()\n",
    "    print(value.caption.text)\n",
    "    tr = value.find_all(\"tr\")\n",
    "    j = 0\n",
    "    for t in tr:\n",
    "        if j == 0:\n",
    "            search = \"th\"\n",
    "        else:\n",
    "            search = \"td\"\n",
    "        for y in t.find_all(search):\n",
    "            print(\"{:20}\".format(y.text), end = \"\")\n",
    "            j+=1\n",
    "            print()\n",
    "        print()"
   ]
  },
  {
   "cell_type": "code",
   "execution_count": null,
   "metadata": {},
   "outputs": [],
   "source": []
  },
  {
   "cell_type": "code",
   "execution_count": null,
   "metadata": {},
   "outputs": [],
   "source": []
  }
 ],
 "metadata": {
  "kernelspec": {
   "display_name": "Python 2",
   "language": "python",
   "name": "python2"
  },
  "language_info": {
   "codemirror_mode": {
    "name": "ipython",
    "version": 2
   },
   "file_extension": ".py",
   "mimetype": "text/x-python",
   "name": "python",
   "nbconvert_exporter": "python",
   "pygments_lexer": "ipython2",
   "version": "2.7.16"
  }
 },
 "nbformat": 4,
 "nbformat_minor": 2
}
