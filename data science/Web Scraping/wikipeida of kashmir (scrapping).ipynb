{
 "cells": [
  {
   "cell_type": "code",
   "execution_count": 1,
   "metadata": {},
   "outputs": [],
   "source": [
    "import requests\n",
    "from bs4 import BeautifulSoup"
   ]
  },
  {
   "cell_type": "code",
   "execution_count": 2,
   "metadata": {},
   "outputs": [
    {
     "data": {
      "text/plain": [
       "200"
      ]
     },
     "execution_count": 2,
     "metadata": {},
     "output_type": "execute_result"
    }
   ],
   "source": [
    "response = requests.get(\"https://en.wikipedia.org/wiki/Kashmir\")\n",
    "response.status_code"
   ]
  },
  {
   "cell_type": "code",
   "execution_count": 3,
   "metadata": {},
   "outputs": [],
   "source": [
    "content = response.content\n",
    "#content"
   ]
  },
  {
   "cell_type": "code",
   "execution_count": 4,
   "metadata": {},
   "outputs": [],
   "source": [
    "parser = BeautifulSoup(content,\"html.parser\")\n",
    "#parser"
   ]
  },
  {
   "cell_type": "code",
   "execution_count": 5,
   "metadata": {},
   "outputs": [],
   "source": [
    "con = parser.find_all(\"div\",{\"class\":\"toctitle\"})[0].text"
   ]
  },
  {
   "cell_type": "code",
   "execution_count": 6,
   "metadata": {},
   "outputs": [],
   "source": [
    "con_names = parser.find_all(\"span\",{\"class\":\"toctext\"})"
   ]
  },
  {
   "cell_type": "code",
   "execution_count": 7,
   "metadata": {},
   "outputs": [
    {
     "name": "stdout",
     "output_type": "stream",
     "text": [
      "(0, u'Etymology')\n",
      "(1, u'History')\n",
      "(2, u'Hinduism and Buddhism in Kashmir')\n",
      "(3, u'Shah Mir Dynasty')\n",
      "(4, u'Mughal rule')\n",
      "(5, u'Afghan rule')\n",
      "(6, u'Sikh rule')\n",
      "(7, u'Princely state')\n",
      "(8, u'1947 and 1948')\n",
      "(9, u'Current status and political divisions')\n",
      "(10, u'Demographics')\n",
      "(11, u'Economy')\n",
      "(12, u'Transport')\n",
      "(13, u'See also')\n",
      "(14, u'Notes')\n",
      "(15, u'Bibliography')\n",
      "(16, u'General history')\n",
      "(17, u'Kashmir history')\n",
      "(18, u'Historical sources')\n",
      "(19, u'External links')\n"
     ]
    }
   ],
   "source": [
    "for i, value in enumerate(con_names):\n",
    "    print(i,value.text)"
   ]
  },
  {
   "cell_type": "code",
   "execution_count": 8,
   "metadata": {},
   "outputs": [],
   "source": [
    "discri = parser.find_all(\"span\",{\"class\":\"mw-headline\"})"
   ]
  },
  {
   "cell_type": "code",
   "execution_count": 15,
   "metadata": {},
   "outputs": [
    {
     "name": "stdout",
     "output_type": "stream",
     "text": [
      "(0, <span class=\"mw-headline\" id=\"Etymology\">Etymology</span>)\n",
      "                   0sequence\n",
      "(1, <span class=\"mw-headline\" id=\"History\">History</span>)\n",
      "                   1sequence\n",
      "(2, <span class=\"mw-headline\" id=\"Hinduism_and_Buddhism_in_Kashmir\">Hinduism and Buddhism in Kashmir</span>)\n",
      "                   2sequence\n",
      "(3, <span class=\"mw-headline\" id=\"Shah_Mir_Dynasty\">Shah Mir Dynasty</span>)\n",
      "                   3sequence\n",
      "(4, <span class=\"mw-headline\" id=\"Mughal_rule\">Mughal rule</span>)\n",
      "                   4sequence\n",
      "(5, <span class=\"mw-headline\" id=\"Afghan_rule\">Afghan rule</span>)\n",
      "                   5sequence\n",
      "(6, <span class=\"mw-headline\" id=\"Sikh_rule\">Sikh rule</span>)\n",
      "                   6sequence\n",
      "(7, <span class=\"mw-headline\" id=\"Princely_state\">Princely state</span>)\n",
      "                   7sequence\n",
      "(8, <span class=\"mw-headline\" id=\"1947_and_1948\">1947 and 1948</span>)\n",
      "                   8sequence\n",
      "(9, <span class=\"mw-headline\" id=\"Current_status_and_political_divisions\">Current status and political divisions</span>)\n",
      "                   9sequence\n",
      "(10, <span class=\"mw-headline\" id=\"Demographics\">Demographics</span>)\n",
      "                  10sequence\n",
      "(11, <span class=\"mw-headline\" id=\"Economy\">Economy</span>)\n",
      "                  11sequence\n",
      "(12, <span class=\"mw-headline\" id=\"Transport\">Transport</span>)\n",
      "                  12sequence\n",
      "(13, <span class=\"mw-headline\" id=\"See_also\">See also</span>)\n",
      "                  13sequence\n",
      "(14, <span class=\"mw-headline\" id=\"Notes\">Notes</span>)\n",
      "                  14sequence\n",
      "(15, <span class=\"mw-headline\" id=\"Bibliography\">Bibliography</span>)\n",
      "                  15sequence\n",
      "(16, <span class=\"mw-headline\" id=\"General_history\">General history</span>)\n",
      "                  16sequence\n",
      "(17, <span class=\"mw-headline\" id=\"Kashmir_history\">Kashmir history</span>)\n",
      "                  17sequence\n",
      "(18, <span class=\"mw-headline\" id=\"Historical_sources\">Historical sources</span>)\n",
      "                  18sequence\n",
      "(19, <span class=\"mw-headline\" id=\"External_links\">External links</span>)\n",
      "                  19sequence\n"
     ]
    }
   ],
   "source": [
    "for i,value in enumerate(discri):\n",
    "    print(i,value)\n",
    "    print(\"{:20}sequence\".format(i))"
   ]
  },
  {
   "cell_type": "code",
   "execution_count": null,
   "metadata": {},
   "outputs": [],
   "source": []
  }
 ],
 "metadata": {
  "kernelspec": {
   "display_name": "Python 2",
   "language": "python",
   "name": "python2"
  },
  "language_info": {
   "codemirror_mode": {
    "name": "ipython",
    "version": 2
   },
   "file_extension": ".py",
   "mimetype": "text/x-python",
   "name": "python",
   "nbconvert_exporter": "python",
   "pygments_lexer": "ipython2",
   "version": "2.7.16"
  }
 },
 "nbformat": 4,
 "nbformat_minor": 2
}
