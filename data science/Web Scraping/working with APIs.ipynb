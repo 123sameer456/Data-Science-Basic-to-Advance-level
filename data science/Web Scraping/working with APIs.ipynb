{
 "cells": [
  {
   "cell_type": "code",
   "execution_count": 83,
   "metadata": {},
   "outputs": [],
   "source": [
    "import requests\n",
    "response = requests.get(\"http://api.open-notify.org/iss-now.json\")\n"
   ]
  },
  {
   "cell_type": "code",
   "execution_count": 84,
   "metadata": {},
   "outputs": [
    {
     "data": {
      "text/plain": [
       "200"
      ]
     },
     "execution_count": 84,
     "metadata": {},
     "output_type": "execute_result"
    }
   ],
   "source": [
    "response.status_code"
   ]
  },
  {
   "cell_type": "code",
   "execution_count": 85,
   "metadata": {},
   "outputs": [
    {
     "data": {
      "text/plain": [
       "'{\"iss_position\": {\"latitude\": \"-7.0247\", \"longitude\": \"-175.7969\"}, \"timestamp\": 1570357490, \"message\": \"success\"}'"
      ]
     },
     "execution_count": 85,
     "metadata": {},
     "output_type": "execute_result"
    }
   ],
   "source": [
    "response.content"
   ]
  },
  {
   "cell_type": "code",
   "execution_count": 86,
   "metadata": {},
   "outputs": [
    {
     "data": {
      "text/plain": [
       "{u'iss_position': {u'latitude': u'-7.0247', u'longitude': u'-175.7969'},\n",
       " u'message': u'success',\n",
       " u'timestamp': 1570357490}"
      ]
     },
     "execution_count": 86,
     "metadata": {},
     "output_type": "execute_result"
    }
   ],
   "source": [
    "output = response.json()\n",
    "output"
   ]
  },
  {
   "cell_type": "code",
   "execution_count": 87,
   "metadata": {},
   "outputs": [
    {
     "data": {
      "text/plain": [
       "u'-7.0247'"
      ]
     },
     "execution_count": 87,
     "metadata": {},
     "output_type": "execute_result"
    }
   ],
   "source": [
    "output['iss_position']['latitude']"
   ]
  },
  {
   "cell_type": "code",
   "execution_count": 88,
   "metadata": {},
   "outputs": [],
   "source": [
    "from requests import get \n"
   ]
  },
  {
   "cell_type": "code",
   "execution_count": 89,
   "metadata": {},
   "outputs": [
    {
     "data": {
      "text/plain": [
       "'{\\n  \"message\": \"success\", \\n  \"request\": {\\n    \"altitude\": 100, \\n    \"datetime\": 1570355719, \\n    \"latitude\": 7.65273, \\n    \"longitude\": 15.54706, \\n    \"passes\": 5\\n  }, \\n  \"response\": [\\n    {\\n      \"duration\": 317, \\n      \"risetime\": 1570360362\\n    }, \\n    {\\n      \"duration\": 494, \\n      \"risetime\": 1570390210\\n    }, \\n    {\\n      \"duration\": 621, \\n      \"risetime\": 1570395944\\n    }, \\n    {\\n      \"duration\": 626, \\n      \"risetime\": 1570437891\\n    }, \\n    {\\n      \"duration\": 501, \\n      \"risetime\": 1570443751\\n    }\\n  ]\\n}\\n'"
      ]
     },
     "execution_count": 89,
     "metadata": {},
     "output_type": "execute_result"
    }
   ],
   "source": [
    "response1 = get(\"http://api.open-notify.org/iss-pass.json?lat=7.652730&lon=15.547060\")\n",
    "resp = response1.content\n",
    "resp"
   ]
  },
  {
   "cell_type": "code",
   "execution_count": 90,
   "metadata": {},
   "outputs": [],
   "source": [
    "response1 = get(\"http://api.open-notify.org/iss-pass.json?lat=7.652730&lon=15.547060\")\n",
    "\n"
   ]
  },
  {
   "cell_type": "code",
   "execution_count": 91,
   "metadata": {},
   "outputs": [
    {
     "data": {
      "text/plain": [
       "200"
      ]
     },
     "execution_count": 91,
     "metadata": {},
     "output_type": "execute_result"
    }
   ],
   "source": [
    "response1.status_code"
   ]
  },
  {
   "cell_type": "code",
   "execution_count": 92,
   "metadata": {},
   "outputs": [],
   "source": [
    "dur = response1.json()"
   ]
  },
  {
   "cell_type": "code",
   "execution_count": 93,
   "metadata": {},
   "outputs": [
    {
     "data": {
      "text/plain": [
       "{u'message': u'success',\n",
       " u'request': {u'altitude': 100,\n",
       "  u'datetime': 1570355719,\n",
       "  u'latitude': 7.65273,\n",
       "  u'longitude': 15.54706,\n",
       "  u'passes': 5},\n",
       " u'response': [{u'duration': 317, u'risetime': 1570360362},\n",
       "  {u'duration': 494, u'risetime': 1570390210},\n",
       "  {u'duration': 621, u'risetime': 1570395944},\n",
       "  {u'duration': 626, u'risetime': 1570437891},\n",
       "  {u'duration': 501, u'risetime': 1570443751}]}"
      ]
     },
     "execution_count": 93,
     "metadata": {},
     "output_type": "execute_result"
    }
   ],
   "source": [
    "dur"
   ]
  },
  {
   "cell_type": "code",
   "execution_count": 94,
   "metadata": {},
   "outputs": [
    {
     "data": {
      "text/plain": [
       "317"
      ]
     },
     "execution_count": 94,
     "metadata": {},
     "output_type": "execute_result"
    }
   ],
   "source": [
    "dur[\"response\"][0]['duration']"
   ]
  },
  {
   "cell_type": "code",
   "execution_count": 95,
   "metadata": {},
   "outputs": [],
   "source": [
    "people_in_aircraft = get(\"http://api.open-notify.org/astros.json\")"
   ]
  },
  {
   "cell_type": "code",
   "execution_count": 96,
   "metadata": {},
   "outputs": [
    {
     "data": {
      "text/plain": [
       "200"
      ]
     },
     "execution_count": 96,
     "metadata": {},
     "output_type": "execute_result"
    }
   ],
   "source": [
    "people_in_aircraft.status_code"
   ]
  },
  {
   "cell_type": "code",
   "execution_count": 108,
   "metadata": {},
   "outputs": [],
   "source": [
    " q = people_in_aircraft.json()"
   ]
  },
  {
   "cell_type": "code",
   "execution_count": 109,
   "metadata": {},
   "outputs": [
    {
     "data": {
      "text/plain": [
       "6"
      ]
     },
     "execution_count": 109,
     "metadata": {},
     "output_type": "execute_result"
    }
   ],
   "source": [
    "q['number']"
   ]
  },
  {
   "cell_type": "code",
   "execution_count": 110,
   "metadata": {},
   "outputs": [
    {
     "data": {
      "text/plain": [
       "{'Content-Length': '114', 'Server': 'nginx/1.10.3', 'Connection': 'keep-alive', 'Date': 'Sun, 06 Oct 2019 10:24:50 GMT', 'access-control-allow-origin': '*', 'Content-Type': 'application/json'}"
      ]
     },
     "execution_count": 110,
     "metadata": {},
     "output_type": "execute_result"
    }
   ],
   "source": [
    "response.headers                #type bta deta ha header ka function"
   ]
  },
  {
   "cell_type": "code",
   "execution_count": null,
   "metadata": {},
   "outputs": [],
   "source": []
  }
 ],
 "metadata": {
  "kernelspec": {
   "display_name": "Python 2",
   "language": "python",
   "name": "python2"
  },
  "language_info": {
   "codemirror_mode": {
    "name": "ipython",
    "version": 2
   },
   "file_extension": ".py",
   "mimetype": "text/x-python",
   "name": "python",
   "nbconvert_exporter": "python",
   "pygments_lexer": "ipython2",
   "version": "2.7.16"
  }
 },
 "nbformat": 4,
 "nbformat_minor": 2
}
