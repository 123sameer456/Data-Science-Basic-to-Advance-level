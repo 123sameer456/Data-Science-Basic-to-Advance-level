{
 "cells": [
  {
   "cell_type": "markdown",
   "metadata": {},
   "source": [
    "P(A n B)=P(A) * P(B) # independent\n",
    "\n",
    "P(A n B)=P(A|B) * P(B) # Dependent\n",
    "\n",
    "P(A n B)=P(B|A) * P(A) # Dependent\n"
   ]
  },
  {
   "cell_type": "markdown",
   "metadata": {},
   "source": [
    "P(spam)=0.2388\n",
    "\n",
    "P(secret | spam) = 0.4802\n",
    "\n",
    "P(secret | spam$^C$) = 0.1284\n"
   ]
  },
  {
   "cell_type": "markdown",
   "metadata": {},
   "source": [
    "Find P(spam' n secret)\n",
    "\n",
    "Find P(secret)\n"
   ]
  },
  {
   "cell_type": "markdown",
   "metadata": {},
   "source": [
    "P(spam')=1-P(spam)"
   ]
  },
  {
   "cell_type": "code",
   "execution_count": 5,
   "metadata": {},
   "outputs": [
    {
     "data": {
      "text/plain": [
       "0.7612"
      ]
     },
     "execution_count": 5,
     "metadata": {},
     "output_type": "execute_result"
    }
   ],
   "source": [
    "1-0.2388"
   ]
  },
  {
   "cell_type": "markdown",
   "metadata": {},
   "source": [
    "P(spam' n secret) = P(spam') * P(secret | spam')"
   ]
  },
  {
   "cell_type": "code",
   "execution_count": 3,
   "metadata": {},
   "outputs": [
    {
     "data": {
      "text/plain": [
       "0.09773807999999999"
      ]
     },
     "execution_count": 3,
     "metadata": {},
     "output_type": "execute_result"
    }
   ],
   "source": [
    "0.7612 * 0.1284"
   ]
  },
  {
   "cell_type": "markdown",
   "metadata": {},
   "source": [
    "P(secret n spam) = P(secret) * P(spam | secret)\n",
    "\n",
    "P(secret) = P(secret n spam) U P(secret n spam') = P(secret n spam) + P(secret n spam')"
   ]
  },
  {
   "cell_type": "markdown",
   "metadata": {},
   "source": [
    "P(secret n spam)=P(spam) * P(secret | spam)"
   ]
  },
  {
   "cell_type": "code",
   "execution_count": 8,
   "metadata": {},
   "outputs": [
    {
     "data": {
      "text/plain": [
       "0.11467176000000001"
      ]
     },
     "execution_count": 8,
     "metadata": {},
     "output_type": "execute_result"
    }
   ],
   "source": [
    "0.2388*0.4802 # P(secret n spam)"
   ]
  },
  {
   "cell_type": "code",
   "execution_count": 9,
   "metadata": {},
   "outputs": [
    {
     "data": {
      "text/plain": [
       "0.2123"
      ]
     },
     "execution_count": 9,
     "metadata": {},
     "output_type": "execute_result"
    }
   ],
   "source": [
    "0.0977+0.1146 # P(secret)"
   ]
  },
  {
   "cell_type": "markdown",
   "metadata": {},
   "source": [
    "# BAYES THEOREM"
   ]
  },
  {
   "cell_type": "markdown",
   "metadata": {},
   "source": [
    "P(A|B) = P(AnB) / P(B)\n",
    "\n",
    "P(A|B) = P(A) * P(B|A) / P(B)\n",
    "\n",
    "P(A|B) = (P(A) * P(B|A)) / (P(A'n B) + P(A n B))\n"
   ]
  },
  {
   "cell_type": "markdown",
   "metadata": {},
   "source": [
    "P(spam | secret) = ?"
   ]
  },
  {
   "cell_type": "markdown",
   "metadata": {},
   "source": [
    "P(spam | secret)=P(spam)*P(secret|spam)/P(secret)"
   ]
  },
  {
   "cell_type": "markdown",
   "metadata": {},
   "source": [
    "P(spam' | secret)=P(spam')*P(secret|spam')/(P(spam n secret) + P(spam' n secret))"
   ]
  },
  {
   "cell_type": "markdown",
   "metadata": {},
   "source": [
    "P(spam | secret)=(0.2388*0.4802)/(0.2123)"
   ]
  },
  {
   "cell_type": "code",
   "execution_count": 11,
   "metadata": {},
   "outputs": [
    {
     "data": {
      "text/plain": [
       "0.5401401789919925"
      ]
     },
     "execution_count": 11,
     "metadata": {},
     "output_type": "execute_result"
    }
   ],
   "source": [
    "(0.2388*0.4802)/(0.2123)"
   ]
  },
  {
   "cell_type": "markdown",
   "metadata": {},
   "source": [
    "1-spam = secret money secret secret\n",
    "\n",
    "2-spam = money secret place\n",
    "\n",
    "3-non spam = you know the secret\n",
    "\n",
    "4-          = secret\n",
    "\n"
   ]
  },
  {
   "cell_type": "markdown",
   "metadata": {},
   "source": [
    "P(spam)=2/3=0.6666\n",
    "\n",
    "P(non spam)= 1/3=0.3333\n",
    "\n",
    "P(secret | spam) = 4/7\n"
   ]
  },
  {
   "cell_type": "markdown",
   "metadata": {},
   "source": [
    "P(spam | secret)=P(spam)*P(secret|spam)/(P(spam n secret) + P(spam' n secret))"
   ]
  },
  {
   "cell_type": "markdown",
   "metadata": {},
   "source": [
    "P(spam' | secret)=P(spam')*P(secret|spam')/(P(spam n secret) + P(spam' n secret))"
   ]
  },
  {
   "cell_type": "markdown",
   "metadata": {},
   "source": [
    "P(spam n secret)=P(spam)*P(secret|spam)\n",
    "\n",
    "P(spam' n secret)=P(spam')*P(secret|spam')"
   ]
  },
  {
   "cell_type": "code",
   "execution_count": 14,
   "metadata": {},
   "outputs": [
    {
     "data": {
      "text/plain": [
       "0.38057142857142856"
      ]
     },
     "execution_count": 14,
     "metadata": {},
     "output_type": "execute_result"
    }
   ],
   "source": [
    "0.666*(4/7)"
   ]
  },
  {
   "cell_type": "code",
   "execution_count": 15,
   "metadata": {},
   "outputs": [
    {
     "data": {
      "text/plain": [
       "0.1427142857142857"
      ]
     },
     "execution_count": 15,
     "metadata": {},
     "output_type": "execute_result"
    }
   ],
   "source": [
    "0.333*(3/7)"
   ]
  },
  {
   "cell_type": "code",
   "execution_count": 16,
   "metadata": {},
   "outputs": [
    {
     "data": {
      "text/plain": [
       "0.5232"
      ]
     },
     "execution_count": 16,
     "metadata": {},
     "output_type": "execute_result"
    }
   ],
   "source": [
    "0.3805+0.1427 # P(secret)"
   ]
  },
  {
   "cell_type": "code",
   "execution_count": 17,
   "metadata": {},
   "outputs": [
    {
     "data": {
      "text/plain": [
       "0.727391874180865"
      ]
     },
     "execution_count": 17,
     "metadata": {},
     "output_type": "execute_result"
    }
   ],
   "source": [
    "(0.666*(4/7))/(0.5232)"
   ]
  },
  {
   "cell_type": "markdown",
   "metadata": {},
   "source": [
    "Naive Bayes ignores the denominator\n",
    "\n",
    "P(spam | secret) = P(spam)*P(secret|spam)\n",
    "\n",
    "P(spam' | secret) = P(spam')*P(secret|spam')\n"
   ]
  },
  {
   "cell_type": "markdown",
   "metadata": {},
   "source": [
    "non spam = secret meeting at my place\n",
    "\n",
    "spam = secret money secret secret\n",
    "\n",
    "spam = money secret place\n",
    "\n",
    "non spam = you know the secret\n",
    "\n",
    "       = secret place secret secret\n",
    "       \n",
    "       \n",
    "       "
   ]
  },
  {
   "cell_type": "markdown",
   "metadata": {},
   "source": [
    "P(spam|secret place secret secret)=? \n",
    "\n",
    "P(spam)*P(secret|spam)*P(place|spam)*P(secret|spam)*P(secret|spam)\n",
    "\n",
    "P(spam'|secret place secret secret)=? \n",
    "\n",
    "P(spam')*P(secret|spam')*P(place|spam')*P(secret|spam')*P(secret|spam')"
   ]
  },
  {
   "cell_type": "markdown",
   "metadata": {},
   "source": [
    "### ASSIGNMENT\n",
    "\n",
    "p_spam = 2/4 = 0.5\n",
    "\n",
    "p_non_spam = 2/4 = 0.5\n",
    "\n",
    "p(secret|spam) = 4/7 =  0.5714\n",
    "\n",
    "p(secret|spam$^c$) = 2/9 = 0.2222\n",
    "  \n",
    "p(place|spam) = 1/7 = 0.1428\n",
    "  \n",
    "p(place|spam$^c$) = 1/9 = 0.1111\n",
    "  \n",
    "P(spam|secret place secret secret)=P(spam)P(secret|spam)P(place|spam)P(secret|spam)P(secret|spam)\n",
    "  \n",
    "P(spam|secret place secret secret)= (0.5)*(0.5714)*(0.1428)*(0.5714)*(0.5714)\n",
    "  \n",
    "P(spam|secret place secret secret)= 0.013343\n",
    "  \n",
    "\n",
    "  \n",
    "P(spam$^c$|secret place secret secret)=P(spam$^c$)P(secret|spam$^c$)P(place|spam$^c$)P(secret|spam$^c$)P(secret|spam$^c$)\n",
    "  \n",
    "P(spam$^c$|secret place secret secret)= (0.5)*(0.2222)*(0.1111)*(0.2222)*(0.2222)\n",
    "  \n",
    "P(spam$^c$|secret place secret secret)= 0.0006094\n",
    "  "
   ]
  },
  {
   "cell_type": "markdown",
   "metadata": {},
   "source": [
    "### ASSIGNMENT 2\n",
    "\n",
    "non spam = secret meeting at my place\n",
    "\n",
    "spam = secret money secret secret\n",
    "\n",
    "spam = money secret place\n",
    "\n",
    "non spam = you know the secret\n",
    "\n",
    "\n",
    "P(spam|secret code to unlock the money)=?\n",
    "\n",
    "P(spam)*P(secret|spam)*P(code|spam)*P(to|spam)*P(unlock|spam) *P(the|spam)*P(money|spam)\n",
    "\n",
    "P(spam)*P(secret|spam)*P(the|spam)*P(money|spam)\n",
    "\n",
    "P(spam'|secret code to unlock the money)=?P(spam')*P(secret|spam')*P(the|spam')*P(money|spam')\n"
   ]
  },
  {
   "cell_type": "markdown",
   "metadata": {},
   "source": [
    "both will turn out to be zero\n",
    "in this case we will use"
   ]
  },
  {
   "cell_type": "markdown",
   "metadata": {},
   "source": [
    "# additive smothing"
   ]
  },
  {
   "cell_type": "markdown",
   "metadata": {},
   "source": [
    "laplcae smoothin (add one) it is denoted as alpha\n",
    "Lindstone smoothing (less than one) "
   ]
  },
  {
   "cell_type": "code",
   "execution_count": 18,
   "metadata": {},
   "outputs": [
    {
     "data": {
      "text/plain": [
       "0.0625"
      ]
     },
     "execution_count": 18,
     "metadata": {},
     "output_type": "execute_result"
    }
   ],
   "source": [
    "(0+1)/(7+1*9)"
   ]
  },
  {
   "cell_type": "code",
   "execution_count": 19,
   "metadata": {},
   "outputs": [
    {
     "data": {
      "text/plain": [
       "0.05555555555555555"
      ]
     },
     "execution_count": 19,
     "metadata": {},
     "output_type": "execute_result"
    }
   ],
   "source": [
    "(0+1)/(9+1*9)"
   ]
  }
 ],
 "metadata": {
  "kernelspec": {
   "display_name": "Python 2",
   "language": "python",
   "name": "python2"
  },
  "language_info": {
   "codemirror_mode": {
    "name": "ipython",
    "version": 2
   },
   "file_extension": ".py",
   "mimetype": "text/x-python",
   "name": "python",
   "nbconvert_exporter": "python",
   "pygments_lexer": "ipython2",
   "version": "2.7.16"
  }
 },
 "nbformat": 4,
 "nbformat_minor": 2
}
