{
 "cells": [
  {
   "cell_type": "markdown",
   "metadata": {},
   "source": [
    "when outcome is not certain then  we will deal with the random experiment"
   ]
  },
  {
   "cell_type": "markdown",
   "metadata": {},
   "source": [
    "two methods of probability :\n",
    "    1. experimental (emperical)\n",
    "    2. theoritical"
   ]
  },
  {
   "cell_type": "markdown",
   "metadata": {},
   "source": [
    "e=event\n",
    "p =probabiltiy\n",
    "experimental (emperical) formulla:\n",
    "p(E) = number of times event occurs/no. of experiment perform\n"
   ]
  },
  {
   "cell_type": "markdown",
   "metadata": {},
   "source": [
    "there are two methods  of probablity:\n",
    "1. addition \n",
    "addtion can be categorized into two methods.\n",
    "    a. mutual experiment.\n",
    "        when we start probablity then outcome only one at a time then it is said to be mutual experiment.\n",
    "        E.G: when we toss the coin.infect, one outcome is begin at a time(heads or tails) both are not come simultaneously. \n",
    "    b. non-mutal experiment.\n",
    "    when we start probablity then outcome  two  or more at a time then it is said to be non-mutual experiment.\n",
    "        E.G: .\n",
    "2. multiplication\n",
    "    "
   ]
  },
  {
   "cell_type": "markdown",
   "metadata": {},
   "source": [
    "theoritical formulla:\n",
    "no. of successful event/possible outcomes\n",
    "note: "
   ]
  },
  {
   "cell_type": "markdown",
   "metadata": {},
   "source": [
    "mutual exclusive\n",
    "non mutual exclusive"
   ]
  },
  {
   "cell_type": "code",
   "execution_count": null,
   "metadata": {},
   "outputs": [],
   "source": []
  }
 ],
 "metadata": {
  "kernelspec": {
   "display_name": "Python 2",
   "language": "python",
   "name": "python2"
  },
  "language_info": {
   "codemirror_mode": {
    "name": "ipython",
    "version": 2
   },
   "file_extension": ".py",
   "mimetype": "text/x-python",
   "name": "python",
   "nbconvert_exporter": "python",
   "pygments_lexer": "ipython2",
   "version": "2.7.16"
  }
 },
 "nbformat": 4,
 "nbformat_minor": 2
}
