{
 "cells": [
  {
   "cell_type": "markdown",
   "metadata": {},
   "source": [
    "when outcome is not certain then  we will deal with the random experiment"
   ]
  },
  {
   "cell_type": "markdown",
   "metadata": {},
   "source": [
    "two methods of probability :\n",
    "    1. experimental (emperical)\n",
    "    2. theoritical"
   ]
  },
  {
   "cell_type": "markdown",
   "metadata": {},
   "source": [
    "e=event\n",
    "p =probabiltiy\n",
    "experimental (emperical) formulla:\n",
    "p(E) = number of times event occurs/no. of experiment perform\n"
   ]
  },
  {
   "cell_type": "markdown",
   "metadata": {},
   "source": [
    "there are two methods  of probablity:\n",
    "1. addition \n",
    "addtion can be categorized into two methods.\n",
    "    a. mutual experiment.\n",
    "        when we start probablity then outcome only one at a time then it is said to be mutual experiment.\n",
    "        E.G: when we toss the coin.infect, one outcome is begin at a time(heads or tails) both are not come simultaneously. \n",
    "    b. non-mutal experiment.\n",
    "    when we start probablity then outcome  two  or more at a time then it is said to be non-mutual experiment.\n",
    "        E.G: .\n",
    "2. multiplication:\n",
    "    \n",
    "    p(AnB) = P(A) X P(B)\n",
    "     "
   ]
  },
  {
   "cell_type": "markdown",
   "metadata": {},
   "source": [
    "theoritical formulla:\n",
    "no. of successful event/possible outcomes\n",
    "note: "
   ]
  },
  {
   "cell_type": "markdown",
   "metadata": {},
   "source": [
    "mutual exclusive\n",
    "non mutual exclusive"
   ]
  },
  {
   "cell_type": "markdown",
   "metadata": {},
   "source": [
    "P(A U Non_A) = P(A) + P(Non_A)\n",
    "\n",
    "P(A U A'COMPLEMENT') = P(A) + P(A'COMPLEMENT)\n",
    "\n",
    "Event A = probablity of getting atleast one head if i flip a coin 3 times or more\n",
    "\n",
    "Event A'COMPLEMENT'\n"
   ]
  },
  {
   "cell_type": "code",
   "execution_count": 2,
   "metadata": {},
   "outputs": [
    {
     "name": "stdout",
     "output_type": "stream",
     "text": [
      "(0, 1)\n"
     ]
    }
   ],
   "source": [
    "# {HH,HT,TH}\n",
    "#{HH,HT,TH,TT}\n",
    "P_A_C = 3/4\n",
    "P_A = 1 - P_A_C\n",
    "print(P_A_C ,P_A )"
   ]
  },
  {
   "cell_type": "code",
   "execution_count": 5,
   "metadata": {},
   "outputs": [
    {
     "data": {
      "text/plain": [
       "36"
      ]
     },
     "execution_count": 5,
     "metadata": {},
     "output_type": "execute_result"
    }
   ],
   "source": [
    "2*18"
   ]
  },
  {
   "cell_type": "code",
   "execution_count": 6,
   "metadata": {},
   "outputs": [
    {
     "data": {
      "text/plain": [
       "262144"
      ]
     },
     "execution_count": 6,
     "metadata": {},
     "output_type": "execute_result"
    }
   ],
   "source": [
    "2**18"
   ]
  },
  {
   "cell_type": "code",
   "execution_count": 9,
   "metadata": {},
   "outputs": [
    {
     "data": {
      "text/plain": [
       "0"
      ]
     },
     "execution_count": 9,
     "metadata": {},
     "output_type": "execute_result"
    }
   ],
   "source": [
    "(1/6)**3"
   ]
  },
  {
   "cell_type": "code",
   "execution_count": 10,
   "metadata": {},
   "outputs": [
    {
     "data": {
      "text/plain": [
       "1"
      ]
     },
     "execution_count": 10,
     "metadata": {},
     "output_type": "execute_result"
    }
   ],
   "source": [
    "1-(1/6)**3"
   ]
  },
  {
   "cell_type": "markdown",
   "metadata": {},
   "source": [
    "EVENT_A = {1,2,3}\n",
    "EVENT_B = {2,4,6}\n",
    "4/52\n",
    "4/51\n",
    "4/50\n",
    "3/49"
   ]
  },
  {
   "cell_type": "markdown",
   "metadata": {},
   "source": [
    "# 4 JACK , 1 QUEEN OF DIAMOND , 4 KING ,4 JACK\n",
    "P_JQKJ = (4/52)* (1/51)* (4/50)*(3/49)\n"
   ]
  },
  {
   "cell_type": "markdown",
   "metadata": {},
   "source": [
    "OUTCOMES = axb #rule of product\n",
    "\n",
    "OUTCOMES = axb........xn"
   ]
  },
  {
   "cell_type": "markdown",
   "metadata": {},
   "source": [
    "outcomes = 6*6*6*52\n",
    "\n",
    "#event_a = 6,6,6,ace of diamond\n",
    "\n",
    "print(1/outcomes) # theoritical probablity\n",
    "\n",
    "print(1/6*1/6*1/6*1/52) # multiplication rule\n"
   ]
  },
  {
   "cell_type": "markdown",
   "metadata": {},
   "source": [
    "# permutation:\n",
    "      where order is matters\n",
    "# combination:\n",
    "      where order doesn't matters"
   ]
  },
  {
   "cell_type": "markdown",
   "metadata": {},
   "source": [
    "permutation:\n",
    "    \n",
    "1. with replacment:\n",
    "    \n",
    "    formulla ------>  multiplication of indivisual outcomes\n",
    "    \n",
    "2. without replacement:\n",
    "    \n",
    "    formulla--------->factorial"
   ]
  },
  {
   "cell_type": "markdown",
   "metadata": {},
   "source": [
    "factorial = n!\n",
    "\n",
    "factorial = n*(n-1)(n-2)....x2x1"
   ]
  },
  {
   "cell_type": "code",
   "execution_count": 12,
   "metadata": {},
   "outputs": [],
   "source": [
    "def factorial(n):\n",
    "    for i in n:\n",
    "        re =range(n)*n\n",
    "        return(re)\n",
    "        \n",
    "        "
   ]
  },
  {
   "cell_type": "code",
   "execution_count": 14,
   "metadata": {},
   "outputs": [],
   "source": [
    "#factorial function\n",
    "def factorial(n):\n",
    "    factorial = n\n",
    "    for i in range(n-1,0,-1):\n",
    "        factorial *=i\n",
    "    return factorial"
   ]
  },
  {
   "cell_type": "code",
   "execution_count": 16,
   "metadata": {},
   "outputs": [
    {
     "data": {
      "text/plain": [
       "120"
      ]
     },
     "execution_count": 16,
     "metadata": {},
     "output_type": "execute_result"
    }
   ],
   "source": [
    "factorial(5)"
   ]
  },
  {
   "cell_type": "code",
   "execution_count": 19,
   "metadata": {},
   "outputs": [],
   "source": [
    "def permutation(n,k):\n",
    "    return factorial(n)/factorial(n-k)"
   ]
  },
  {
   "cell_type": "code",
   "execution_count": 20,
   "metadata": {},
   "outputs": [
    {
     "data": {
      "text/plain": [
       "6497400L"
      ]
     },
     "execution_count": 20,
     "metadata": {},
     "output_type": "execute_result"
    }
   ],
   "source": [
    "permutation(52,4)"
   ]
  },
  {
   "cell_type": "markdown",
   "metadata": {},
   "source": [
    "permutation = n!/(n-k)!"
   ]
  },
  {
   "cell_type": "markdown",
   "metadata": {},
   "source": [
    "combination ka function bnana ha\n",
    "\n",
    "combination = n!/k!(n-k)!"
   ]
  },
  {
   "cell_type": "code",
   "execution_count": 22,
   "metadata": {},
   "outputs": [
    {
     "data": {
      "text/plain": [
       "81675143551104405225L"
      ]
     },
     "execution_count": 22,
     "metadata": {},
     "output_type": "execute_result"
    }
   ],
   "source": [
    "#tot_char=127\n",
    "\n",
    "#password_digit = 16\n",
    "\n",
    "#cant repeat char\n",
    "\n",
    "factorial(127)/(factorial(16)*factorial(127-16))"
   ]
  },
  {
   "cell_type": "code",
   "execution_count": null,
   "metadata": {},
   "outputs": [],
   "source": []
  }
 ],
 "metadata": {
  "kernelspec": {
   "display_name": "Python 2",
   "language": "python",
   "name": "python2"
  },
  "language_info": {
   "codemirror_mode": {
    "name": "ipython",
    "version": 2
   },
   "file_extension": ".py",
   "mimetype": "text/x-python",
   "name": "python",
   "nbconvert_exporter": "python",
   "pygments_lexer": "ipython2",
   "version": "2.7.16"
  }
 },
 "nbformat": 4,
 "nbformat_minor": 2
}
