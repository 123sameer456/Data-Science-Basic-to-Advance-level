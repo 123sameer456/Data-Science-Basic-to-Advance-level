{
 "cells": [
  {
   "cell_type": "code",
   "execution_count": 3,
   "metadata": {},
   "outputs": [
    {
     "data": {
      "text/plain": [
       "['fat']"
      ]
     },
     "execution_count": 3,
     "metadata": {},
     "output_type": "execute_result"
    }
   ],
   "source": [
    "#append\n",
    "#\n",
    "employee_uname=[]# this is the e empty list\n",
    "employee_uname.append(\"fat\")#here,we are adding fat in empty list\n",
    "\n",
    "employee_uname\n"
   ]
  },
  {
   "cell_type": "code",
   "execution_count": 6,
   "metadata": {},
   "outputs": [
    {
     "data": {
      "text/plain": [
       "['manager', 12, 12000, 'faty', 'loser']"
      ]
     },
     "execution_count": 6,
     "metadata": {},
     "output_type": "execute_result"
    }
   ],
   "source": [
    "emp=[\"manager\",12,12000,\"faty\"]\n",
    "#this is another list but not empty list,the elements in \n",
    "#brakets are called index,indexing starts from zero and end nth.\n",
    "emp.append(\"loser\")#here, we are adding loser in emp list \n",
    "emp"
   ]
  },
  {
   "cell_type": "code",
   "execution_count": 9,
   "metadata": {},
   "outputs": [
    {
     "data": {
      "text/plain": [
       "[[1, 2, 3], [1, 2]]"
      ]
     },
     "execution_count": 9,
     "metadata": {},
     "output_type": "execute_result"
    }
   ],
   "source": [
    "#list of lists\n",
    "#here,[1,2,3]is the index according to list of list or according to emp -------indexing value is zero\n",
    "#[1,2]this is another inder---------indexing value is one\n",
    "emp=[[1,2,3],[1,2]]#this is another list or this also called the list of lists\n",
    "emp"
   ]
  },
  {
   "cell_type": "markdown",
   "metadata": {},
   "source": []
  },
  {
   "cell_type": "code",
   "execution_count": 19,
   "metadata": {},
   "outputs": [
    {
     "data": {
      "text/plain": [
       "[[['sameer', 20, 20000]], [['zuraid', 20, 23000]]]"
      ]
     },
     "execution_count": 19,
     "metadata": {},
     "output_type": "execute_result"
    }
   ],
   "source": [
    "employee1=[\"sameer\",20,20000]#this is the list\n",
    "employee2=[\"zuraid\",20,23000]#this is the list\n",
    "employee=[[employee1],[employee2]]#this is the list of lists,it shows both lists\n",
    "employee"
   ]
  },
  {
   "cell_type": "code",
   "execution_count": 23,
   "metadata": {},
   "outputs": [
    {
     "name": "stdout",
     "output_type": "stream",
     "text": [
      "[['sameer', 20, 20000]]\n"
     ]
    },
    {
     "data": {
      "text/plain": [
       "[['zuraid', 20, 23000]]"
      ]
     },
     "execution_count": 23,
     "metadata": {},
     "output_type": "execute_result"
    }
   ],
   "source": [
    "#in python,last line in a coding always run without print command,\n",
    "#thats why we use print command in first(if you have more lines for printing,\n",
    "#you should compulsory applies \n",
    "#print command in each line,but not apply in last line because python automatically run the last line)\n",
    "print employee[0]\n",
    "employee[1]"
   ]
  },
  {
   "cell_type": "code",
   "execution_count": 28,
   "metadata": {},
   "outputs": [
    {
     "data": {
      "text/plain": [
       "[[['sameer',\n",
       "   20,\n",
       "   20000,\n",
       "   'zuraid',\n",
       "   20,\n",
       "   23000,\n",
       "   'zuraid',\n",
       "   20,\n",
       "   23000,\n",
       "   'zuraid',\n",
       "   20,\n",
       "   23000]],\n",
       " [['zuraid', 20, 23000]]]"
      ]
     },
     "execution_count": 28,
     "metadata": {},
     "output_type": "execute_result"
    }
   ],
   "source": [
    "#extend-------------------its means bra krna ya wasi krna\n",
    "#here, we are compressing two list its means emplyee2 is added in a employee1 and both are combined and made one list\n",
    "[employee1].extend([employee2])\n",
    "employee"
   ]
  },
  {
   "cell_type": "code",
   "execution_count": 41,
   "metadata": {},
   "outputs": [
    {
     "data": {
      "text/plain": [
       "[12, 2344, 'sam', [['ali']]]"
      ]
     },
     "execution_count": 41,
     "metadata": {},
     "output_type": "execute_result"
    }
   ],
   "source": [
    "#here, some examples of extend and append\n",
    "a=[12,2344,\"sam\"]\n",
    "b=[23,3,\"khan\"]\n",
    "c=[\"ali\"]\n",
    "a.append([c])\n",
    "a"
   ]
  },
  {
   "cell_type": "code",
   "execution_count": 42,
   "metadata": {},
   "outputs": [],
   "source": [
    "a .extend([b])"
   ]
  },
  {
   "cell_type": "code",
   "execution_count": 43,
   "metadata": {},
   "outputs": [
    {
     "data": {
      "text/plain": [
       "[12, 2344, 'sam', [['ali']], [23, 3, 'khan']]"
      ]
     },
     "execution_count": 43,
     "metadata": {},
     "output_type": "execute_result"
    }
   ],
   "source": [
    "a"
   ]
  },
  {
   "cell_type": "code",
   "execution_count": 44,
   "metadata": {},
   "outputs": [
    {
     "data": {
      "text/plain": [
       "[[[12, 2344, 'sam']], [[23, 3, 'khan']]]"
      ]
     },
     "execution_count": 44,
     "metadata": {},
     "output_type": "execute_result"
    }
   ],
   "source": [
    "a=[12,2344,\"sam\"]\n",
    "b=[23,3,\"khan\"]\n",
    "c=[[a],[b]]\n",
    "c\n"
   ]
  },
  {
   "cell_type": "code",
   "execution_count": 45,
   "metadata": {},
   "outputs": [],
   "source": [
    "a=[12,2344,\"sam\"]\n",
    "b=[23,3,\"khan\"]\n",
    "c=[[a],[b]]\n",
    "[a].extend([b])"
   ]
  },
  {
   "cell_type": "code",
   "execution_count": 46,
   "metadata": {},
   "outputs": [
    {
     "data": {
      "text/plain": [
       "[[[12, 2344, 'sam']], [[23, 3, 'khan']]]"
      ]
     },
     "execution_count": 46,
     "metadata": {},
     "output_type": "execute_result"
    }
   ],
   "source": [
    "c"
   ]
  },
  {
   "cell_type": "code",
   "execution_count": 47,
   "metadata": {},
   "outputs": [
    {
     "data": {
      "text/plain": [
       "[12, 2344, 'sam', 23, 3, 'khan']"
      ]
     },
     "execution_count": 47,
     "metadata": {},
     "output_type": "execute_result"
    }
   ],
   "source": [
    "c= a+b\n",
    "c"
   ]
  },
  {
   "cell_type": "code",
   "execution_count": 50,
   "metadata": {},
   "outputs": [
    {
     "data": {
      "text/plain": [
       "[12, 2344, 'sam', 23, 3, 'khan', 23, 3, 'khan']"
      ]
     },
     "execution_count": 50,
     "metadata": {},
     "output_type": "execute_result"
    }
   ],
   "source": [
    "a +=b\n",
    "a"
   ]
  },
  {
   "cell_type": "code",
   "execution_count": 51,
   "metadata": {},
   "outputs": [],
   "source": [
    "c += a and b"
   ]
  },
  {
   "cell_type": "code",
   "execution_count": 52,
   "metadata": {},
   "outputs": [
    {
     "data": {
      "text/plain": [
       "[12, 2344, 'sam', 23, 3, 'khan', 23, 3, 'khan']"
      ]
     },
     "execution_count": 52,
     "metadata": {},
     "output_type": "execute_result"
    }
   ],
   "source": [
    "c"
   ]
  },
  {
   "cell_type": "code",
   "execution_count": null,
   "metadata": {},
   "outputs": [],
   "source": []
  }
 ],
 "metadata": {
  "kernelspec": {
   "display_name": "Python 2",
   "language": "python",
   "name": "python2"
  },
  "language_info": {
   "codemirror_mode": {
    "name": "ipython",
    "version": 2
   },
   "file_extension": ".py",
   "mimetype": "text/x-python",
   "name": "python",
   "nbconvert_exporter": "python",
   "pygments_lexer": "ipython2",
   "version": "2.7.16"
  }
 },
 "nbformat": 4,
 "nbformat_minor": 2
}
