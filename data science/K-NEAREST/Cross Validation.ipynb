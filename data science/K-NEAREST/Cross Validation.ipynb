{
 "cells": [
  {
   "cell_type": "code",
   "execution_count": 24,
   "metadata": {},
   "outputs": [],
   "source": [
    "import pandas as pd\n",
    "import numpy as np\n",
    "dc_listings = pd.read_csv(\"dc_airbnb.csv\")"
   ]
  },
  {
   "cell_type": "code",
   "execution_count": 25,
   "metadata": {},
   "outputs": [],
   "source": []
  },
  {
   "cell_type": "code",
   "execution_count": 26,
   "metadata": {},
   "outputs": [],
   "source": []
  },
  {
   "cell_type": "code",
   "execution_count": 27,
   "metadata": {},
   "outputs": [],
   "source": []
  },
  {
   "cell_type": "code",
   "execution_count": 28,
   "metadata": {},
   "outputs": [],
   "source": [
    "dc_listings[\"price\"] = dc_listings[\"price\"].str.replace(\"$\",\"\").str.replace(\",\",\"\").astype(float)\n",
    "dc_listings = dc_listings.drop([\"cleaning_fee\",\"security_deposit\"], axis = 1)\n",
    "cols = [\"host_response_rate\",\"host_acceptance_rate\", \n",
    "        \"room_type\",\"latitude\",\"longitude\",\"city\",\"zipcode\",\"state\"]\n",
    "dc_listings = dc_listings.drop(cols, axis = 1)\n",
    "dc_listings.dropna(axis = 0, inplace = True)"
   ]
  },
  {
   "cell_type": "code",
   "execution_count": 29,
   "metadata": {},
   "outputs": [
    {
     "name": "stdout",
     "output_type": "stream",
     "text": [
      "<class 'pandas.core.frame.DataFrame'>\n",
      "Int64Index: 3671 entries, 0 to 3722\n",
      "Data columns (total 9 columns):\n",
      "host_listings_count    3671 non-null int64\n",
      "accommodates           3671 non-null int64\n",
      "bedrooms               3671 non-null float64\n",
      "bathrooms              3671 non-null float64\n",
      "beds                   3671 non-null float64\n",
      "price                  3671 non-null float64\n",
      "minimum_nights         3671 non-null int64\n",
      "maximum_nights         3671 non-null int64\n",
      "number_of_reviews      3671 non-null int64\n",
      "dtypes: float64(4), int64(5)\n",
      "memory usage: 286.8 KB\n"
     ]
    }
   ],
   "source": [
    "dc_listings.info()"
   ]
  },
  {
   "cell_type": "code",
   "execution_count": 31,
   "metadata": {},
   "outputs": [],
   "source": [
    "normalize_listing = (dc_listings -dc_listings.mean())/dc_listings.std()"
   ]
  },
  {
   "cell_type": "code",
   "execution_count": 34,
   "metadata": {},
   "outputs": [
    {
     "data": {
      "text/plain": [
       "host_listings_count    0\n",
       "accommodates           0\n",
       "bedrooms               0\n",
       "bathrooms              0\n",
       "beds                   0\n",
       "price                  0\n",
       "minimum_nights         0\n",
       "maximum_nights         0\n",
       "number_of_reviews      0\n",
       "dtype: int64"
      ]
     },
     "execution_count": 34,
     "metadata": {},
     "output_type": "execute_result"
    }
   ],
   "source": [
    "normalize_listing[\"price\"] = dc_listings[\"price\"]\n",
    "normalize_listing.isnull().sum()"
   ]
  },
  {
   "cell_type": "markdown",
   "metadata": {},
   "source": [
    "# Holdout Validation"
   ]
  },
  {
   "cell_type": "code",
   "execution_count": 35,
   "metadata": {},
   "outputs": [],
   "source": [
    "total_rows = normalize_listing.shape[0]"
   ]
  },
  {
   "cell_type": "code",
   "execution_count": 36,
   "metadata": {},
   "outputs": [],
   "source": [
    "split_one = normalize_listing[:int(total_rows*.5)]\n",
    "split_two = normalize_listing[int(total_rows*.5):]\n"
   ]
  },
  {
   "cell_type": "code",
   "execution_count": 37,
   "metadata": {},
   "outputs": [],
   "source": [
    "features = [\"accommodates\",\"bedrooms\",\"bathrooms\",\"beds\"]\n",
    "target = \"price\""
   ]
  },
  {
   "cell_type": "code",
   "execution_count": 43,
   "metadata": {},
   "outputs": [
    {
     "name": "stdout",
     "output_type": "stream",
     "text": [
      "[206.6 107.4 116.  ... 198.2 116.  141.8]\n"
     ]
    },
    {
     "data": {
      "text/plain": [
       "123.34966187617752"
      ]
     },
     "execution_count": 43,
     "metadata": {},
     "output_type": "execute_result"
    }
   ],
   "source": [
    "\n",
    "from sklearn.neighbors import KNeighborsRegressor\n",
    "from sklearn.metrics import mean_squared_error\n",
    "\n",
    "knn = KNeighborsRegressor(algorithm='brute')\n",
    "knn.fit(split_one[features],split_one[target])\n",
    "predictions = knn.predict(split_two[features])\n",
    "\n",
    "print(predictions)\n",
    "mse = mean_squared_error(split_two[target], predictions)\n",
    "rmse1 = np.sqrt(mse)\n",
    "rmse1"
   ]
  },
  {
   "cell_type": "code",
   "execution_count": 44,
   "metadata": {},
   "outputs": [
    {
     "data": {
      "text/plain": [
       "123.184893355288"
      ]
     },
     "execution_count": 44,
     "metadata": {},
     "output_type": "execute_result"
    }
   ],
   "source": [
    "knn = KNeighborsRegressor(algorithm='brute')\n",
    "knn.fit(split_two[features],split_two[target])\n",
    "predictions = knn.predict(split_one[features])\n",
    "\n",
    "\n",
    "\n",
    "mse = mean_squared_error(split_one[target], predictions)\n",
    "rmse2 = np.sqrt(mse)\n",
    "rmse2"
   ]
  },
  {
   "cell_type": "code",
   "execution_count": 45,
   "metadata": {},
   "outputs": [
    {
     "data": {
      "text/plain": [
       "123.26727761573275"
      ]
     },
     "execution_count": 45,
     "metadata": {},
     "output_type": "execute_result"
    }
   ],
   "source": [
    "mean_rmse = np.mean([rmse1,rmse2])\n",
    "mean_rmse"
   ]
  },
  {
   "cell_type": "code",
   "execution_count": 46,
   "metadata": {},
   "outputs": [
    {
     "data": {
      "text/plain": [
       "734"
      ]
     },
     "execution_count": 46,
     "metadata": {},
     "output_type": "execute_result"
    }
   ],
   "source": [
    "total_rows/5"
   ]
  },
  {
   "cell_type": "code",
   "execution_count": 47,
   "metadata": {},
   "outputs": [
    {
     "data": {
      "text/plain": [
       "3671"
      ]
     },
     "execution_count": 47,
     "metadata": {},
     "output_type": "execute_result"
    }
   ],
   "source": [
    "total_rows"
   ]
  },
  {
   "cell_type": "markdown",
   "metadata": {},
   "source": [
    "0-734\n",
    "\n",
    "734 - 1468\n",
    "\n",
    "1468 - 2202\n",
    "\n",
    "2202 - 2936\n",
    "\n",
    "2936 :"
   ]
  },
  {
   "cell_type": "code",
   "execution_count": 48,
   "metadata": {},
   "outputs": [],
   "source": [
    "normalize_listing.loc[:734,\"fold\"] = 1\n",
    "normalize_listing.loc[734:1468,\"fold\"] = 2\n",
    "normalize_listing.loc[1468:2202,\"fold\"] = 3\n",
    "normalize_listing.loc[2202:2936,\"fold\"] = 4\n",
    "normalize_listing.loc[2936:,\"fold\"] = 5"
   ]
  },
  {
   "cell_type": "code",
   "execution_count": 49,
   "metadata": {},
   "outputs": [
    {
     "data": {
      "text/plain": [
       "5.0    784\n",
       "4.0    728\n",
       "3.0    721\n",
       "1.0    720\n",
       "2.0    718\n",
       "Name: fold, dtype: int64"
      ]
     },
     "execution_count": 49,
     "metadata": {},
     "output_type": "execute_result"
    }
   ],
   "source": [
    "normalize_listing[\"fold\"].value_counts()"
   ]
  },
  {
   "cell_type": "code",
   "execution_count": 50,
   "metadata": {},
   "outputs": [],
   "source": [
    "features = [\"accommodates\",\"bedrooms\",\"bathrooms\",\"beds\"]\n",
    "target = \"price\""
   ]
  },
  {
   "cell_type": "code",
   "execution_count": 51,
   "metadata": {},
   "outputs": [],
   "source": [
    "folds = [1,2,3,4,5]\n",
    "\n",
    "rmses = []\n",
    "for i in folds:\n",
    "    train = normalize_listing[normalize_listing[\"fold\"] != i]\n",
    "    test = normalize_listing[normalize_listing[\"fold\"] == i]\n",
    "    knn = KNeighborsRegressor(algorithm='brute')\n",
    "    knn.fit(train[features],train[target])\n",
    "    predictions = knn.predict(test[features])\n",
    "    mse = mean_squared_error(test[target], predictions)\n",
    "    rmse = np.sqrt(mse)\n",
    "    rmses.append(rmse)"
   ]
  },
  {
   "cell_type": "code",
   "execution_count": 53,
   "metadata": {},
   "outputs": [
    {
     "data": {
      "text/plain": [
       "116.9745639445794"
      ]
     },
     "execution_count": 53,
     "metadata": {},
     "output_type": "execute_result"
    }
   ],
   "source": [
    "mean_rmse = np.mean(rmses)\n",
    "mean_rmse"
   ]
  },
  {
   "cell_type": "code",
   "execution_count": 54,
   "metadata": {},
   "outputs": [],
   "source": [
    "from sklearn.model_selection import KFold, cross_val_score"
   ]
  },
  {
   "cell_type": "code",
   "execution_count": 55,
   "metadata": {},
   "outputs": [
    {
     "data": {
      "text/plain": [
       "array([13286.19847619, 10691.00239782, 18208.94485014, 13772.38599455,\n",
       "       19043.51514986])"
      ]
     },
     "execution_count": 55,
     "metadata": {},
     "output_type": "execute_result"
    }
   ],
   "source": [
    "features = [\"accommodates\",\"bedrooms\",\"bathrooms\",\"beds\"]\n",
    "target = \"price\"\n",
    "kf = KFold(n_splits=5, shuffle = True, random_state=1)\n",
    "knn = KNeighborsRegressor()\n",
    "mse = cross_val_score(knn, normalize_listing[features],normalize_listing[target],\n",
    "                     scoring = \"neg_mean_squared_error\",cv = kf)\n",
    "mse = np.abs(mse)\n",
    "rmse = np.sqrt(mse)\n",
    "mean_rmse = np.mean(rmse)\n",
    "mean_rmse\n",
    "mse"
   ]
  },
  {
   "cell_type": "code",
   "execution_count": null,
   "metadata": {},
   "outputs": [],
   "source": [
    "rmses = []\n",
    "for train,test in kf.split(normalize_listing.index):\n",
    "    train_data = normalize_listing.loc[train]\n",
    "    test_data = normalize_listing.loc[test]\n",
    "    knn = KNeighborsRegressor(algorithm='brute')\n",
    "    knn.fit(train_data[features],train_data[target])\n",
    "    predictions = knn.predict(test_data[features])\n",
    "    mse = mean_squared_error(test_data[target], predictions)\n",
    "    rmse = np.sqrt(mse)\n",
    "    rmses.append(rmse)"
   ]
  },
  {
   "cell_type": "code",
   "execution_count": null,
   "metadata": {},
   "outputs": [],
   "source": [
    "fold = [2,3,5,10,15]\n",
    "\n",
    "features = [\"accommodates\",\"bedrooms\",\"bathrooms\",\"beds\"]\n",
    "target = \"price\"\n",
    "\n",
    "fold_mrmse = {}\n",
    "for f in fold:\n",
    "    kf = KFold(n_splits=f, shuffle = True, random_state=1)\n",
    "    knn = KNeighborsRegressor()\n",
    "    mse = cross_val_score(knn, normalize_listing[features],normalize_listing[target],\n",
    "                         scoring = \"neg_mean_squared_error\",cv = kf)\n",
    "    mse = np.abs(mse)\n",
    "    rmse = np.sqrt(mse)\n",
    "    mean_rmse = np.mean(rmse)\n",
    "    fold_mrmse[f] = mean_rmse"
   ]
  },
  {
   "cell_type": "code",
   "execution_count": null,
   "metadata": {},
   "outputs": [],
   "source": [
    "fold_mrmse"
   ]
  },
  {
   "cell_type": "code",
   "execution_count": null,
   "metadata": {},
   "outputs": [],
   "source": []
  }
 ],
 "metadata": {
  "kernelspec": {
   "display_name": "Python 3",
   "language": "python",
   "name": "python3"
  },
  "language_info": {
   "codemirror_mode": {
    "name": "ipython",
    "version": 3
   },
   "file_extension": ".py",
   "mimetype": "text/x-python",
   "name": "python",
   "nbconvert_exporter": "python",
   "pygments_lexer": "ipython3",
   "version": "3.8.3"
  }
 },
 "nbformat": 4,
 "nbformat_minor": 2
}
