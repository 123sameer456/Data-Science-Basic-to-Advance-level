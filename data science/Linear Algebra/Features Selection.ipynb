{
 "cells": [
  {
   "cell_type": "code",
   "execution_count": 1,
   "metadata": {},
   "outputs": [],
   "source": [
    "import pandas as pd\n",
    "import numpy as np"
   ]
  },
  {
   "cell_type": "code",
   "execution_count": 4,
   "metadata": {
    "scrolled": true
   },
   "outputs": [
    {
     "name": "stderr",
     "output_type": "stream",
     "text": [
      "D:\\ProgramData\\Anaconda2\\lib\\site-packages\\ipykernel_launcher.py:1: FutureWarning: read_table is deprecated, use read_csv instead.\n",
      "  \"\"\"Entry point for launching an IPython kernel.\n"
     ]
    },
    {
     "name": "stdout",
     "output_type": "stream",
     "text": [
      "<class 'pandas.core.frame.DataFrame'>\n",
      "RangeIndex: 2930 entries, 0 to 2929\n",
      "Data columns (total 82 columns):\n",
      "Order              2930 non-null int64\n",
      "PID                2930 non-null int64\n",
      "MS SubClass        2930 non-null int64\n",
      "MS Zoning          2930 non-null object\n",
      "Lot Frontage       2440 non-null float64\n",
      "Lot Area           2930 non-null int64\n",
      "Street             2930 non-null object\n",
      "Alley              198 non-null object\n",
      "Lot Shape          2930 non-null object\n",
      "Land Contour       2930 non-null object\n",
      "Utilities          2930 non-null object\n",
      "Lot Config         2930 non-null object\n",
      "Land Slope         2930 non-null object\n",
      "Neighborhood       2930 non-null object\n",
      "Condition 1        2930 non-null object\n",
      "Condition 2        2930 non-null object\n",
      "Bldg Type          2930 non-null object\n",
      "House Style        2930 non-null object\n",
      "Overall Qual       2930 non-null int64\n",
      "Overall Cond       2930 non-null int64\n",
      "Year Built         2930 non-null int64\n",
      "Year Remod/Add     2930 non-null int64\n",
      "Roof Style         2930 non-null object\n",
      "Roof Matl          2930 non-null object\n",
      "Exterior 1st       2930 non-null object\n",
      "Exterior 2nd       2930 non-null object\n",
      "Mas Vnr Type       2907 non-null object\n",
      "Mas Vnr Area       2907 non-null float64\n",
      "Exter Qual         2930 non-null object\n",
      "Exter Cond         2930 non-null object\n",
      "Foundation         2930 non-null object\n",
      "Bsmt Qual          2850 non-null object\n",
      "Bsmt Cond          2850 non-null object\n",
      "Bsmt Exposure      2847 non-null object\n",
      "BsmtFin Type 1     2850 non-null object\n",
      "BsmtFin SF 1       2929 non-null float64\n",
      "BsmtFin Type 2     2849 non-null object\n",
      "BsmtFin SF 2       2929 non-null float64\n",
      "Bsmt Unf SF        2929 non-null float64\n",
      "Total Bsmt SF      2929 non-null float64\n",
      "Heating            2930 non-null object\n",
      "Heating QC         2930 non-null object\n",
      "Central Air        2930 non-null object\n",
      "Electrical         2929 non-null object\n",
      "1st Flr SF         2930 non-null int64\n",
      "2nd Flr SF         2930 non-null int64\n",
      "Low Qual Fin SF    2930 non-null int64\n",
      "Gr Liv Area        2930 non-null int64\n",
      "Bsmt Full Bath     2928 non-null float64\n",
      "Bsmt Half Bath     2928 non-null float64\n",
      "Full Bath          2930 non-null int64\n",
      "Half Bath          2930 non-null int64\n",
      "Bedroom AbvGr      2930 non-null int64\n",
      "Kitchen AbvGr      2930 non-null int64\n",
      "Kitchen Qual       2930 non-null object\n",
      "TotRms AbvGrd      2930 non-null int64\n",
      "Functional         2930 non-null object\n",
      "Fireplaces         2930 non-null int64\n",
      "Fireplace Qu       1508 non-null object\n",
      "Garage Type        2773 non-null object\n",
      "Garage Yr Blt      2771 non-null float64\n",
      "Garage Finish      2771 non-null object\n",
      "Garage Cars        2929 non-null float64\n",
      "Garage Area        2929 non-null float64\n",
      "Garage Qual        2771 non-null object\n",
      "Garage Cond        2771 non-null object\n",
      "Paved Drive        2930 non-null object\n",
      "Wood Deck SF       2930 non-null int64\n",
      "Open Porch SF      2930 non-null int64\n",
      "Enclosed Porch     2930 non-null int64\n",
      "3Ssn Porch         2930 non-null int64\n",
      "Screen Porch       2930 non-null int64\n",
      "Pool Area          2930 non-null int64\n",
      "Pool QC            13 non-null object\n",
      "Fence              572 non-null object\n",
      "Misc Feature       106 non-null object\n",
      "Misc Val           2930 non-null int64\n",
      "Mo Sold            2930 non-null int64\n",
      "Yr Sold            2930 non-null int64\n",
      "Sale Type          2930 non-null object\n",
      "Sale Condition     2930 non-null object\n",
      "SalePrice          2930 non-null int64\n",
      "dtypes: float64(11), int64(28), object(43)\n",
      "memory usage: 1.8+ MB\n"
     ]
    }
   ],
   "source": [
    "data = pd.read_table(\"AmesHousing.txt\" , delimiter= \"\\t\")\n",
    "data.info()"
   ]
  },
  {
   "cell_type": "code",
   "execution_count": 12,
   "metadata": {},
   "outputs": [
    {
     "ename": "TypeError",
     "evalue": "'Index' object is not callable",
     "output_type": "error",
     "traceback": [
      "\u001b[1;31m---------------------------------------------------------------------------\u001b[0m",
      "\u001b[1;31mTypeError\u001b[0m                                 Traceback (most recent call last)",
      "\u001b[1;32m<ipython-input-12-140a86c7c0cd>\u001b[0m in \u001b[0;36m<module>\u001b[1;34m()\u001b[0m\n\u001b[0;32m      1\u001b[0m \u001b[0mcols\u001b[0m \u001b[1;33m=\u001b[0m  \u001b[1;33m[\u001b[0m\u001b[1;34m\"PID\"\u001b[0m \u001b[1;33m,\u001b[0m \u001b[1;34m\"Year Built\"\u001b[0m \u001b[1;33m,\u001b[0m \u001b[1;34m\"Year Remod/Add\"\u001b[0m  \u001b[1;33m,\u001b[0m \u001b[1;34m\"Garage Yr Blt\"\u001b[0m \u001b[1;33m,\u001b[0m \u001b[1;34m\"Mo Sold\"\u001b[0m \u001b[1;33m,\u001b[0m \u001b[1;34m\"Yr Sold\"\u001b[0m\u001b[1;33m]\u001b[0m\u001b[1;33m\u001b[0m\u001b[0m\n\u001b[0;32m      2\u001b[0m \u001b[0mnum_data\u001b[0m \u001b[1;33m=\u001b[0m \u001b[0mdata\u001b[0m\u001b[1;33m.\u001b[0m\u001b[0mdrop\u001b[0m\u001b[1;33m(\u001b[0m\u001b[0mcols\u001b[0m \u001b[1;33m,\u001b[0m \u001b[0maxis\u001b[0m \u001b[1;33m=\u001b[0m \u001b[1;36m1\u001b[0m\u001b[1;33m)\u001b[0m\u001b[1;33m\u001b[0m\u001b[0m\n\u001b[1;32m----> 3\u001b[1;33m \u001b[0mnum_data\u001b[0m\u001b[1;33m[\u001b[0m\u001b[0mnum_data\u001b[0m\u001b[1;33m.\u001b[0m\u001b[0mcolumns\u001b[0m\u001b[1;33m(\u001b[0m\u001b[0minculde\u001b[0m \u001b[1;33m=\u001b[0m \u001b[1;33m[\u001b[0m\u001b[1;34m\"float64\"\u001b[0m\u001b[1;33m]\u001b[0m\u001b[1;33m)\u001b[0m\u001b[1;33m]\u001b[0m\u001b[1;33m\u001b[0m\u001b[0m\n\u001b[0m",
      "\u001b[1;31mTypeError\u001b[0m: 'Index' object is not callable"
     ]
    }
   ],
   "source": [
    "cols =  [\"PID\" , \"Year Built\" , \"Year Remod/Add\"  , \"Garage Yr Blt\" , \"Mo Sold\" , \"Yr Sold\"]\n",
    "num_data = data.drop(cols , axis = 1)\n",
    "num_data[num_data.columns(inculde = [\"float64\"])]"
   ]
  },
  {
   "cell_type": "code",
   "execution_count": null,
   "metadata": {},
   "outputs": [],
   "source": []
  },
  {
   "cell_type": "code",
   "execution_count": null,
   "metadata": {},
   "outputs": [],
   "source": []
  }
 ],
 "metadata": {
  "kernelspec": {
   "display_name": "Python 2",
   "language": "python",
   "name": "python2"
  },
  "language_info": {
   "codemirror_mode": {
    "name": "ipython",
    "version": 2
   },
   "file_extension": ".py",
   "mimetype": "text/x-python",
   "name": "python",
   "nbconvert_exporter": "python",
   "pygments_lexer": "ipython2",
   "version": "2.7.16"
  }
 },
 "nbformat": 4,
 "nbformat_minor": 2
}
