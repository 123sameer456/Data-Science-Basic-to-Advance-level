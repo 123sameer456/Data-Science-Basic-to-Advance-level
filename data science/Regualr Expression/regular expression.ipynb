{
 "cells": [
  {
   "cell_type": "code",
   "execution_count": 1,
   "metadata": {},
   "outputs": [],
   "source": [
    "import re"
   ]
  },
  {
   "cell_type": "markdown",
   "metadata": {},
   "source": []
  },
  {
   "cell_type": "code",
   "execution_count": 2,
   "metadata": {},
   "outputs": [
    {
     "data": {
      "text/plain": [
       "'0310-128481-7'"
      ]
     },
     "execution_count": 2,
     "metadata": {},
     "output_type": "execute_result"
    }
   ],
   "source": [
    "regex = re.compile(r'\\d\\d\\d\\d-\\d\\d\\d\\d\\d\\d-\\d')\n",
    "mo = regex.search(\"Exception handling is a mechanism that allows you to take\" \n",
    "                  \"appropriate action to avoid runtime errors. ... Throw : When\"\n",
    "                  \"an exception occur in try block, it is thrown  0310-128481-7 to the catch block using throw keyword.\"\n",
    "                  \"Catch :The catch block defines the action to be taken, when an  exception occur.\")\n",
    "mo.group()"
   ]
  },
  {
   "cell_type": "code",
   "execution_count": 3,
   "metadata": {},
   "outputs": [
    {
     "name": "stdout",
     "output_type": "stream",
     "text": [
      "0310\n",
      "128481\n",
      "7\n",
      "0310-128481-7\n"
     ]
    }
   ],
   "source": [
    "regex = re.compile(r'(\\d\\d\\d\\d)-(\\d\\d\\d\\d\\d\\d)-(\\d)')\n",
    "mo = regex.search(\"Exception handling is a mechanism that allows you to take\" \n",
    "                  \"appropriate action to avoid runtime errors. ... Throw : When\"\n",
    "                  \"an exception occur in try block, it is thrown  0310-128481-7 to the catch block using throw keyword.\"\n",
    "                  \"Catch :The catch block defines the action to be taken, when an  exception occur.\")\n",
    "print(mo.group(1))\n",
    "print(mo.group(2))\n",
    "print(mo.group(3))\n",
    "print(mo.group())"
   ]
  },
  {
   "cell_type": "code",
   "execution_count": 4,
   "metadata": {},
   "outputs": [
    {
     "data": {
      "text/plain": [
       "('0310', '128481', '7')"
      ]
     },
     "execution_count": 4,
     "metadata": {},
     "output_type": "execute_result"
    }
   ],
   "source": [
    "regex = re.compile(r'(\\d\\d\\d\\d)-(\\d\\d\\d\\d\\d\\d)-(\\d)')\n",
    "mo = regex.search(\"Exception handling is a mechanism that allows you to take\" \n",
    "                  \"appropriate action to avoid runtime errors. ... Throw : When\"\n",
    "                  \"an exception occur in try block, it is thrown  0310-128481-7 to the catch block using throw keyword.\"\n",
    "                  \"Catch :The catch block defines the action to be taken, when an  exception occur.\")\n",
    "num = mo.groups()\n",
    "num"
   ]
  },
  {
   "cell_type": "code",
   "execution_count": 5,
   "metadata": {},
   "outputs": [],
   "source": [
    "start4num , betweennums , endnum = num"
   ]
  },
  {
   "cell_type": "code",
   "execution_count": 6,
   "metadata": {},
   "outputs": [
    {
     "name": "stdout",
     "output_type": "stream",
     "text": [
      "0310\n",
      "128481\n",
      "7\n"
     ]
    }
   ],
   "source": [
    "print(start4num)\n",
    "print(betweennums)\n",
    "print(endnum)"
   ]
  },
  {
   "cell_type": "code",
   "execution_count": 7,
   "metadata": {},
   "outputs": [
    {
     "data": {
      "text/plain": [
       "'(0310)-128481-7'"
      ]
     },
     "execution_count": 7,
     "metadata": {},
     "output_type": "execute_result"
    }
   ],
   "source": [
    "regex = re.compile(r'(\\(\\d\\d\\d\\d\\))-(\\d\\d\\d\\d\\d\\d)-(\\d)')\n",
    "mo = regex.search(\"Exception handling is a mechanism that allows you to take\" \n",
    "                  \"appropriate action to avoid runtime errors. ... Throw : When\"\n",
    "                  \"an exception occur in try block, it is thrown  (0310)-128481-7 to the catch block using throw keyword.\"\n",
    "                  \"Catch :The catch block defines the action to be taken, when an  exception occur.\")\n",
    "mo.group()"
   ]
  },
  {
   "cell_type": "code",
   "execution_count": 8,
   "metadata": {},
   "outputs": [
    {
     "data": {
      "text/plain": [
       "'action '"
      ]
     },
     "execution_count": 8,
     "metadata": {},
     "output_type": "execute_result"
    }
   ],
   "source": [
    "regex = re.compile(r'action | taken')\n",
    "mo = regex.search(\"Exception handling is a mechanism that allows you to take\" \n",
    "                  \"appropriate action to avoid runtime errors. ... Throw : When\"\n",
    "                  \"an exception occur in try block , blue , billy , bat  it is thrown  (0310)-128481-7 to the catch block using throw keyword.\"\n",
    "                  \"Catch :The catch block defines the action to be taken, when an  exception occur.\")\n",
    "mo.group()\n",
    "\n"
   ]
  },
  {
   "cell_type": "code",
   "execution_count": 9,
   "metadata": {},
   "outputs": [
    {
     "data": {
      "text/plain": [
       "'blue'"
      ]
     },
     "execution_count": 9,
     "metadata": {},
     "output_type": "execute_result"
    }
   ],
   "source": [
    "regex = re.compile(r'b(o|i|r|a|l)ue')\n",
    "mo = regex.search(\"Exception handling is a mechanism that allows you to take\" \n",
    "                  \"appropriate action to avoid runtime errors. ... Throw : When\"\n",
    "                  \"an exception occur in try block , blue , billy , bat  it is thrown  (0310)-128481-7 to the catch block using throw keyword.\"\n",
    "                  \"Catch :The catch block defines the action to be taken, when an  exception occur.\")\n",
    "mo.group()\n"
   ]
  },
  {
   "cell_type": "code",
   "execution_count": 10,
   "metadata": {},
   "outputs": [
    {
     "data": {
      "text/plain": [
       "'occur'"
      ]
     },
     "execution_count": 10,
     "metadata": {},
     "output_type": "execute_result"
    }
   ],
   "source": [
    "regex = re.compile(r'o(cc|kk)?ur')\n",
    "mo = regex.search(\"Exception handling is a mechanism that allows you to take\" \n",
    "                  \"appropriate action to avoid runtime errors. ... Throw : When\"\n",
    "                  \"an exception occur in try block , blue , billy , bat  it is thrown  (0310)-128481-7 to the catch block using throw keyword.\"\n",
    "                  \"Catch :The catch block defines the action to be taken, when an  exception occur.\")\n",
    "mo.group()\n"
   ]
  },
  {
   "cell_type": "code",
   "execution_count": 11,
   "metadata": {},
   "outputs": [
    {
     "data": {
      "text/plain": [
       "'-128481-7'"
      ]
     },
     "execution_count": 11,
     "metadata": {},
     "output_type": "execute_result"
    }
   ],
   "source": [
    "regex = re.compile(r'(\\d\\d\\d\\d)?-(\\d\\d\\d\\d\\d\\d-\\d)')\n",
    "mo = regex.search(\"Exception handling is a mechanism that allows you to take\" \n",
    "                  \"appropriate action to avoid runtime errors. ... Throw : When\"\n",
    "                  \"an exception occur in try block , blue , billy , bat  it is thrown  -128481-7 to the catch block using throw keyword.\"\n",
    "                  \"Catch :The catch block defines the action to be taken, when an  exception occur.\")\n",
    "mo.group()\n"
   ]
  },
  {
   "cell_type": "code",
   "execution_count": 12,
   "metadata": {},
   "outputs": [
    {
     "data": {
      "text/plain": [
       "'sameeeeeeeeeer'"
      ]
     },
     "execution_count": 12,
     "metadata": {},
     "output_type": "execute_result"
    }
   ],
   "source": [
    "regex = re.compile(r'sam(e)*r')\n",
    "# * ek se ziada b match krskta ha ek b match nh krstka yni optional use krskte hain ise\n",
    "mo = regex.search(\"Exception handling is a mechanism that allows you to take\" \n",
    "                  \"appropriate action to avoid runtime errors. ... Throw : When\"\n",
    "                  \"an exception occur in try block , blue , billy , bat  it is thrown  -128481-7 to the catch block using throw keyword.\"\n",
    "                  \"Catch :The catch block defines the action sameeeeeeeeeer to be taken, when an  exception occur.\")\n",
    "mo.group()\n"
   ]
  },
  {
   "cell_type": "code",
   "execution_count": 13,
   "metadata": {},
   "outputs": [
    {
     "data": {
      "text/plain": [
       "'takakaken'"
      ]
     },
     "execution_count": 13,
     "metadata": {},
     "output_type": "execute_result"
    }
   ],
   "source": [
    "regex = re.compile(r't(ak)+en')\n",
    "# + ek se ziada b match krskta  ya ek lazmi match krana hota ha\n",
    "mo = regex.search(\"Exception handling is a mechanism that allows you to take\" \n",
    "                  \"appropriate action to avoid runtime errors. ... Throw : When\"\n",
    "                  \"an exception occur in try block , blue , billy , bat  it is thrown  -128481-7 to the catch block using throw keyword.\"\n",
    "                  \"Catch :The catch block defines the action sameer to be takakaken, when an  exception occur.\")\n",
    "mo.group()\n"
   ]
  },
  {
   "cell_type": "code",
   "execution_count": 14,
   "metadata": {},
   "outputs": [
    {
     "data": {
      "text/plain": [
       "'takakaken'"
      ]
     },
     "execution_count": 14,
     "metadata": {},
     "output_type": "execute_result"
    }
   ],
   "source": [
    "regex = re.compile(r't(ak){1,3}en')\n",
    "\n",
    "mo = regex.search(\"Exception handling is a mechanism that allows you to take\" \n",
    "                  \"appropriate action to avoid runtime errors. ... Throw : When\"\n",
    "                  \"an exception occur in try block , blue , billy , bat  it is thrown  -128481-7 to the catch block using throw keyword.\"\n",
    "                  \"Catch :The catch block defines the action sameer to be takakaken, when an  exception occur.\")\n",
    "mo.group()\n"
   ]
  },
  {
   "cell_type": "code",
   "execution_count": 15,
   "metadata": {},
   "outputs": [
    {
     "name": "stdout",
     "output_type": "stream",
     "text": [
      "['432', '031', '128', '481', '343', '325', '342']\n"
     ]
    },
    {
     "data": {
      "text/plain": [
       "['e', 'i', 'y', 'a']"
      ]
     },
     "execution_count": 15,
     "metadata": {},
     "output_type": "execute_result"
    }
   ],
   "source": [
    "regex = re.compile(r'\\d\\d\\d')\n",
    "rem = re.compile(r'b(\\D)l')\n",
    "mo = regex.findall(\"Exception handling is a mechanism that allows you to take\" \n",
    "                  \"appropriate action 432 to avoid bel  runtime errors. ... Throw : When\"\n",
    "    \"an exception occur in try block , blue , bil byl , bal  it is thrown  0310-128481-7 to the catch block using throw keyword.\"\n",
    "                  \n",
    "        \"Catch :The catch bloc 343 k defines the 325action sameer to bi 342 l be takakaken, when an  exception occur.\")\n",
    "\n",
    "er = rem.findall(\"Exception handling is a mechanism that allows you to take\" \n",
    "                   \"appropriate action 432 to avoid bel  runtime errors. ... Throw : When\"\n",
    "    \"an exception occur in try block , blue , bil byl , bal  it is thrown  0310-128481-7 to the catch block using throw keyword.\"\n",
    "                  \"Catch :The catch bloc 343 k defines the 325action sameer to bi 342 l be takakaken, when an  exception occur.\")\n",
    "\n",
    "print(mo)\n",
    "er"
   ]
  },
  {
   "cell_type": "code",
   "execution_count": 16,
   "metadata": {},
   "outputs": [
    {
     "data": {
      "text/plain": [
       "[('a', '_')]"
      ]
     },
     "execution_count": 16,
     "metadata": {},
     "output_type": "execute_result"
    }
   ],
   "source": [
    "rem = re.compile(r'b(\\w)(\\w)l')\n",
    "er = rem.findall(\"Exception handling is a mechanism that allows you to take\" \n",
    "                   \"appropriate action 432 to avoid bel  runtime errors. ... Throw : When\"\n",
    "    \"an exception occur in try block , blue , bil byl , ba_l  it is thrown  0310-128481-7 to the catch block using throw keyword.\"\n",
    "                  \"Catch :The catch bloc 343 k defines the 325action sameer to bi 342 l be takakaken, when an  exception occur.\")\n",
    "\n",
    "\n",
    "er"
   ]
  },
  {
   "cell_type": "code",
   "execution_count": 17,
   "metadata": {},
   "outputs": [
    {
     "data": {
      "text/plain": [
       "[('%', '#')]"
      ]
     },
     "execution_count": 17,
     "metadata": {},
     "output_type": "execute_result"
    }
   ],
   "source": [
    "rem = re.compile(r'b(\\W)(\\W)l')\n",
    "er = rem.findall(\"Exception handling is a mechanism that allows you to take\" \n",
    "                   \"appropriate action 432 to avoid bel  runtime errors. ... Throw : When\"\n",
    "    \"an exception occur in try block , blue , b%#l byl , ba_l  it is thrown  0310-128481-7 to the catch block using throw keyword.\"\n",
    "                  \"Catch :The catch bloc 343 k defines the 325action sameer to bi 342 l be takakaken, when an  exception occur.\")\n",
    "\n",
    "\n",
    "er"
   ]
  },
  {
   "cell_type": "code",
   "execution_count": 18,
   "metadata": {},
   "outputs": [
    {
     "data": {
      "text/plain": [
       "[('%', '#'), ('a', '_')]"
      ]
     },
     "execution_count": 18,
     "metadata": {},
     "output_type": "execute_result"
    }
   ],
   "source": [
    "rem = re.compile(r'b(\\S)(\\S)l')\n",
    "er = rem.findall(\"Exception handling is a mechanism that allows you to take\" \n",
    "                   \"appropriate action 432 to avoid bel  runtime errors. ... Throw : When\"\n",
    "    \"an exception occur in try block , blue , b%#l b l , ba_l  it is thrown  0310 -128481-7 to the catch block using throw keyword.\"\n",
    "                  \"Catch :The catch bloc 343 k defines the 325action sameer to bi 342 l be takakaken, when an  exception occur.\")\n",
    "\n",
    "\n",
    "er"
   ]
  },
  {
   "cell_type": "code",
   "execution_count": 19,
   "metadata": {},
   "outputs": [
    {
     "data": {
      "text/plain": [
       "['action 432', 'bloc 343', 'the 325', 'bi 342']"
      ]
     },
     "execution_count": 19,
     "metadata": {},
     "output_type": "execute_result"
    }
   ],
   "source": [
    "rem = re.compile(r'\\w+\\s\\d+')\n",
    "er = rem.findall(\"Exception handling is a mechanism that allows you to take\" \n",
    "                   \"appropriate action 432 to avoid bel  runtime errors. ... Throw : When\"\n",
    "    \"an exception occur in try block , blue , b%#l b l , ba_l  it is thrown  0310 -128481-7 to the catch block using throw keyword.\"\n",
    "                  \"Catch :The catch bloc 343 k defines the 325action sameer to bi 342 l be takakaken, when an  exception occur.\")\n",
    "\n",
    "\n",
    "er"
   ]
  },
  {
   "cell_type": "code",
   "execution_count": 20,
   "metadata": {},
   "outputs": [
    {
     "data": {
      "text/plain": [
       "['e',\n",
       " 'i',\n",
       " 'o',\n",
       " 'a',\n",
       " 'i',\n",
       " 'i',\n",
       " 'a',\n",
       " 'e',\n",
       " 'a',\n",
       " 'i',\n",
       " 'a',\n",
       " 'a',\n",
       " 'o',\n",
       " 'o',\n",
       " 'u',\n",
       " 'o',\n",
       " 'a',\n",
       " 'e',\n",
       " 'a',\n",
       " 'o',\n",
       " 'i',\n",
       " 'a',\n",
       " 'e',\n",
       " 'a',\n",
       " 'i',\n",
       " 'o',\n",
       " 'o',\n",
       " 'a',\n",
       " 'o',\n",
       " 'i',\n",
       " 'e',\n",
       " 'u',\n",
       " 'i',\n",
       " 'e',\n",
       " 'e',\n",
       " 'o',\n",
       " 'o',\n",
       " 'e',\n",
       " 'a',\n",
       " 'e',\n",
       " 'e',\n",
       " 'i',\n",
       " 'o',\n",
       " 'o',\n",
       " 'u',\n",
       " 'i',\n",
       " 'o',\n",
       " 'u',\n",
       " 'e',\n",
       " 'a',\n",
       " 'i',\n",
       " 'i',\n",
       " 'o',\n",
       " 'o',\n",
       " 'e',\n",
       " 'a',\n",
       " 'o',\n",
       " 'u',\n",
       " 'i',\n",
       " 'o',\n",
       " 'e',\n",
       " 'o',\n",
       " 'a',\n",
       " 'e',\n",
       " 'a',\n",
       " 'o',\n",
       " 'e',\n",
       " 'i',\n",
       " 'e',\n",
       " 'e',\n",
       " 'a',\n",
       " 'i',\n",
       " 'o',\n",
       " 'a',\n",
       " 'e',\n",
       " 'e',\n",
       " 'o',\n",
       " 'i',\n",
       " 'e',\n",
       " 'a',\n",
       " 'a',\n",
       " 'a',\n",
       " 'e',\n",
       " 'e',\n",
       " 'a',\n",
       " 'e',\n",
       " 'e',\n",
       " 'i',\n",
       " 'o',\n",
       " 'o',\n",
       " 'u']"
      ]
     },
     "execution_count": 20,
     "metadata": {},
     "output_type": "execute_result"
    }
   ],
   "source": [
    "vo =  re.compile(r'[aeiou]')\n",
    "er = vo.findall(\"Exception handling is a mechanism that allows you to take\" \n",
    "                   \"appropriate action 432 to avoid bel  runtime errors. ... Throw : When\"\n",
    "    \"an exception occur in try block , blue , b%#l b l , ba_l  it is thrown  0310 -128481-7 to the catch block using throw keyword.\"\n",
    "                  \"Catch :The catch bloc 343 k defines the 325action sameer to bi 342 l be takakaken, when an  exception occur.\")\n",
    "\n",
    "er"
   ]
  },
  {
   "cell_type": "code",
   "execution_count": 21,
   "metadata": {},
   "outputs": [
    {
     "data": {
      "text/plain": [
       "['E']"
      ]
     },
     "execution_count": 21,
     "metadata": {},
     "output_type": "execute_result"
    }
   ],
   "source": [
    "ZO =  re.compile(r'[AEIOU]')\n",
    "er = ZO.findall(\"Exception handling is a mechanism that allows you to take\" \n",
    "                   \"appropriate action 432 to avoid bel  runtime errors. ... Throw : When\"\n",
    "    \"an exception occur in try block , blue , b%#l b l , ba_l  it is thrown  0310 -128481-7 to the catch block using throw keyword.\"\n",
    "                  \"Catch :The catch bloc 343 k defines the 325action sameer to bi 342 l be takakaken, when an  exception occur.\")\n",
    "er\n"
   ]
  },
  {
   "cell_type": "code",
   "execution_count": 22,
   "metadata": {},
   "outputs": [
    {
     "data": {
      "text/plain": [
       "['E', 'T', 'W', 'C', 'T']"
      ]
     },
     "execution_count": 22,
     "metadata": {},
     "output_type": "execute_result"
    }
   ],
   "source": [
    "ZO =  re.compile(r'[A-Z]')\n",
    "er = ZO.findall(\"Exception handling is a mechanism that allows you to take\" \n",
    "                   \"appropriate action 432 to avoid bel  runtime errors. ... Throw : When\"\n",
    "    \"an exception occur in try block , blue , b%#l b l , ba_l  it is thrown  0310 -128481-7 to the catch block using throw keyword.\"\n",
    "                  \"Catch :The catch bloc 343 k defines the 325action sameer to bi 342 l be takakaken, when an  exception occur.\")\n",
    "er\n"
   ]
  },
  {
   "cell_type": "code",
   "execution_count": 23,
   "metadata": {},
   "outputs": [
    {
     "data": {
      "text/plain": [
       "['x',\n",
       " 'c',\n",
       " 'e',\n",
       " 'p',\n",
       " 't',\n",
       " 'i',\n",
       " 'o',\n",
       " 'n',\n",
       " 'h',\n",
       " 'a',\n",
       " 'n',\n",
       " 'd',\n",
       " 'l',\n",
       " 'i',\n",
       " 'n',\n",
       " 'g',\n",
       " 'i',\n",
       " 's',\n",
       " 'a',\n",
       " 'm',\n",
       " 'e',\n",
       " 'c',\n",
       " 'h',\n",
       " 'a',\n",
       " 'n',\n",
       " 'i',\n",
       " 's',\n",
       " 'm',\n",
       " 't',\n",
       " 'h',\n",
       " 'a',\n",
       " 't',\n",
       " 'a',\n",
       " 'l',\n",
       " 'l',\n",
       " 'o',\n",
       " 'w',\n",
       " 's',\n",
       " 'y',\n",
       " 'o',\n",
       " 'u',\n",
       " 't',\n",
       " 'o',\n",
       " 't',\n",
       " 'a',\n",
       " 'k',\n",
       " 'e',\n",
       " 'a',\n",
       " 'p',\n",
       " 'p',\n",
       " 'r',\n",
       " 'o',\n",
       " 'p',\n",
       " 'r',\n",
       " 'i',\n",
       " 'a',\n",
       " 't',\n",
       " 'e',\n",
       " 'a',\n",
       " 'c',\n",
       " 't',\n",
       " 'i',\n",
       " 'o',\n",
       " 'n',\n",
       " 't',\n",
       " 'o',\n",
       " 'a',\n",
       " 'v',\n",
       " 'o',\n",
       " 'i',\n",
       " 'd',\n",
       " 'b',\n",
       " 'e',\n",
       " 'l',\n",
       " 'r',\n",
       " 'u',\n",
       " 'n',\n",
       " 't',\n",
       " 'i',\n",
       " 'm',\n",
       " 'e',\n",
       " 'e',\n",
       " 'r',\n",
       " 'r',\n",
       " 'o',\n",
       " 'r',\n",
       " 's',\n",
       " 'h',\n",
       " 'r',\n",
       " 'o',\n",
       " 'w',\n",
       " 'h',\n",
       " 'e',\n",
       " 'n',\n",
       " 'a',\n",
       " 'n',\n",
       " 'e',\n",
       " 'x',\n",
       " 'c',\n",
       " 'e',\n",
       " 'p',\n",
       " 't',\n",
       " 'i',\n",
       " 'o',\n",
       " 'n',\n",
       " 'o',\n",
       " 'c',\n",
       " 'c',\n",
       " 'u',\n",
       " 'r',\n",
       " 'i',\n",
       " 'n',\n",
       " 't',\n",
       " 'r',\n",
       " 'y',\n",
       " 'b',\n",
       " 'l',\n",
       " 'o',\n",
       " 'c',\n",
       " 'k',\n",
       " 'b',\n",
       " 'l',\n",
       " 'u',\n",
       " 'e',\n",
       " 'b',\n",
       " 'l',\n",
       " 'b',\n",
       " 'l',\n",
       " 'b',\n",
       " 'a',\n",
       " 'l',\n",
       " 'i',\n",
       " 't',\n",
       " 'i',\n",
       " 's',\n",
       " 't',\n",
       " 'h',\n",
       " 'r',\n",
       " 'o',\n",
       " 'w',\n",
       " 'n',\n",
       " 't',\n",
       " 'o',\n",
       " 't',\n",
       " 'h',\n",
       " 'e',\n",
       " 'c',\n",
       " 'a',\n",
       " 't',\n",
       " 'c',\n",
       " 'h',\n",
       " 'b',\n",
       " 'l',\n",
       " 'o',\n",
       " 'c',\n",
       " 'k',\n",
       " 'u',\n",
       " 's',\n",
       " 'i',\n",
       " 'n',\n",
       " 'g',\n",
       " 't',\n",
       " 'h',\n",
       " 'r',\n",
       " 'o',\n",
       " 'w',\n",
       " 'k',\n",
       " 'e',\n",
       " 'y',\n",
       " 'w',\n",
       " 'o',\n",
       " 'r',\n",
       " 'd',\n",
       " 'a',\n",
       " 't',\n",
       " 'c',\n",
       " 'h',\n",
       " 'h',\n",
       " 'e',\n",
       " 'c',\n",
       " 'a',\n",
       " 't',\n",
       " 'c',\n",
       " 'h',\n",
       " 'b',\n",
       " 'l',\n",
       " 'o',\n",
       " 'c',\n",
       " 'k',\n",
       " 'd',\n",
       " 'e',\n",
       " 'f',\n",
       " 'i',\n",
       " 'n',\n",
       " 'e',\n",
       " 's',\n",
       " 't',\n",
       " 'h',\n",
       " 'e',\n",
       " 'a',\n",
       " 'c',\n",
       " 't',\n",
       " 'i',\n",
       " 'o',\n",
       " 'n',\n",
       " 's',\n",
       " 'a',\n",
       " 'm',\n",
       " 'e',\n",
       " 'e',\n",
       " 'r',\n",
       " 't',\n",
       " 'o',\n",
       " 'b',\n",
       " 'i',\n",
       " 'l',\n",
       " 'b',\n",
       " 'e',\n",
       " 't',\n",
       " 'a',\n",
       " 'k',\n",
       " 'a',\n",
       " 'k',\n",
       " 'a',\n",
       " 'k',\n",
       " 'e',\n",
       " 'n',\n",
       " 'w',\n",
       " 'h',\n",
       " 'e',\n",
       " 'n',\n",
       " 'a',\n",
       " 'n',\n",
       " 'e',\n",
       " 'x',\n",
       " 'c',\n",
       " 'e',\n",
       " 'p',\n",
       " 't',\n",
       " 'i',\n",
       " 'o',\n",
       " 'n',\n",
       " 'o',\n",
       " 'c',\n",
       " 'c',\n",
       " 'u',\n",
       " 'r']"
      ]
     },
     "execution_count": 23,
     "metadata": {},
     "output_type": "execute_result"
    }
   ],
   "source": [
    "ZO =  re.compile(r'[a-z]')\n",
    "er = ZO.findall(\"Exception handling is a mechanism that allows you to take\" \n",
    "                   \"appropriate action 432 to avoid bel  runtime errors. ... Throw : When\"\n",
    "    \"an exception occur in try block , blue , b%#l b l , ba_l  it is thrown  0310 -128481-7 to the catch block using throw keyword.\"\n",
    "                  \"Catch :The catch bloc 343 k defines the 325action sameer to bi 342 l be takakaken, when an  exception occur.\")\n",
    "er\n"
   ]
  },
  {
   "cell_type": "code",
   "execution_count": 24,
   "metadata": {},
   "outputs": [
    {
     "data": {
      "text/plain": [
       "['4',\n",
       " '3',\n",
       " '2',\n",
       " '0',\n",
       " '3',\n",
       " '1',\n",
       " '0',\n",
       " '1',\n",
       " '2',\n",
       " '8',\n",
       " '4',\n",
       " '8',\n",
       " '1',\n",
       " '7',\n",
       " '3',\n",
       " '4',\n",
       " '3',\n",
       " '3',\n",
       " '2',\n",
       " '5',\n",
       " '3',\n",
       " '4',\n",
       " '2']"
      ]
     },
     "execution_count": 24,
     "metadata": {},
     "output_type": "execute_result"
    }
   ],
   "source": [
    "ZO =  re.compile(r'[0-9]')\n",
    "er = ZO.findall(\"Exception handling is a mechanism that allows you to take\" \n",
    "                   \"appropriate action 432 to avoid bel  runtime errors. ... Throw : When\"\n",
    "    \"an exception occur in try block , blue , b%#l b l , ba_l  it is thrown  0310 -128481-7 to the catch block using throw keyword.\"\n",
    "                  \"Catch :The catch bloc 343 k defines the 325action sameer to bi 342 l be takakaken, when an  exception occur.\")\n",
    "er\n"
   ]
  },
  {
   "cell_type": "code",
   "execution_count": 25,
   "metadata": {},
   "outputs": [
    {
     "data": {
      "text/plain": [
       "['E',\n",
       " 'x',\n",
       " 'c',\n",
       " 'p',\n",
       " 't',\n",
       " 'n',\n",
       " ' ',\n",
       " 'h',\n",
       " 'n',\n",
       " 'd',\n",
       " 'l',\n",
       " 'n',\n",
       " 'g',\n",
       " ' ',\n",
       " 's',\n",
       " ' ',\n",
       " ' ',\n",
       " 'm',\n",
       " 'c',\n",
       " 'h',\n",
       " 'n',\n",
       " 's',\n",
       " 'm',\n",
       " ' ',\n",
       " 't',\n",
       " 'h',\n",
       " 't',\n",
       " ' ',\n",
       " 'l',\n",
       " 'l',\n",
       " 'w',\n",
       " 's',\n",
       " ' ',\n",
       " 'y',\n",
       " ' ',\n",
       " 't',\n",
       " ' ',\n",
       " 't',\n",
       " 'k',\n",
       " 'p',\n",
       " 'p',\n",
       " 'r',\n",
       " 'p',\n",
       " 'r',\n",
       " 't',\n",
       " ' ',\n",
       " 'c',\n",
       " 't',\n",
       " 'n',\n",
       " ' ',\n",
       " '4',\n",
       " '3',\n",
       " '2',\n",
       " ' ',\n",
       " 't',\n",
       " ' ',\n",
       " 'v',\n",
       " 'd',\n",
       " ' ',\n",
       " 'b',\n",
       " 'l',\n",
       " ' ',\n",
       " ' ',\n",
       " 'r',\n",
       " 'n',\n",
       " 't',\n",
       " 'm',\n",
       " ' ',\n",
       " 'r',\n",
       " 'r',\n",
       " 'r',\n",
       " 's',\n",
       " '.',\n",
       " ' ',\n",
       " '.',\n",
       " '.',\n",
       " '.',\n",
       " ' ',\n",
       " 'T',\n",
       " 'h',\n",
       " 'r',\n",
       " 'w',\n",
       " ' ',\n",
       " ':',\n",
       " ' ',\n",
       " 'W',\n",
       " 'h',\n",
       " 'n',\n",
       " 'n',\n",
       " ' ',\n",
       " 'x',\n",
       " 'c',\n",
       " 'p',\n",
       " 't',\n",
       " 'n',\n",
       " ' ',\n",
       " 'c',\n",
       " 'c',\n",
       " 'r',\n",
       " ' ',\n",
       " 'n',\n",
       " ' ',\n",
       " 't',\n",
       " 'r',\n",
       " 'y',\n",
       " ' ',\n",
       " 'b',\n",
       " 'l',\n",
       " 'c',\n",
       " 'k',\n",
       " ' ',\n",
       " ',',\n",
       " ' ',\n",
       " 'b',\n",
       " 'l',\n",
       " ' ',\n",
       " ',',\n",
       " ' ',\n",
       " 'b',\n",
       " '%',\n",
       " '#',\n",
       " 'l',\n",
       " ' ',\n",
       " 'b',\n",
       " ' ',\n",
       " 'l',\n",
       " ' ',\n",
       " ',',\n",
       " ' ',\n",
       " 'b',\n",
       " '_',\n",
       " 'l',\n",
       " ' ',\n",
       " ' ',\n",
       " 't',\n",
       " ' ',\n",
       " 's',\n",
       " ' ',\n",
       " 't',\n",
       " 'h',\n",
       " 'r',\n",
       " 'w',\n",
       " 'n',\n",
       " ' ',\n",
       " ' ',\n",
       " '0',\n",
       " '3',\n",
       " '1',\n",
       " '0',\n",
       " ' ',\n",
       " '-',\n",
       " '1',\n",
       " '2',\n",
       " '8',\n",
       " '4',\n",
       " '8',\n",
       " '1',\n",
       " '-',\n",
       " '7',\n",
       " ' ',\n",
       " 't',\n",
       " ' ',\n",
       " 't',\n",
       " 'h',\n",
       " ' ',\n",
       " 'c',\n",
       " 't',\n",
       " 'c',\n",
       " 'h',\n",
       " ' ',\n",
       " 'b',\n",
       " 'l',\n",
       " 'c',\n",
       " 'k',\n",
       " ' ',\n",
       " 's',\n",
       " 'n',\n",
       " 'g',\n",
       " ' ',\n",
       " 't',\n",
       " 'h',\n",
       " 'r',\n",
       " 'w',\n",
       " ' ',\n",
       " 'k',\n",
       " 'y',\n",
       " 'w',\n",
       " 'r',\n",
       " 'd',\n",
       " '.',\n",
       " 'C',\n",
       " 't',\n",
       " 'c',\n",
       " 'h',\n",
       " ' ',\n",
       " ':',\n",
       " 'T',\n",
       " 'h',\n",
       " ' ',\n",
       " 'c',\n",
       " 't',\n",
       " 'c',\n",
       " 'h',\n",
       " ' ',\n",
       " 'b',\n",
       " 'l',\n",
       " 'c',\n",
       " ' ',\n",
       " '3',\n",
       " '4',\n",
       " '3',\n",
       " ' ',\n",
       " 'k',\n",
       " ' ',\n",
       " 'd',\n",
       " 'f',\n",
       " 'n',\n",
       " 's',\n",
       " ' ',\n",
       " 't',\n",
       " 'h',\n",
       " ' ',\n",
       " '3',\n",
       " '2',\n",
       " '5',\n",
       " 'c',\n",
       " 't',\n",
       " 'n',\n",
       " ' ',\n",
       " 's',\n",
       " 'm',\n",
       " 'r',\n",
       " ' ',\n",
       " 't',\n",
       " ' ',\n",
       " 'b',\n",
       " ' ',\n",
       " '3',\n",
       " '4',\n",
       " '2',\n",
       " ' ',\n",
       " 'l',\n",
       " ' ',\n",
       " 'b',\n",
       " ' ',\n",
       " 't',\n",
       " 'k',\n",
       " 'k',\n",
       " 'k',\n",
       " 'n',\n",
       " ',',\n",
       " ' ',\n",
       " 'w',\n",
       " 'h',\n",
       " 'n',\n",
       " ' ',\n",
       " 'n',\n",
       " ' ',\n",
       " ' ',\n",
       " 'x',\n",
       " 'c',\n",
       " 'p',\n",
       " 't',\n",
       " 'n',\n",
       " ' ',\n",
       " 'c',\n",
       " 'c',\n",
       " 'r',\n",
       " '.']"
      ]
     },
     "execution_count": 25,
     "metadata": {},
     "output_type": "execute_result"
    }
   ],
   "source": [
    "ZO =  re.compile(r'[^aeiou]')\n",
    "er = ZO.findall(\"Exception handling is a mechanism that allows you to take\" \n",
    "                   \"appropriate action 432 to avoid bel  runtime errors. ... Throw : When\"\n",
    "    \"an exception occur in try block , blue , b%#l b l , ba_l  it is thrown  0310 -128481-7 to the catch block using throw keyword.\"\n",
    "                  \"Catch :The catch bloc 343 k defines the 325action sameer to bi 342 l be takakaken, when an  exception occur.\")\n",
    "er\n"
   ]
  },
  {
   "cell_type": "code",
   "execution_count": 26,
   "metadata": {},
   "outputs": [
    {
     "data": {
      "text/plain": [
       "['  ', '. ', '. ', ': ', ', ', ', ', ', ', '  ', '  ', ', ', '  ']"
      ]
     },
     "execution_count": 26,
     "metadata": {},
     "output_type": "execute_result"
    }
   ],
   "source": [
    "ZO =  re.compile(r'[^\\w][\\s]')\n",
    "er = ZO.findall(\"Exception handling is a mechanism that allows you to take\" \n",
    "                   \"appropriate action 432 to avoid bel  runtime errors. ... Throw : When\"\n",
    "    \"an exception occur in try block , blue , b%#l b l , ba_l  it is thrown  0310 -128481-7 to the catch block using throw keyword.\"\n",
    "                  \"Catch :The catch bloc 343 k defines the 325action sameer to bi 342 l be takakaken, when an  exception occur.\")\n",
    "er\n"
   ]
  },
  {
   "cell_type": "code",
   "execution_count": 27,
   "metadata": {},
   "outputs": [
    {
     "data": {
      "text/plain": [
       "['cat', 'bat', 'aat', 'nat', 'rat']"
      ]
     },
     "execution_count": 27,
     "metadata": {},
     "output_type": "execute_result"
    }
   ],
   "source": [
    "ZO =  re.compile(r'.at')\n",
    "er = ZO.findall(\"cat bat faat nat ballon grate\" )\n",
    "er                  "
   ]
  },
  {
   "cell_type": "code",
   "execution_count": 28,
   "metadata": {},
   "outputs": [
    {
     "ename": "SyntaxError",
     "evalue": "invalid syntax (<ipython-input-28-7db57dfd3c5e>, line 6)",
     "output_type": "error",
     "traceback": [
      "\u001b[1;36m  File \u001b[1;32m\"<ipython-input-28-7db57dfd3c5e>\"\u001b[1;36m, line \u001b[1;32m6\u001b[0m\n\u001b[1;33m    [a-zA-Z0-9._%+-]+ # username\u001b[0m\n\u001b[1;37m               ^\u001b[0m\n\u001b[1;31mSyntaxError\u001b[0m\u001b[1;31m:\u001b[0m invalid syntax\n"
     ]
    }
   ],
   "source": [
    "import pyperclip, re\n",
    "phoneRegex = re.compile(r'''(\n",
    "--snip--\n",
    "# Create email regex.\n",
    "emailRegex = re.compile(r'''(\n",
    "[a-zA-Z0-9._%+-]+ # username\n",
    "@ # @ symbol\n",
    "[a-zA-Z0-9.-]+ # domain name\n",
    " (\\.[a-zA-Z]{2,4}) # dot-something\n",
    " )''', re.VERBOSE)"
   ]
  },
  {
   "cell_type": "code",
   "execution_count": 33,
   "metadata": {},
   "outputs": [
    {
     "data": {
      "text/plain": [
       "'#######hello########'"
      ]
     },
     "execution_count": 33,
     "metadata": {},
     "output_type": "execute_result"
    }
   ],
   "source": [
    "'hello'.center(20 , '#')"
   ]
  },
  {
   "cell_type": "code",
   "execution_count": 34,
   "metadata": {},
   "outputs": [
    {
     "data": {
      "text/plain": [
       "'hello###############'"
      ]
     },
     "execution_count": 34,
     "metadata": {},
     "output_type": "execute_result"
    }
   ],
   "source": [
    "'hello'.ljust(20 , '#')"
   ]
  },
  {
   "cell_type": "code",
   "execution_count": 35,
   "metadata": {},
   "outputs": [
    {
     "data": {
      "text/plain": [
       "'###############hello'"
      ]
     },
     "execution_count": 35,
     "metadata": {},
     "output_type": "execute_result"
    }
   ],
   "source": [
    "'hello'.rjust(20 , '#')"
   ]
  },
  {
   "cell_type": "code",
   "execution_count": 40,
   "metadata": {},
   "outputs": [
    {
     "ename": "ImportError",
     "evalue": "No module named pyperclip",
     "output_type": "error",
     "traceback": [
      "\u001b[1;31m---------------------------------------------------------------------------\u001b[0m",
      "\u001b[1;31mImportError\u001b[0m                               Traceback (most recent call last)",
      "\u001b[1;32m<ipython-input-40-7cb96fba213a>\u001b[0m in \u001b[0;36m<module>\u001b[1;34m()\u001b[0m\n\u001b[0;32m      1\u001b[0m \u001b[1;33m\u001b[0m\u001b[0m\n\u001b[1;32m----> 2\u001b[1;33m \u001b[1;32mimport\u001b[0m \u001b[0mpyperclip\u001b[0m\u001b[1;33m\u001b[0m\u001b[0m\n\u001b[0m\u001b[0;32m      3\u001b[0m \u001b[0mpyperclip\u001b[0m\u001b[1;33m.\u001b[0m\u001b[0mcopy\u001b[0m\u001b[1;33m(\u001b[0m\u001b[1;34m'Hello world!'\u001b[0m\u001b[1;33m)\u001b[0m\u001b[1;33m\u001b[0m\u001b[0m\n\u001b[0;32m      4\u001b[0m \u001b[0mpyperclip\u001b[0m\u001b[1;33m.\u001b[0m\u001b[0mpaste\u001b[0m\u001b[1;33m(\u001b[0m\u001b[1;33m)\u001b[0m\u001b[1;33m\u001b[0m\u001b[0m\n",
      "\u001b[1;31mImportError\u001b[0m: No module named pyperclip"
     ]
    }
   ],
   "source": [
    "\n",
    "import pyperclip\n",
    "pyperclip.copy('Hello world!')\n",
    "pyperclip.paste()\n"
   ]
  },
  {
   "cell_type": "code",
   "execution_count": null,
   "metadata": {},
   "outputs": [],
   "source": []
  }
 ],
 "metadata": {
  "kernelspec": {
   "display_name": "Python 2",
   "language": "python",
   "name": "python2"
  },
  "language_info": {
   "codemirror_mode": {
    "name": "ipython",
    "version": 2
   },
   "file_extension": ".py",
   "mimetype": "text/x-python",
   "name": "python",
   "nbconvert_exporter": "python",
   "pygments_lexer": "ipython2",
   "version": "2.7.16"
  }
 },
 "nbformat": 4,
 "nbformat_minor": 2
}
