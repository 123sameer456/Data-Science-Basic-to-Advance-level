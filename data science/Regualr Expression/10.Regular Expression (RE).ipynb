{
 "cells": [
  {
   "cell_type": "code",
   "execution_count": 1,
   "metadata": {},
   "outputs": [],
   "source": [
    "import pandas as pd\n",
    "import numpy as np\n",
    "import matplotlib.pyplot as plt"
   ]
  },
  {
   "cell_type": "code",
   "execution_count": 2,
   "metadata": {},
   "outputs": [],
   "source": [
    "hn = pd.read_csv(\"hacker_news.csv\")"
   ]
  },
  {
   "cell_type": "code",
   "execution_count": 3,
   "metadata": {},
   "outputs": [
    {
     "name": "stdout",
     "output_type": "stream",
     "text": [
      "<class 'pandas.core.frame.DataFrame'>\n",
      "RangeIndex: 20100 entries, 0 to 20099\n",
      "Data columns (total 7 columns):\n",
      "id              20100 non-null int64\n",
      "title           20100 non-null object\n",
      "url             17660 non-null object\n",
      "num_points      20100 non-null int64\n",
      "num_comments    20100 non-null int64\n",
      "author          20100 non-null object\n",
      "created_at      20100 non-null object\n",
      "dtypes: int64(3), object(4)\n",
      "memory usage: 1.1+ MB\n"
     ]
    }
   ],
   "source": [
    "hn.info()"
   ]
  },
  {
   "cell_type": "code",
   "execution_count": 4,
   "metadata": {},
   "outputs": [
    {
     "data": {
      "text/html": [
       "<div>\n",
       "<style scoped>\n",
       "    .dataframe tbody tr th:only-of-type {\n",
       "        vertical-align: middle;\n",
       "    }\n",
       "\n",
       "    .dataframe tbody tr th {\n",
       "        vertical-align: top;\n",
       "    }\n",
       "\n",
       "    .dataframe thead th {\n",
       "        text-align: right;\n",
       "    }\n",
       "</style>\n",
       "<table border=\"1\" class=\"dataframe\">\n",
       "  <thead>\n",
       "    <tr style=\"text-align: right;\">\n",
       "      <th></th>\n",
       "      <th>id</th>\n",
       "      <th>title</th>\n",
       "      <th>url</th>\n",
       "      <th>num_points</th>\n",
       "      <th>num_comments</th>\n",
       "      <th>author</th>\n",
       "      <th>created_at</th>\n",
       "    </tr>\n",
       "  </thead>\n",
       "  <tbody>\n",
       "    <tr>\n",
       "      <th>0</th>\n",
       "      <td>12224879</td>\n",
       "      <td>Interactive Dynamic Video</td>\n",
       "      <td>http://www.interactivedynamicvideo.com/</td>\n",
       "      <td>386</td>\n",
       "      <td>52</td>\n",
       "      <td>ne0phyte</td>\n",
       "      <td>8/4/2016 11:52</td>\n",
       "    </tr>\n",
       "    <tr>\n",
       "      <th>1</th>\n",
       "      <td>10975351</td>\n",
       "      <td>How to Use Open Source and Shut the Fuck Up at...</td>\n",
       "      <td>http://hueniverse.com/2016/01/26/how-to-use-op...</td>\n",
       "      <td>39</td>\n",
       "      <td>10</td>\n",
       "      <td>josep2</td>\n",
       "      <td>1/26/2016 19:30</td>\n",
       "    </tr>\n",
       "    <tr>\n",
       "      <th>2</th>\n",
       "      <td>11964716</td>\n",
       "      <td>Florida DJs May Face Felony for April Fools' W...</td>\n",
       "      <td>http://www.thewire.com/entertainment/2013/04/f...</td>\n",
       "      <td>2</td>\n",
       "      <td>1</td>\n",
       "      <td>vezycash</td>\n",
       "      <td>6/23/2016 22:20</td>\n",
       "    </tr>\n",
       "    <tr>\n",
       "      <th>3</th>\n",
       "      <td>11919867</td>\n",
       "      <td>Technology ventures: From Idea to Enterprise</td>\n",
       "      <td>https://www.amazon.com/Technology-Ventures-Ent...</td>\n",
       "      <td>3</td>\n",
       "      <td>1</td>\n",
       "      <td>hswarna</td>\n",
       "      <td>6/17/2016 0:01</td>\n",
       "    </tr>\n",
       "    <tr>\n",
       "      <th>4</th>\n",
       "      <td>10301696</td>\n",
       "      <td>Note by Note: The Making of Steinway L1037 (2007)</td>\n",
       "      <td>http://www.nytimes.com/2007/11/07/movies/07ste...</td>\n",
       "      <td>8</td>\n",
       "      <td>2</td>\n",
       "      <td>walterbell</td>\n",
       "      <td>9/30/2015 4:12</td>\n",
       "    </tr>\n",
       "  </tbody>\n",
       "</table>\n",
       "</div>"
      ],
      "text/plain": [
       "         id                                              title  \\\n",
       "0  12224879                          Interactive Dynamic Video   \n",
       "1  10975351  How to Use Open Source and Shut the Fuck Up at...   \n",
       "2  11964716  Florida DJs May Face Felony for April Fools' W...   \n",
       "3  11919867       Technology ventures: From Idea to Enterprise   \n",
       "4  10301696  Note by Note: The Making of Steinway L1037 (2007)   \n",
       "\n",
       "                                                 url  num_points  \\\n",
       "0            http://www.interactivedynamicvideo.com/         386   \n",
       "1  http://hueniverse.com/2016/01/26/how-to-use-op...          39   \n",
       "2  http://www.thewire.com/entertainment/2013/04/f...           2   \n",
       "3  https://www.amazon.com/Technology-Ventures-Ent...           3   \n",
       "4  http://www.nytimes.com/2007/11/07/movies/07ste...           8   \n",
       "\n",
       "   num_comments      author       created_at  \n",
       "0            52    ne0phyte   8/4/2016 11:52  \n",
       "1            10      josep2  1/26/2016 19:30  \n",
       "2             1    vezycash  6/23/2016 22:20  \n",
       "3             1     hswarna   6/17/2016 0:01  \n",
       "4             2  walterbell   9/30/2015 4:12  "
      ]
     },
     "execution_count": 4,
     "metadata": {},
     "output_type": "execute_result"
    }
   ],
   "source": [
    "hn.head()"
   ]
  },
  {
   "cell_type": "code",
   "execution_count": 5,
   "metadata": {},
   "outputs": [
    {
     "data": {
      "text/plain": [
       "0                                Interactive Dynamic Video\n",
       "1        How to Use Open Source and Shut the Fuck Up at...\n",
       "2        Florida DJs May Face Felony for April Fools' W...\n",
       "3             Technology ventures: From Idea to Enterprise\n",
       "4        Note by Note: The Making of Steinway L1037 (2007)\n",
       "5        Title II kills investment? Comcast and other I...\n",
       "6                           Nuts and Bolts Business Advice\n",
       "7              Ask HN: How to improve my personal website?\n",
       "8        Shims, Jigs and Other Woodworking Concepts to ...\n",
       "9                                   That self-appendectomy\n",
       "10       Crate raises $4M seed round for its next-gen S...\n",
       "11       Advertising Cannot Maintain the Internet. Here...\n",
       "12                                          Coding Is Over\n",
       "13       Show HN: Wio Link  ESP8266 Based Web of Things...\n",
       "14                  Custom Deleters for C++ Smart Pointers\n",
       "15              How often to update third party libraries?\n",
       "16                        Review my AI based marketing bot\n",
       "17       Ask HN: Am I the only one outraged by Twitter ...\n",
       "18          Ten years later, did Boston's Big Dig deliver?\n",
       "19               Valid.ly  Never send another OOPS message\n",
       "20                     APOD: LIGO detects gravity waves...\n",
       "21       Typeplate: a typographic starter kit encouragi...\n",
       "22       Ask HN: Aby recent changes to CSS that broke m...\n",
       "23       Streamroot makes video streaming cheaper thank...\n",
       "24       VMware Confirms Layoffs as It Prepares for Del...\n",
       "25       Firmware exploit can defeat new Windows securi...\n",
       "26                The Sad State of Personal Knowledgebases\n",
       "27                                US Robotics Network Taps\n",
       "28                     Fundraising Advice for YC Companies\n",
       "29       PSA: Intel WICS broken for years with official...\n",
       "                               ...                        \n",
       "20070    Show HN: Parse recipe ingredients using JavaSc...\n",
       "20071    Engineering PhD student who died last year wil...\n",
       "20072    Apples Amazing New Music App Hits All the Righ...\n",
       "20073    Airbnb acquires team of Bitcoin and blockchain...\n",
       "20074                                     Is Tesla Doomed?\n",
       "20075    An Experiment with GitHub Pages, Jekyll and Tr...\n",
       "20076    Tips from a Pro: An Introduction to Microscopi...\n",
       "20077    Comcast CEO to angry customers: Its not me, it...\n",
       "20078    The Renewed Case for the Reduced Instruction S...\n",
       "20079    U.S. Judge Rejects Ubers Proposed $100M Settle...\n",
       "20080                          English Syntax Highlighting\n",
       "20081                   The Geek Behind Google's Map Quest\n",
       "20082                 Usenet, what have you become? (2012)\n",
       "20083    Colma, Calif., Is a Town of 2.2 Square Miles, ...\n",
       "20084    The bizarre world of Bitcoin mining finds a ne...\n",
       "20085    Microservice on-top of distributed filesystem ...\n",
       "20086    Satoshi Nakamoto officially nominated for the ...\n",
       "20087      Debian XScreenSaver package maintainer responds\n",
       "20088          TSA Sued Over New Policy to Refuse Opt-Outs\n",
       "20089    I have $10,000 dollars in my bank account. Am ...\n",
       "20090    Users Really Do Plug in USB Drives They Find [...\n",
       "20091    Visual Studio now available in cloud subscript...\n",
       "20092    Thought leader gives talk that will inspire yo...\n",
       "20093              On Botnets and Streaming Music Services\n",
       "20094               Two new steps toward quantum computing\n",
       "20095    How Purism Avoids Intels Active Management Tec...\n",
       "20096            YC Application Translated and Broken Down\n",
       "20097    Microkernels are slow and Elvis didn't do no d...\n",
       "20098                        How Product Hunt really works\n",
       "20099    RoboBrowser: Your friendly neighborhood web sc...\n",
       "Name: title, Length: 20100, dtype: object"
      ]
     },
     "execution_count": 5,
     "metadata": {},
     "output_type": "execute_result"
    }
   ],
   "source": [
    "titles=hn[\"title\"]\n",
    "titles"
   ]
  },
  {
   "cell_type": "code",
   "execution_count": 6,
   "metadata": {},
   "outputs": [
    {
     "data": {
      "text/plain": [
       "160"
      ]
     },
     "execution_count": 6,
     "metadata": {},
     "output_type": "execute_result"
    }
   ],
   "source": [
    "pattern='[Pp]ython'\n",
    "titles.str.contains(pattern).sum() #str.replace.split.strip"
   ]
  },
  {
   "cell_type": "code",
   "execution_count": 7,
   "metadata": {},
   "outputs": [
    {
     "data": {
      "text/plain": [
       "103                    From Python to Lua: Why We Switched\n",
       "104              Ubuntu 16.04 LTS to Ship Without Python 2\n",
       "145      Create a GUI Application Using Qt and Python i...\n",
       "197      How I Solved GCHQ's Xmas Card with Python and ...\n",
       "437      Unikernel Power Comes to Java, Node.js, Go, an...\n",
       "452      Developing a computational pipeline using the ...\n",
       "537        Show HN: Minimal, modern embedded V8 for Python\n",
       "581      Python integration for the Duktape Javascript ...\n",
       "741      Python 3 on Google App Engine flexible environ...\n",
       "766      IronPython 3 (python for .net) development res...\n",
       "1430     Cysignals: signal handling (SIGINT, SIGSEGV, )...\n",
       "1487     Ask HN: Would you be interested in an embeddab...\n",
       "1747                        A Hello World Server in Python\n",
       "2235                 Microsoft shipped Python code in 1996\n",
       "2254     Moore Foundation provides grant for Contiuum's...\n",
       "2418                             Integrate Python and .NET\n",
       "2555     Face Swap (C++ / Python): Meet Ted Trump, Dona...\n",
       "3215                                          ImportPython\n",
       "3644     Show HN: Fabulous: Print images in terminal wi...\n",
       "3721     Python 3.5 Async IO, Matmul and Unpack Feature...\n",
       "3741     Scipy Lecture Notes  Learn numerics, science, ...\n",
       "3745     PeachPy: Assembly Code Generation in High-Leve...\n",
       "3808     500 Lines or Less  A Python Interpreter Writte...\n",
       "3944                   Peak detection on signals in Python\n",
       "4135     PLY (Python Lex-Yacc)  To Write a Parser in Py...\n",
       "4188     Visualizing relationships between Python packages\n",
       "4333               Debugging of CPython processes with gdb\n",
       "4354     Marshmallow: Simplified object serialization f...\n",
       "4406                   Pycraft: Minecraft engine in Python\n",
       "4923     Using Google's Python Client Library to Author...\n",
       "                               ...                        \n",
       "16956                 Jarvis: Personal Assistant in Python\n",
       "16986                           Python Internals: PyObject\n",
       "17009    An SMS Center with Python, Kannel and a GSM Modem\n",
       "17068                                   The Python Paradox\n",
       "17085    How I defeated an anti-tamper APK with some Py...\n",
       "17107                 An Introduction to Mocking in Python\n",
       "17419                       Writing Pythonic code pays off\n",
       "17551    Show HN: Insideout  does this new approach to ...\n",
       "17603    Comparing Python Command-Line Parsing Librarie...\n",
       "17767                Python: Why cant we write list.len()?\n",
       "17821    An Introduction to Scientific Python (and a Bi...\n",
       "18208    Feather: A Fast On-Disk Format for Data Frames...\n",
       "18261                     From Python to Go and Back Again\n",
       "18274                       How to kill yourself in Python\n",
       "18313                                  Why Python 3 Exists\n",
       "18422    Show HN: Stack overflow command line client ad...\n",
       "18537    Python one-liner to compare two files (conditi...\n",
       "18650                 Python vs. C/C++ in embedded systems\n",
       "18810        The origins of the class Meta idiom in python\n",
       "19078                           Python is Better than Ruby\n",
       "19164      Web Service Efficiency at Instagram with Python\n",
       "19357         Crypto and SSL toolkit for python (M2Crypto)\n",
       "19420                                       PythonJobs.com\n",
       "19434    Wheres Susi? Airborne Orangutan Tracking with ...\n",
       "19459    Transition to Python4 won't be like Python3(we...\n",
       "19598    David Beazley  Python Concurrency from the Gro...\n",
       "19853      Ask HN: How to automate Python apps deployment?\n",
       "19863                            Moving Away from Python 2\n",
       "19981                        Python vs. Julia Observations\n",
       "19999    Show HN: Decorating: Animated pulsed for your ...\n",
       "Name: title, Length: 160, dtype: object"
      ]
     },
     "execution_count": 7,
     "metadata": {},
     "output_type": "execute_result"
    }
   ],
   "source": [
    "\n",
    "titles[titles.str.contains(pattern)]"
   ]
  },
  {
   "cell_type": "code",
   "execution_count": 8,
   "metadata": {},
   "outputs": [
    {
     "data": {
      "text/plain": [
       "NaN       19940\n",
       "Python      149\n",
       "python       11\n",
       "Name: 0, dtype: int64"
      ]
     },
     "execution_count": 8,
     "metadata": {},
     "output_type": "execute_result"
    }
   ],
   "source": [
    "pattern=\"([Pp]ython)\" # () showing capturing group\n",
    "titles.str.extract(pattern)[0].value_counts(dropna=False)\n",
    "#titles.str.extract(pattern)[0].value_counts(dropna=False)"
   ]
  },
  {
   "cell_type": "markdown",
   "metadata": {},
   "source": [
    "\"send\",\"bend\",\"mend\"\n",
    "\"[sbm]end\"()"
   ]
  },
  {
   "cell_type": "code",
   "execution_count": 9,
   "metadata": {},
   "outputs": [
    {
     "data": {
      "text/plain": [
       "160"
      ]
     },
     "execution_count": 9,
     "metadata": {},
     "output_type": "execute_result"
    }
   ],
   "source": [
    "import re\n",
    "count=0\n",
    "for title in titles:\n",
    "    if re.search(pattern,title):\n",
    "        count+=1\n",
    "count"
   ]
  },
  {
   "cell_type": "code",
   "execution_count": 10,
   "metadata": {},
   "outputs": [
    {
     "data": {
      "text/plain": [
       "86"
      ]
     },
     "execution_count": 10,
     "metadata": {},
     "output_type": "execute_result"
    }
   ],
   "source": [
    "pattern=\"e-?mail\"     #email, e-mail ? -> a(0,1)\n",
    "titles.str.contains(pattern).sum()"
   ]
  },
  {
   "cell_type": "code",
   "execution_count": 11,
   "metadata": {},
   "outputs": [
    {
     "data": {
      "text/plain": [
       "NaN       20014\n",
       "email        81\n",
       "e-mail        5\n",
       "Name: 0, dtype: int64"
      ]
     },
     "execution_count": 11,
     "metadata": {},
     "output_type": "execute_result"
    }
   ],
   "source": [
    "pattern=\"(e-?mail)\"\n",
    "titles.str.extract(pattern)[0].value_counts(dropna=False)"
   ]
  },
  {
   "cell_type": "markdown",
   "metadata": {},
   "source": [
    "a? -> a{0,1}\n",
    "a+ -> a{1,}\n",
    "a* -> a{0,} #class characters"
   ]
  },
  {
   "cell_type": "markdown",
   "metadata": {},
   "source": [
    "1000 - 2999\n",
    "[12][0-9][0-9][0-9]\n",
    "[12][0-9]{3}\n",
    "[12][0-9]+"
   ]
  },
  {
   "cell_type": "markdown",
   "metadata": {},
   "source": [
    "*\\d [0-9]\n",
    "*\\w [0-9A-Za-Z_]\n",
    "*\\s [widespace,tab,newline(\\n)]\n",
    ". [everything except newline character]"
   ]
  },
  {
   "cell_type": "code",
   "execution_count": 12,
   "metadata": {},
   "outputs": [],
   "source": [
    "pattern=r\"\\[\\w+\\]\" # \\ is escaping character"
   ]
  },
  {
   "cell_type": "code",
   "execution_count": 13,
   "metadata": {},
   "outputs": [
    {
     "data": {
      "text/plain": [
       "444"
      ]
     },
     "execution_count": 13,
     "metadata": {},
     "output_type": "execute_result"
    }
   ],
   "source": [
    "titles.str.contains(pattern).sum()"
   ]
  },
  {
   "cell_type": "code",
   "execution_count": 14,
   "metadata": {},
   "outputs": [
    {
     "name": "stdout",
     "output_type": "stream",
     "text": [
      "help\\b\n",
      "help\b\n"
     ]
    }
   ],
   "source": [
    "print(r\"help\\b\")\n",
    "print(\"help\\b\")"
   ]
  },
  {
   "cell_type": "code",
   "execution_count": 15,
   "metadata": {},
   "outputs": [
    {
     "data": {
      "text/plain": [
       "NaN              19656\n",
       "[pdf]              276\n",
       "[video]            111\n",
       "[audio]              3\n",
       "[2015]               3\n",
       "[2014]               2\n",
       "[slides]             2\n",
       "[beta]               2\n",
       "[videos]             1\n",
       "[Beta]               1\n",
       "[German]             1\n",
       "[map]                1\n",
       "[blank]              1\n",
       "[Ubuntu]             1\n",
       "[5]                  1\n",
       "[Petition]           1\n",
       "[JavaScript]         1\n",
       "[much]               1\n",
       "[song]               1\n",
       "[1996]               1\n",
       "[repost]             1\n",
       "[Videos]             1\n",
       "[GOST]               1\n",
       "[ask]                1\n",
       "[Python]             1\n",
       "[coffee]             1\n",
       "[USA]                1\n",
       "[2008]               1\n",
       "[updated]            1\n",
       "[Challenge]          1\n",
       "[React]              1\n",
       "[transcript]         1\n",
       "[NSFW]               1\n",
       "[png]                1\n",
       "[HBR]                1\n",
       "[detainee]           1\n",
       "[viz]                1\n",
       "[Excerpt]            1\n",
       "[Australian]         1\n",
       "[CSS]                1\n",
       "[Infograph]          1\n",
       "[SpaceX]             1\n",
       "[Skinnywhale]        1\n",
       "[ANNOUNCE]           1\n",
       "[SPA]                1\n",
       "[survey]             1\n",
       "[Map]                1\n",
       "[comic]              1\n",
       "[Benchmark]          1\n",
       "[crash]              1\n",
       "[gif]                1\n",
       "[satire]             1\n",
       "[Live]               1\n",
       "Name: 0, dtype: int64"
      ]
     },
     "execution_count": 15,
     "metadata": {},
     "output_type": "execute_result"
    }
   ],
   "source": [
    "pattern=r\"(\\[\\w+\\])\"\n",
    "titles.str.extract(pattern)[0].value_counts(dropna=False)"
   ]
  },
  {
   "cell_type": "code",
   "execution_count": 16,
   "metadata": {},
   "outputs": [
    {
     "data": {
      "text/plain": [
       "NaN              19656\n",
       "[pdf]              276\n",
       "[video]            111\n",
       "[audio]              3\n",
       "[2015]               3\n",
       "[2014]               2\n",
       "[slides]             2\n",
       "[beta]               2\n",
       "[videos]             1\n",
       "[Beta]               1\n",
       "[German]             1\n",
       "[map]                1\n",
       "[blank]              1\n",
       "[Ubuntu]             1\n",
       "[5]                  1\n",
       "[Petition]           1\n",
       "[JavaScript]         1\n",
       "[much]               1\n",
       "[song]               1\n",
       "[1996]               1\n",
       "[repost]             1\n",
       "[Videos]             1\n",
       "[GOST]               1\n",
       "[ask]                1\n",
       "[Python]             1\n",
       "[coffee]             1\n",
       "[USA]                1\n",
       "[2008]               1\n",
       "[updated]            1\n",
       "[Challenge]          1\n",
       "[React]              1\n",
       "[transcript]         1\n",
       "[NSFW]               1\n",
       "[png]                1\n",
       "[HBR]                1\n",
       "[detainee]           1\n",
       "[viz]                1\n",
       "[Excerpt]            1\n",
       "[Australian]         1\n",
       "[CSS]                1\n",
       "[Infograph]          1\n",
       "[SpaceX]             1\n",
       "[Skinnywhale]        1\n",
       "[ANNOUNCE]           1\n",
       "[SPA]                1\n",
       "[survey]             1\n",
       "[Map]                1\n",
       "[comic]              1\n",
       "[Benchmark]          1\n",
       "[crash]              1\n",
       "[gif]                1\n",
       "[satire]             1\n",
       "[Live]               1\n",
       "Name: 0, dtype: int64"
      ]
     },
     "execution_count": 16,
     "metadata": {},
     "output_type": "execute_result"
    }
   ],
   "source": [
    "pattern=r\"(\\[\\w+\\])\"\n",
    "titles.str.extract(pattern)[0].value_counts(dropna=False)"
   ]
  },
  {
   "cell_type": "code",
   "execution_count": 17,
   "metadata": {},
   "outputs": [
    {
     "data": {
      "text/plain": [
       "50"
      ]
     },
     "execution_count": 17,
     "metadata": {},
     "output_type": "execute_result"
    }
   ],
   "source": [
    "pattern=\"[Jj]ava[^Ss]\"     #Java or java but not required Javascript called negative set\n",
    "titles.str.contains(pattern).sum()"
   ]
  },
  {
   "cell_type": "code",
   "execution_count": 18,
   "metadata": {},
   "outputs": [
    {
     "data": {
      "text/plain": [
       "NaN      20050\n",
       "Java        37\n",
       "Java:        3\n",
       "Java,        3\n",
       "java         2\n",
       "Java?        2\n",
       "javac        1\n",
       "JavaO        1\n",
       "JavaF        1\n",
       "Name: 0, dtype: int64"
      ]
     },
     "execution_count": 18,
     "metadata": {},
     "output_type": "execute_result"
    }
   ],
   "source": [
    "pattern=\"([Jj]ava[^Ss])\"\n",
    "titles.str.extract(pattern)[0].value_counts(dropna=False)"
   ]
  },
  {
   "cell_type": "code",
   "execution_count": 19,
   "metadata": {},
   "outputs": [
    {
     "name": "stdout",
     "output_type": "stream",
     "text": [
      "<_sre.SRE_Match object at 0x0000000009BE6BE8>\n"
     ]
    }
   ],
   "source": [
    "\n",
    "pattern=\"([Jj]ava[^Ss])\"\n",
    "string=\"I am learning java from AMi APEX\"\n",
    "print(re.search(pattern,string))"
   ]
  },
  {
   "cell_type": "code",
   "execution_count": 20,
   "metadata": {},
   "outputs": [
    {
     "name": "stdout",
     "output_type": "stream",
     "text": [
      "None\n"
     ]
    }
   ],
   "source": [
    "pattern=\"([Jj]ava[^Ss])\"\n",
    "string=\"I am learning java\"\n",
    "print(re.search(pattern,string))"
   ]
  },
  {
   "cell_type": "code",
   "execution_count": 21,
   "metadata": {},
   "outputs": [
    {
     "name": "stdout",
     "output_type": "stream",
     "text": [
      "<_sre.SRE_Match object at 0x0000000009B3D440>\n"
     ]
    }
   ],
   "source": [
    "pattern=r\"\\b[Jj]ava\\b\" # \\b is boundary anchor but negative set has drawback that if java comes in end it will not count it\n",
    "string=\"I am learning java\"\n",
    "print(re.search(pattern,string))"
   ]
  },
  {
   "cell_type": "code",
   "execution_count": 22,
   "metadata": {},
   "outputs": [
    {
     "data": {
      "text/plain": [
       "NaN     20046\n",
       "Java       52\n",
       "java        2\n",
       "Name: 0, dtype: int64"
      ]
     },
     "execution_count": 22,
     "metadata": {},
     "output_type": "execute_result"
    }
   ],
   "source": [
    "pattern=r\"(\\b[Jj]ava\\b)\"\n",
    "titles.str.extract(pattern)[0].value_counts(dropna=False)"
   ]
  },
  {
   "cell_type": "code",
   "execution_count": 23,
   "metadata": {},
   "outputs": [
    {
     "name": "stderr",
     "output_type": "stream",
     "text": [
      "D:\\ProgramData\\Anaconda2\\lib\\site-packages\\ipykernel_launcher.py:2: UserWarning: This pattern has match groups. To actually get the groups, use str.extract.\n",
      "  \n"
     ]
    },
    {
     "data": {
      "text/plain": [
       "67       Analysis of 114 propaganda sources from ISIS, ...\n",
       "101      Munich Gunman Got Weapon from the Darknet [Ger...\n",
       "160           File indexing and searching for Plan 9 [pdf]\n",
       "163      Attack on Kunduz Trauma Centre, Afghanistan  I...\n",
       "211      A plan to rescue western democracy from the ig...\n",
       "376                             Apple  Don't Blink [video]\n",
       "446      New Directions in Cryptography by Diffie and H...\n",
       "468      Wallace and Gromit  The Great Train Chase (199...\n",
       "472      Hacker Shows Us How to Unlock a Laptop Using a...\n",
       "508         We have always been at war with Amazon [audio]\n",
       "512      Office of Inspector General's Audit of the Off...\n",
       "518                   Programming from the Ground Up [pdf]\n",
       "542      Modular implicits  a system for ad-hoc polymor...\n",
       "580      For Their Eyes Only: The Commercialization of ...\n",
       "603      How the food lobby fights sugar regulation in ...\n",
       "651      The Maddest Hacker  How to Rob an Industry Ven...\n",
       "680      The Future of Game Development on Windows [video]\n",
       "777             Blinkenlights Berlin Documentation [video]\n",
       "798                 Judge Alsup Denies Oracle's JMOL [pdf]\n",
       "803      Mathematics Made Difficult  A Handbook for the...\n",
       "865         The Productivity of Working Hours (2014) [pdf]\n",
       "888      Evaluation of Splittable Pseudo-Random Generat...\n",
       "906           Run containers on bare metal already [video]\n",
       "911      Neural Programmer: Inducing Latent Programs wi...\n",
       "1026     Dataflow computers: Their history and future (...\n",
       "1068     Honu: Syntactic Extension for Algebraic Notati...\n",
       "1159     Inside an Amazon Fulfillment Center in Poland ...\n",
       "1176     Novelty Search Creates Robots with General Ski...\n",
       "1178     The exhaust emissions scandal: a deep breath i...\n",
       "1199      Resource Revocation in Apache Mesos (2012) [pdf]\n",
       "                               ...                        \n",
       "18473    John Carmack's VR Script Live Coding Session a...\n",
       "18523    An Incremental Approach to Compiler Constructi...\n",
       "18535            Beached Blue Whale Saved in Chili [video]\n",
       "18588    Ten lessons I wish I had learned before teachi...\n",
       "18613    Being sued, in East Texas, for using the Googl...\n",
       "18812    Humanize the Craft of Building Interactive Com...\n",
       "18827    BFD (Bidirectional Forwarding Detection) in Op...\n",
       "18852    If You Can: How Millennials Can Get Rich Slowl...\n",
       "18943    Exposing the Hidden Web: Analysis of Third-Par...\n",
       "19007                What to use instead of std::set [pdf]\n",
       "19012         Memory Compression in Windows 10 RTM [video]\n",
       "19053      Centriphone  an iPhone video experiment [video]\n",
       "19064    Andrew Ng on What's Next in Deep Learning [video]\n",
       "19134             PostgreSQL: Linux VS Windows [Benchmark]\n",
       "19163                  The Ultimate Amiga 500 Talk [video]\n",
       "19226    Explore how the periodic table has changed in ...\n",
       "19261    Why Johnny Cant Encrypt: A Usability Evaluatio...\n",
       "19291    Object-Oriented Programming is Garbage: 3800 S...\n",
       "19320    Are fluoride levels in drinking water associat...\n",
       "19365                            The Sound of Code [video]\n",
       "19441         Security without Identification (1985) [pdf]\n",
       "19446    Employees Leave Good Bosses Nearly as Often as...\n",
       "19542    On the Insecurity of Whitelists and the Future...\n",
       "19550                IMP: Indirect Memory Prefetcher [pdf]\n",
       "19744    Using a Neural Network to Train a Ruby Twitter...\n",
       "19764    TSA can now force you to go through body scann...\n",
       "19868                       Using Pony for Fintech [video]\n",
       "19948                                Swift Reversing [pdf]\n",
       "19980    WSJ/Dowjones Announce Unauthorized Access Betw...\n",
       "20090    Users Really Do Plug in USB Drives They Find [...\n",
       "Name: title, Length: 417, dtype: object"
      ]
     },
     "execution_count": 23,
     "metadata": {},
     "output_type": "execute_result"
    }
   ],
   "source": [
    "pattern=r\"(\\[\\w+\\])$\"\n",
    "titles[titles.str.contains(pattern)]"
   ]
  },
  {
   "cell_type": "code",
   "execution_count": 24,
   "metadata": {},
   "outputs": [
    {
     "data": {
      "text/plain": [
       "120      Show HN: Send an email from your shell to your...\n",
       "314          Disposable emails for safe spam free shopping\n",
       "1362     Ask HN: Doing cold emails? helps us prove this...\n",
       "1751     Protect yourself from spam, bots and phishing ...\n",
       "2422                    Ashley Madison hack treating email\n",
       "2686          Ask HN: Weather forecast in your email daily\n",
       "3380            Ask HN: How do we solve the email problem?\n",
       "3866     What Mailchimp does to make sure emails get de...\n",
       "3890     Show HN: Do you know what emails your competit...\n",
       "3922      Im killing most of my email capture. Here's why.\n",
       "4220              Ask HN: One email, multiple team members\n",
       "4319     How to get your email newsletter out of promot...\n",
       "4323     SecureMyEmail  email client that automatically...\n",
       "4505            The fine art of literary hate mail endures\n",
       "4578              Show HN: Gaggle Mail  Simple group email\n",
       "4838     Ask HN: How do you manage per-service emails w...\n",
       "4902     Show HN: GPG-Mailer  send GPG-encrypted emails...\n",
       "5315     Ask HN: Has anybody built Tinder/Imgur style m...\n",
       "5783     Tutonota: An end-to-end encrypted email client...\n",
       "5962     Ask HN: What are the most clever email collect...\n",
       "6019     Inky 3  Encrypted emails using ANY email provider\n",
       "6102     Leaked Apple emails reveal employees' complain...\n",
       "6255     Ask HN: Why is it still so hard to host your o...\n",
       "6934     How do I find out who has sent me the most ema...\n",
       "7107     I have 23 keybase.io invites emails in the com...\n",
       "7125     GitHub exposes everyone's email address in GIT...\n",
       "7367     Code to transform Hillary's emails from raw PD...\n",
       "7515                                Knowmail  AI for email\n",
       "7752     Snowden and WikiLeaks clash over leaked Democr...\n",
       "7910       Ask HN: Why the hell can't you return my email?\n",
       "                               ...                        \n",
       "13017                          Y Combinator emails are out\n",
       "13158    Ray Tomlinson, creator of e-mail, has passed away\n",
       "13348    PixelBlock  Block email open tracking in Gmail...\n",
       "13412          Si.gnatu.re: HTML email signature generator\n",
       "13519    Magic  Completes signup forms automatically, w...\n",
       "13856    Ask HN: Any one getting other people's emails ...\n",
       "14165    Ask HN: Is there still demand for animated ema...\n",
       "14345     Slack beats email, but still needs to get better\n",
       "14509           Find Twitter user by email or phone number\n",
       "14527    Show HN: Mailer  our in-house tool for sending...\n",
       "14882    US Intelligence directors personal e-mail, pho...\n",
       "14936    Ask HN: Anyone else *still* having no email de...\n",
       "14946            How to get benefits from email marketing?\n",
       "15217    Beware: Nylas cloud email retains all emails a...\n",
       "15282    Show HN: Double Your Network (a free, 10-day e...\n",
       "15301    A Humble email alternative app with a stop switch\n",
       "15409    Google has most of my email because it has all...\n",
       "15490    Hillary's IT guy asking Reddit how to cover up...\n",
       "15683    QUESTION: Why does no email have native video?...\n",
       "16153    Avoid committing to GitHub with your company e...\n",
       "16509    State Dept.: Clinton IT aide's email archive i...\n",
       "16795    Turkey blocks access to WikiLeaks after email-...\n",
       "17005    TRACEMAIL: Visualize the path of your emails, ...\n",
       "17416    Microsoft failed to warn victims of Chinese em...\n",
       "17925                 How Clintons email scandal took root\n",
       "18099    House panel looking into Reddit post about Cli...\n",
       "18584    Mailgen  Generates clean, responsive HTML for ...\n",
       "18848    Show HN: Crisp iOS keyboard for email and text...\n",
       "19304    Ask HN: Why big email providers don't sign the...\n",
       "19447    Tell HN: Secure email provider Riseup will run...\n",
       "Name: title, Length: 89, dtype: object"
      ]
     },
     "execution_count": 24,
     "metadata": {},
     "output_type": "execute_result"
    }
   ],
   "source": [
    "#email, e-mail,e mail,e.mail\n",
    "pattern=r\"e[-\\s\\.]?mail\"\n",
    "titles[titles.str.contains(pattern)]"
   ]
  },
  {
   "cell_type": "code",
   "execution_count": 25,
   "metadata": {},
   "outputs": [],
   "source": [
    "# sql, SQL, Sql, sQL\n",
    "pattern=r\"[sS][qQ][lL]\""
   ]
  },
  {
   "cell_type": "code",
   "execution_count": 26,
   "metadata": {},
   "outputs": [
    {
     "data": {
      "text/plain": [
       "SQL    101\n",
       "Sql      4\n",
       "sql      3\n",
       "Name: 0, dtype: int64"
      ]
     },
     "execution_count": 26,
     "metadata": {},
     "output_type": "execute_result"
    }
   ],
   "source": [
    "# sql, SQL, Sql, sQL\n",
    "pattern=r\"(sql)\"\n",
    "titles.str.extract(pattern,flags=re.I)[0].value_counts()  # re.I is used for ignoring case\n"
   ]
  },
  {
   "cell_type": "code",
   "execution_count": 27,
   "metadata": {},
   "outputs": [
    {
     "data": {
      "text/plain": [
       "PostgreSQL                                                                      10\n",
       "NoSQL                                                                            2\n",
       "Microsoft SQL                                                                    2\n",
       "Show HN: SQL                                                                     2\n",
       "Potential Response to Oracles Anti-PostgreSQL                                    1\n",
       "PipelineDB Releases Enterprise Version of Its Streaming SQL                      1\n",
       "Need help to set ODBC MySQL                                                      1\n",
       "MongoDB: The Frankenstein Monster of NoSQL                                       1\n",
       "Independent SQL-On-Hadoop Benchmark of SparkSQL                                  1\n",
       "Shipping SQL                                                                     1\n",
       "Once a Year Your Data is Corrupted, Happy Halloween - MySQL                      1\n",
       "Modern SQL                                                                       1\n",
       "The Internals of PostgreSQL                                                      1\n",
       "Pentesterlab Tutorial  SQL                                                       1\n",
       "Microsoft Azure SQL                                                              1\n",
       "Postgraphql: A GraphQL schema created by reflection over a PostgreSQL            1\n",
       "MemSQL                                                                           1\n",
       "Open-sourcing Pinterest MySQL                                                    1\n",
       "Crate raises $4M seed round for its next-gen SQL                                 1\n",
       "Show HN: ESENT Serialize, a .NET Persistence and Query Layer for ESENT NoSQL     1\n",
       "How to Create a Unique Constraint on a LoopBack Model with a NoSQL               1\n",
       "PacketQ: SQL                                                                     1\n",
       "SQL vs. NoSQL                                                                    1\n",
       "Ask HN: Have you had to switch / compensate your NoSQL                           1\n",
       "Node.js and Express Authentication Kit with MySQL                                1\n",
       "Learn SQL                                                                        1\n",
       "Envelope  Postgres database to web app with just HTML and SQL                    1\n",
       "Appropriate Uses for SQL                                                         1\n",
       "DataGrip 1.0 (formerly 0xDBE): A New IDE for DBs and SQL                         1\n",
       "Code to transform Hillary's emails from raw PDF documents to a SQL               1\n",
       "                                                                                ..\n",
       "Database access through monadic streams with Lemonade Sql                        1\n",
       "Ask HN: Is R an alternative to SQL                                               1\n",
       "BCHS: BSD, C, httpd, SQL                                                         1\n",
       "Uber's Move Away from PostgreSQL                                                 1\n",
       "Pgmemcahe :A PostgreSQL                                                          1\n",
       "Were pretty happy with SQL                                                       1\n",
       "The History of SQL                                                               1\n",
       "Show HN: Restabase  REST interface for SQL                                       1\n",
       "Show HN: Created Pickaxe a SQL                                                   1\n",
       "Mroonga: Fast fulltext search for all languages on MySQL                         1\n",
       "Live MySQL                                                                       1\n",
       "Is SQL                                                                           1\n",
       "Gh-ost: GitHub's online schema migration tool for MySQL                          1\n",
       "A fast PostgreSQL                                                                1\n",
       "Node-Data is unique framework to support sql,nosql                               1\n",
       "Semantic Highlighting for SQL                                                    1\n",
       "Show HN: Migrate  Sane database/sql                                              1\n",
       "SqlPad: Run SQL                                                                  1\n",
       "MI6 (SIS) Is Developing a Node.js, Angular, NoSQL                                1\n",
       "Open Source NoSQL                                                                1\n",
       "A universal PHP script to generate JSON from any MySQL                           1\n",
       "Why Does Microsoft SQL                                                           1\n",
       "Show HN: Use Postgres as a zero-config NoSQL                                     1\n",
       "Practical Guide to PostgreSQL                                                    1\n",
       "Go database/sql                                                                  1\n",
       "Getting started with NoSQL                                                       1\n",
       "Ask HN: In what areas are NoSQL                                                  1\n",
       "Show HN: Sqlata, the SQL                                                         1\n",
       "SQL for NoSQL                                                                    1\n",
       "Next generation of Google Cloud SQL                                              1\n",
       "Name: 0, Length: 89, dtype: int64"
      ]
     },
     "execution_count": 27,
     "metadata": {},
     "output_type": "execute_result"
    }
   ],
   "source": [
    "pattern=r\"(.+sql)\"\n",
    "titles.str.extract(pattern,flags=re.I)[0].value_counts()"
   ]
  },
  {
   "cell_type": "code",
   "execution_count": 28,
   "metadata": {},
   "outputs": [
    {
     "data": {
      "text/plain": [
       "PostgreSQL    27\n",
       "NoSQL         16\n",
       "MySQL         12\n",
       "nosql          1\n",
       "SparkSQL       1\n",
       "MemSQL         1\n",
       "CloudSQL       1\n",
       "mySql          1\n",
       "Name: 0, dtype: int64"
      ]
     },
     "execution_count": 28,
     "metadata": {},
     "output_type": "execute_result"
    }
   ],
   "source": [
    "\n",
    "pattern=r\"(\\w+sql)\"\n",
    "titles.str.extract(pattern,flags=re.I)[0].value_counts()"
   ]
  },
  {
   "cell_type": "code",
   "execution_count": 29,
   "metadata": {},
   "outputs": [
    {
     "data": {
      "text/plain": [
       "Python 3        10\n",
       "Python 3.5       3\n",
       "Python 3.6       2\n",
       "Python 2         2\n",
       "Python 1.5       1\n",
       "Python 2.7       1\n",
       "Python 3.5.0     1\n",
       "python 2         1\n",
       "Python 8         1\n",
       "Python 4         1\n",
       "Name: 0, dtype: int64"
      ]
     },
     "execution_count": 29,
     "metadata": {},
     "output_type": "execute_result"
    }
   ],
   "source": [
    "# python 3,python 3.0, python 3.7.3\n",
    "pattern= r\"([Pp]ython\\s[\\d\\.?]+)\"\n",
    "titles.str.extract(pattern)[0].value_counts()"
   ]
  },
  {
   "cell_type": "code",
   "execution_count": 30,
   "metadata": {},
   "outputs": [
    {
     "data": {
      "text/plain": [
       "C    186\n",
       "c      4\n",
       "Name: 0, dtype: int64"
      ]
     },
     "execution_count": 30,
     "metadata": {},
     "output_type": "execute_result"
    }
   ],
   "source": [
    "# c, C but Not required c++\n",
    "pattern=r\"(\\b[cC]\\b)\"\n",
    "titles.str.extract(pattern)[0].value_counts()"
   ]
  },
  {
   "cell_type": "code",
   "execution_count": 31,
   "metadata": {},
   "outputs": [
    {
     "name": "stderr",
     "output_type": "stream",
     "text": [
      "D:\\ProgramData\\Anaconda2\\lib\\site-packages\\ipykernel_launcher.py:1: UserWarning: This pattern has match groups. To actually get the groups, use str.extract.\n",
      "  \"\"\"Entry point for launching an IPython kernel.\n"
     ]
    },
    {
     "data": {
      "text/plain": [
       "190"
      ]
     },
     "execution_count": 31,
     "metadata": {},
     "output_type": "execute_result"
    }
   ],
   "source": [
    "titles.str.contains(pattern).sum()"
   ]
  },
  {
   "cell_type": "code",
   "execution_count": 32,
   "metadata": {},
   "outputs": [
    {
     "data": {
      "text/plain": [
       "C     52\n",
       "C#    15\n",
       "C/     5\n",
       "C,     3\n",
       "c      2\n",
       "C:     2\n",
       "C-     2\n",
       "c-     1\n",
       "C?     1\n",
       "C'     1\n",
       "Name: 0, dtype: int64"
      ]
     },
     "execution_count": 32,
     "metadata": {},
     "output_type": "execute_result"
    }
   ],
   "source": [
    "pattern=r\"(\\b[cC]\\b[^.+])\"\n",
    "titles.str.extract(pattern)[0].value_counts()\n",
    "# titles.str.contains(pattern).sum()"
   ]
  },
  {
   "cell_type": "code",
   "execution_count": 33,
   "metadata": {},
   "outputs": [
    {
     "name": "stderr",
     "output_type": "stream",
     "text": [
      "D:\\ProgramData\\Anaconda2\\lib\\site-packages\\ipykernel_launcher.py:1: UserWarning: This pattern has match groups. To actually get the groups, use str.extract.\n",
      "  \"\"\"Entry point for launching an IPython kernel.\n"
     ]
    },
    {
     "data": {
      "text/plain": [
       "84"
      ]
     },
     "execution_count": 33,
     "metadata": {},
     "output_type": "execute_result"
    }
   ],
   "source": [
    "titles.str.contains(pattern).sum()"
   ]
  },
  {
   "cell_type": "markdown",
   "metadata": {},
   "source": [
    "\n",
    "back reference\n",
    "zzz(?=abc)\n",
    "zzz(?!abc)\n",
    "(?<=abc)zzz\n",
    "(?<!abc)zzz"
   ]
  },
  {
   "cell_type": "code",
   "execution_count": 34,
   "metadata": {},
   "outputs": [
    {
     "data": {
      "text/plain": [
       "187"
      ]
     },
     "execution_count": 34,
     "metadata": {},
     "output_type": "execute_result"
    }
   ],
   "source": [
    "pattern=r\"(?<!Series\\s)\\b[cC]\\b(?!^[.+])\"\n",
    "# titles.str.extract(pattern)[0].value_counts()\n",
    "titles.str.contains(pattern).sum()"
   ]
  },
  {
   "cell_type": "code",
   "execution_count": 35,
   "metadata": {},
   "outputs": [
    {
     "data": {
      "text/plain": [
       "C    183\n",
       "c      4\n",
       "Name: 0, dtype: int64"
      ]
     },
     "execution_count": 35,
     "metadata": {},
     "output_type": "execute_result"
    }
   ],
   "source": [
    "pattern=r\"((?<!Series\\s)\\b[cC]\\b(?!^[.+]))\"\n",
    "titles.str.extract(pattern)[0].value_counts()\n"
   ]
  },
  {
   "cell_type": "code",
   "execution_count": 36,
   "metadata": {},
   "outputs": [
    {
     "data": {
      "text/plain": [
       "14                  Custom Deleters for C++ Smart Pointers\n",
       "221                         Lisp, C++: Sadness in my heart\n",
       "354      VW C.E.O. Personally Apologized to President O...\n",
       "366                       The new C standards are worth it\n",
       "509      BDE 3.0 (Bloomberg's core C++ library): Open S...\n",
       "522           Fuchsia: Micro kernel written in C by Google\n",
       "550      How to Become a C.E.O.? The Quickest Path Is a...\n",
       "1283     A lightweight C++ signals and slots implementa...\n",
       "1308             Show HN: Yupp, yet another C preprocessor\n",
       "1327                      The C standard formalized in Coq\n",
       "1366                           GNU C Library 2.23 released\n",
       "1430     Cysignals: signal handling (SIGINT, SIGSEGV, )...\n",
       "1501                         Fun with Lambdas: C++14 Style\n",
       "1621                         SDCC  Small Device C Compiler\n",
       "1673       C++ Coroutines  a negative overhead abstraction\n",
       "1950     Rewriting a Ruby C Extension in Rust: How a Na...\n",
       "2031         Felix: A compiled (to C++) scripting language\n",
       "2196     MyHTML  HTML Parser on Pure C with POSIX Threa...\n",
       "2307     Websocket Shootout: Clojure, C++, Elixir, Go, ...\n",
       "2528                             A Rebuttle of the C++ FQA\n",
       "2540     ZypMedia Is Hiring Lead Engineer for Low Laten...\n",
       "2555     Face Swap (C++ / Python): Meet Ted Trump, Dona...\n",
       "2590     Phalcon  PHP framework delivered as a C extension\n",
       "2637                        Simple Contracts for C++ [pdf]\n",
       "3098                A Superconductor That Works at -70 Â°C\n",
       "3101       Building a BitTorrent client from scratch in C#\n",
       "3188     ImGui: Immediate Mode GUI for C++ with minimal...\n",
       "3241     C++ for Games: Performance, Allocations and Da...\n",
       "3251              Transactional Memory Support for C [pdf]\n",
       "3277                      Programming the Blockchain in C#\n",
       "                               ...                        \n",
       "17159    Introducing Vulkan-Hpp  Open-Source Vulkan C++...\n",
       "17182    Here's a C# and HTML5 powered remote desktop a...\n",
       "17236    Citizens Should Be Able to Vote on Laws Direct...\n",
       "17444      Returning multiple values from functions in C++\n",
       "17752                          BCHS: BSD, C, httpd, SQLite\n",
       "17801                     Why would you learn C++ in 2016?\n",
       "18169                          Current Proposals for C++17\n",
       "18188       Ultimate++: a C++ cross-platform RAD framework\n",
       "18277    Into the Depths of C: Elaborating the De Facto...\n",
       "18300    F.C.C. Proposes Changes in Cable Set-Top Box M...\n",
       "18409    Building a C Compiler Type System  Part 2: A C...\n",
       "18421    Immutable-cpp: persistent immutable data struc...\n",
       "18480    Tis-interpreter detects subtle bugs in C programs\n",
       "18481                                             Fixing C\n",
       "18487    Dataflow/Streaming Concurrency via C++ IOStrea...\n",
       "18516    Lambda expression comparison between C++11, C+...\n",
       "18524                        C++ Status at the end of 2015\n",
       "18544                 C-style for loops removed from Swift\n",
       "18550            Show HN: An awesome C library for Windows\n",
       "18650                 Python vs. C/C++ in embedded systems\n",
       "18767    Vcpkg: a tool to acquire and build C++ open so...\n",
       "19152                      Ask HN: How to learn C in 2016?\n",
       "19216                    Reflection in C++14: Explanations\n",
       "19511                                    Futures for C++11\n",
       "19621             Efficient parameter pack indexing in C++\n",
       "19668                         Ill-Advised C++ Rant, Part 2\n",
       "19800    Introducing a new, advanced Visual C++ code op...\n",
       "19830    Ferret: Compiling a Subset of Clojure to ISO C...\n",
       "19934    Lightweight C library to parse NMEA 0183 sente...\n",
       "19998                                    Proposal: C.UTF-8\n",
       "Name: title, Length: 187, dtype: object"
      ]
     },
     "execution_count": 36,
     "metadata": {},
     "output_type": "execute_result"
    }
   ],
   "source": [
    "pattern=r\"(?<!Series\\s)\\b[cC]\\b(?!^[.+])\"\n",
    "# titles.str.extract(pattern)[0].value_counts()\n",
    "titles[titles.str.contains(pattern)]"
   ]
  },
  {
   "cell_type": "code",
   "execution_count": 37,
   "metadata": {},
   "outputs": [
    {
     "name": "stderr",
     "output_type": "stream",
     "text": [
      "D:\\ProgramData\\Anaconda2\\lib\\site-packages\\ipykernel_launcher.py:2: UserWarning: This pattern has match groups. To actually get the groups, use str.extract.\n",
      "  \n"
     ]
    },
    {
     "data": {
      "text/plain": [
       "2865"
      ]
     },
     "execution_count": 37,
     "metadata": {},
     "output_type": "execute_result"
    }
   ],
   "source": [
    "pattern=r\"(\\w+)\\s\\1\"\n",
    "titles.str.contains(pattern).sum()"
   ]
  },
  {
   "cell_type": "code",
   "execution_count": 38,
   "metadata": {},
   "outputs": [
    {
     "name": "stderr",
     "output_type": "stream",
     "text": [
      "D:\\ProgramData\\Anaconda2\\lib\\site-packages\\ipykernel_launcher.py:1: UserWarning: This pattern has match groups. To actually get the groups, use str.extract.\n",
      "  \"\"\"Entry point for launching an IPython kernel.\n"
     ]
    },
    {
     "data": {
      "text/plain": [
       "1        How to Use Open Source and Shut the Fuck Up at...\n",
       "21       Typeplate: a typographic starter kit encouragi...\n",
       "25       Firmware exploit can defeat new Windows securi...\n",
       "28                     Fundraising Advice for YC Companies\n",
       "31       Ask HN: Someone offered to buy my browser exte...\n",
       "36       Bitbucket: Support GitHub-style pages for repo...\n",
       "44       Researchers have trained a machine to spot dep...\n",
       "57             US State Dept Issues Worldwide Travel Alert\n",
       "70       Ask HN: Do you use any realtime PaaS/framework...\n",
       "71                               A malicious module on npm\n",
       "77       Sliding airline seats speed up boarding and de...\n",
       "78       Limbless master of micrographia featured at th...\n",
       "92       Why your Uber app is lying to you about availa...\n",
       "105               About What is happening with this world?\n",
       "107      Israeli DDOS Service vDOS responsible for seve...\n",
       "108      Unaffordable cities: this criminal lack of hou...\n",
       "127      Show HN: Real-Time Stats for an iOS MMORPG Gam...\n",
       "136       Ask HN: How would you sell open source software?\n",
       "137      Parallax - open source scrolling parallax scri...\n",
       "139      Dear Amazon Prime, I don't want to watch the a...\n",
       "146      For the poor in the Ivy League, a full ride is...\n",
       "152      Status of legislation on self-driving vehicles...\n",
       "159      It's time for fancy apartments to offer balcon...\n",
       "161      German nuclear plant infected with computer vi...\n",
       "167      Google's self-driving car is the victim in a s...\n",
       "176                     Ask HN: Looking for hacking games.\n",
       "177      Ubuntu Team Needs a Cat to Replicate Important...\n",
       "183      The biggest threat to Silicon Valley isn't wha...\n",
       "189               The extraordinary case of the Guevedoces\n",
       "204      Need to list related videos along with their p...\n",
       "                               ...                        \n",
       "19903    Whaleprint  Use docker DAB as swarm mode servi...\n",
       "19911                        Eyes Wide Open at the Protest\n",
       "19917    Snapshot of North Koreas DNS data taken from z...\n",
       "19919    Ask HN: Hiring software engineers in '16 vs. p...\n",
       "19923    Commission concludes Belgian Excess Profit tax...\n",
       "19931    Ask HN: Which browser add-ons do you use, what...\n",
       "19935    Why nuclear energy is our best option at the m...\n",
       "19959    A Call for the Elimination of Joke Haiku Produ...\n",
       "19962                        Why validation libraries suck\n",
       "19978                       When I sold out to advertising\n",
       "19979    Signs point to Apple abandoning OS X branding ...\n",
       "19985    Tech job listings are down 40% on several job ...\n",
       "19987    Different Brain Regions Are Infected with Fung...\n",
       "19995    Ask HN: How do they write test coverage for dr...\n",
       "20002    Records show $70k CEO hasn't actually mortgate...\n",
       "20010     VLC now renders subtitles in South Asian scripts\n",
       "20022    Google Maps for Androids new Driving Mode gues...\n",
       "20024    Bitcoins not money, judge rules as she tosses ...\n",
       "20025    Object oriented design principles programmer s...\n",
       "20032    Libgnutls: fix issue when p11-kit trust store ...\n",
       "20039    Ask HN: Is it feasible to port Apple's Swift t...\n",
       "20041                      Are global wages about to turn?\n",
       "20042       Ask HN: What to do when a developer goes dark?\n",
       "20055    Movie written by AI algorithm turns out to be ...\n",
       "20057    Universities not teaching front-end developmen...\n",
       "20061      Ask HN: Why are papers still published as PDFs?\n",
       "20062      RichCSS  Beautiful, DRY, Clean and Reusable CSS\n",
       "20066            Google services set for 'return' to China\n",
       "20086    Satoshi Nakamoto officially nominated for the ...\n",
       "20087      Debian XScreenSaver package maintainer responds\n",
       "Name: title, Length: 2865, dtype: object"
      ]
     },
     "execution_count": 38,
     "metadata": {},
     "output_type": "execute_result"
    }
   ],
   "source": [
    "titles[titles.str.contains(pattern)]"
   ]
  },
  {
   "cell_type": "code",
   "execution_count": 39,
   "metadata": {},
   "outputs": [
    {
     "data": {
      "text/plain": [
       "NaN       20014\n",
       "email        81\n",
       "e-mail        5\n",
       "Name: 0, dtype: int64"
      ]
     },
     "execution_count": 39,
     "metadata": {},
     "output_type": "execute_result"
    }
   ],
   "source": [
    "pattern=\"(e-?mail)\"\n",
    "email = titles.str.extract(pattern)[0].value_counts(dropna=False)\n",
    "email"
   ]
  },
  {
   "cell_type": "code",
   "execution_count": 40,
   "metadata": {},
   "outputs": [
    {
     "data": {
      "text/plain": [
       "0       NaN\n",
       "1     email\n",
       "2    e-mail\n",
       "dtype: object"
      ]
     },
     "execution_count": 40,
     "metadata": {},
     "output_type": "execute_result"
    }
   ],
   "source": [
    "email_s = pd.Series(email.index)\n",
    "email_s"
   ]
  },
  {
   "cell_type": "code",
   "execution_count": 41,
   "metadata": {},
   "outputs": [
    {
     "data": {
      "text/plain": [
       "email    2\n",
       "dtype: int64"
      ]
     },
     "execution_count": 41,
     "metadata": {},
     "output_type": "execute_result"
    }
   ],
   "source": [
    "email_s = email_s.str.replace(pattern,\"email\",flags = re.I).value_counts()\n",
    "email_s"
   ]
  },
  {
   "cell_type": "code",
   "execution_count": 42,
   "metadata": {},
   "outputs": [
    {
     "data": {
      "text/plain": [
       "0              http://www.interactivedynamicvideo.com/\n",
       "1    http://hueniverse.com/2016/01/26/how-to-use-op...\n",
       "2    http://www.thewire.com/entertainment/2013/04/f...\n",
       "3    https://www.amazon.com/Technology-Ventures-Ent...\n",
       "4    http://www.nytimes.com/2007/11/07/movies/07ste...\n",
       "Name: url, dtype: object"
      ]
     },
     "execution_count": 42,
     "metadata": {},
     "output_type": "execute_result"
    }
   ],
   "source": [
    "url = hn[\"url\"]\n",
    "url.head()"
   ]
  },
  {
   "cell_type": "code",
   "execution_count": 69,
   "metadata": {},
   "outputs": [],
   "source": [
    "pattern = r\"https?://(w{3}\\.[\\w+\\.com]+)\""
   ]
  },
  {
   "cell_type": "code",
   "execution_count": 70,
   "metadata": {},
   "outputs": [
    {
     "data": {
      "text/plain": [
       "www.nytimes.com             525\n",
       "www.theguardian.com         248\n",
       "www.youtube.com             213\n",
       "www.bloomberg.com           193\n",
       "www.washingtonpost.com      190\n",
       "www.wsj.com                 138\n",
       "www.theatlantic.com         137\n",
       "www.bbc.com                 134\n",
       "www.wired.com               114\n",
       "www.theverge.com            112\n",
       "www.bbc.co.uk               108\n",
       "www.newyorker.com            81\n",
       "www.forbes.com               78\n",
       "www.businessinsider.com      73\n",
       "www.nature.com               72\n",
       "www.reuters.com              71\n",
       "www.economist.com            66\n",
       "www.eff.org                  56\n",
       "www.vox.com                  51\n",
       "www.slate.com                50\n",
       "www.npr.org                  49\n",
       "www.independent.co.uk        48\n",
       "www.reddit.com               43\n",
       "www.technologyreview.com     42\n",
       "www.kickstarter.com          41\n",
       "www.facebook.com             40\n",
       "www.telegraph.co.uk          39\n",
       "www.buzzfeed.com             37\n",
       "www.theregister.co.uk        37\n",
       "www.linkedin.com             30\n",
       "                           ... \n",
       "www.devdungeon.com            1\n",
       "www.heritagedaily.com         1\n",
       "www.barterhack.com            1\n",
       "www.wickr.com                 1\n",
       "www.sococo.com                1\n",
       "www.cs.ucl.ac.uk              1\n",
       "www.learnopencv.com           1\n",
       "www.ckl.io                    1\n",
       "www.darendavidtaylor.com      1\n",
       "www.workforworld.com          1\n",
       "www.usr.com                   1\n",
       "www.seeker.com                1\n",
       "www.wxyz.com                  1\n",
       "www.masswerk.at               1\n",
       "www.nexoid.at                 1\n",
       "www.timetrabbble.com          1\n",
       "www.amigans.net               1\n",
       "www.stripes.com               1\n",
       "www.dailycal.org              1\n",
       "www.detroitnews.com           1\n",
       "www.curiositystream.com       1\n",
       "www.freep.com                 1\n",
       "www.wilfred.me.uk             1\n",
       "www.fangraphs.com             1\n",
       "www.bostonstandard.co.uk      1\n",
       "www.staticjobs.com            1\n",
       "www.nixthetricks.com          1\n",
       "www.neverendingbooks.org      1\n",
       "www.zoomeranalytics.com       1\n",
       "www.wbez.org                  1\n",
       "Name: 0, Length: 2404, dtype: int64"
      ]
     },
     "execution_count": 70,
     "metadata": {},
     "output_type": "execute_result"
    }
   ],
   "source": [
    "#pattern = r\"https?://([\\w\\.]+)\"\n",
    "url.str.extract(pattern,flags = re.I)[0].value_counts()"
   ]
  },
  {
   "cell_type": "code",
   "execution_count": 44,
   "metadata": {},
   "outputs": [
    {
     "data": {
      "text/plain": [
       "github.com         1009\n",
       "medium.com          826\n",
       "www.nytimes.com     525\n",
       "Name: 0, dtype: int64"
      ]
     },
     "execution_count": 44,
     "metadata": {},
     "output_type": "execute_result"
    }
   ],
   "source": [
    "pattern = r\".+://([\\w\\.]+)\"\n",
    "url.str.extract(pattern,flags = re.I)[0].value_counts().head(3)"
   ]
  },
  {
   "cell_type": "code",
   "execution_count": 45,
   "metadata": {},
   "outputs": [
    {
     "data": {
      "text/html": [
       "<div>\n",
       "<style scoped>\n",
       "    .dataframe tbody tr th:only-of-type {\n",
       "        vertical-align: middle;\n",
       "    }\n",
       "\n",
       "    .dataframe tbody tr th {\n",
       "        vertical-align: top;\n",
       "    }\n",
       "\n",
       "    .dataframe thead th {\n",
       "        text-align: right;\n",
       "    }\n",
       "</style>\n",
       "<table border=\"1\" class=\"dataframe\">\n",
       "  <thead>\n",
       "    <tr style=\"text-align: right;\">\n",
       "      <th></th>\n",
       "      <th>0</th>\n",
       "      <th>1</th>\n",
       "      <th>2</th>\n",
       "    </tr>\n",
       "  </thead>\n",
       "  <tbody>\n",
       "    <tr>\n",
       "      <th>0</th>\n",
       "      <td>http</td>\n",
       "      <td>www.interactivedynamicvideo.com</td>\n",
       "      <td></td>\n",
       "    </tr>\n",
       "    <tr>\n",
       "      <th>1</th>\n",
       "      <td>http</td>\n",
       "      <td>hueniverse.com</td>\n",
       "      <td>2016/01/26/how-to-use-open-source-and-shut-the...</td>\n",
       "    </tr>\n",
       "    <tr>\n",
       "      <th>2</th>\n",
       "      <td>http</td>\n",
       "      <td>www.thewire.com</td>\n",
       "      <td>entertainment/2013/04/florida-djs-april-fools-...</td>\n",
       "    </tr>\n",
       "    <tr>\n",
       "      <th>3</th>\n",
       "      <td>https</td>\n",
       "      <td>www.amazon.com</td>\n",
       "      <td>Technology-Ventures-Enterprise-Thomas-Byers/dp...</td>\n",
       "    </tr>\n",
       "    <tr>\n",
       "      <th>4</th>\n",
       "      <td>http</td>\n",
       "      <td>www.nytimes.com</td>\n",
       "      <td>2007/11/07/movies/07stein.html?_r=0</td>\n",
       "    </tr>\n",
       "  </tbody>\n",
       "</table>\n",
       "</div>"
      ],
      "text/plain": [
       "       0                                1  \\\n",
       "0   http  www.interactivedynamicvideo.com   \n",
       "1   http                   hueniverse.com   \n",
       "2   http                  www.thewire.com   \n",
       "3  https                   www.amazon.com   \n",
       "4   http                  www.nytimes.com   \n",
       "\n",
       "                                                   2  \n",
       "0                                                     \n",
       "1  2016/01/26/how-to-use-open-source-and-shut-the...  \n",
       "2  entertainment/2013/04/florida-djs-april-fools-...  \n",
       "3  Technology-Ventures-Enterprise-Thomas-Byers/dp...  \n",
       "4                2007/11/07/movies/07stein.html?_r=0  "
      ]
     },
     "execution_count": 45,
     "metadata": {},
     "output_type": "execute_result"
    }
   ],
   "source": [
    "pattern = r\"(.+)://([\\w\\.]+)/?(.*)\"\n",
    "url.str.extract(pattern,flags = re.I).head()"
   ]
  },
  {
   "cell_type": "code",
   "execution_count": 46,
   "metadata": {},
   "outputs": [
    {
     "data": {
      "text/html": [
       "<div>\n",
       "<style scoped>\n",
       "    .dataframe tbody tr th:only-of-type {\n",
       "        vertical-align: middle;\n",
       "    }\n",
       "\n",
       "    .dataframe tbody tr th {\n",
       "        vertical-align: top;\n",
       "    }\n",
       "\n",
       "    .dataframe thead th {\n",
       "        text-align: right;\n",
       "    }\n",
       "</style>\n",
       "<table border=\"1\" class=\"dataframe\">\n",
       "  <thead>\n",
       "    <tr style=\"text-align: right;\">\n",
       "      <th></th>\n",
       "      <th>Protocol</th>\n",
       "      <th>Domain</th>\n",
       "      <th>Path</th>\n",
       "    </tr>\n",
       "  </thead>\n",
       "  <tbody>\n",
       "    <tr>\n",
       "      <th>0</th>\n",
       "      <td>http</td>\n",
       "      <td>www.interactivedynamicvideo.com</td>\n",
       "      <td></td>\n",
       "    </tr>\n",
       "    <tr>\n",
       "      <th>1</th>\n",
       "      <td>http</td>\n",
       "      <td>hueniverse.com</td>\n",
       "      <td>2016/01/26/how-to-use-open-source-and-shut-the...</td>\n",
       "    </tr>\n",
       "    <tr>\n",
       "      <th>2</th>\n",
       "      <td>http</td>\n",
       "      <td>www.thewire.com</td>\n",
       "      <td>entertainment/2013/04/florida-djs-april-fools-...</td>\n",
       "    </tr>\n",
       "    <tr>\n",
       "      <th>3</th>\n",
       "      <td>https</td>\n",
       "      <td>www.amazon.com</td>\n",
       "      <td>Technology-Ventures-Enterprise-Thomas-Byers/dp...</td>\n",
       "    </tr>\n",
       "    <tr>\n",
       "      <th>4</th>\n",
       "      <td>http</td>\n",
       "      <td>www.nytimes.com</td>\n",
       "      <td>2007/11/07/movies/07stein.html?_r=0</td>\n",
       "    </tr>\n",
       "  </tbody>\n",
       "</table>\n",
       "</div>"
      ],
      "text/plain": [
       "  Protocol                           Domain  \\\n",
       "0     http  www.interactivedynamicvideo.com   \n",
       "1     http                   hueniverse.com   \n",
       "2     http                  www.thewire.com   \n",
       "3    https                   www.amazon.com   \n",
       "4     http                  www.nytimes.com   \n",
       "\n",
       "                                                Path  \n",
       "0                                                     \n",
       "1  2016/01/26/how-to-use-open-source-and-shut-the...  \n",
       "2  entertainment/2013/04/florida-djs-april-fools-...  \n",
       "3  Technology-Ventures-Enterprise-Thomas-Byers/dp...  \n",
       "4                2007/11/07/movies/07stein.html?_r=0  "
      ]
     },
     "execution_count": 46,
     "metadata": {},
     "output_type": "execute_result"
    }
   ],
   "source": [
    "pattern = r\"(?P<Protocol>.+)://(?P<Domain>[\\w\\.]+)/?(?P<Path>.*)\"\n",
    "url.str.extract(pattern,flags = re.I).head()"
   ]
  },
  {
   "cell_type": "code",
   "execution_count": null,
   "metadata": {},
   "outputs": [],
   "source": []
  },
  {
   "cell_type": "code",
   "execution_count": null,
   "metadata": {},
   "outputs": [],
   "source": []
  }
 ],
 "metadata": {
  "kernelspec": {
   "display_name": "Python 2",
   "language": "python",
   "name": "python2"
  },
  "language_info": {
   "codemirror_mode": {
    "name": "ipython",
    "version": 2
   },
   "file_extension": ".py",
   "mimetype": "text/x-python",
   "name": "python",
   "nbconvert_exporter": "python",
   "pygments_lexer": "ipython2",
   "version": "2.7.16"
  }
 },
 "nbformat": 4,
 "nbformat_minor": 2
}
