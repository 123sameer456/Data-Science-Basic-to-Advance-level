{
 "cells": [
  {
   "cell_type": "code",
   "execution_count": 1,
   "metadata": {},
   "outputs": [
    {
     "name": "stdout",
     "output_type": "stream",
     "text": [
      "<class 'pandas.core.frame.DataFrame'>\n",
      "RangeIndex: 146 entries, 0 to 145\n",
      "Data columns (total 22 columns):\n",
      " #   Column                      Non-Null Count  Dtype  \n",
      "---  ------                      --------------  -----  \n",
      " 0   FILM                        146 non-null    object \n",
      " 1   RottenTomatoes              146 non-null    int64  \n",
      " 2   RottenTomatoes_User         146 non-null    int64  \n",
      " 3   Metacritic                  146 non-null    int64  \n",
      " 4   Metacritic_User             146 non-null    float64\n",
      " 5   IMDB                        146 non-null    float64\n",
      " 6   Fandango_Stars              146 non-null    float64\n",
      " 7   Fandango_Ratingvalue        146 non-null    float64\n",
      " 8   RT_norm                     146 non-null    float64\n",
      " 9   RT_user_norm                146 non-null    float64\n",
      " 10  Metacritic_norm             146 non-null    float64\n",
      " 11  Metacritic_user_nom         146 non-null    float64\n",
      " 12  IMDB_norm                   146 non-null    float64\n",
      " 13  RT_norm_round               146 non-null    float64\n",
      " 14  RT_user_norm_round          146 non-null    float64\n",
      " 15  Metacritic_norm_round       146 non-null    float64\n",
      " 16  Metacritic_user_norm_round  146 non-null    float64\n",
      " 17  IMDB_norm_round             146 non-null    float64\n",
      " 18  Metacritic_user_vote_count  146 non-null    int64  \n",
      " 19  IMDB_user_vote_count        146 non-null    int64  \n",
      " 20  Fandango_votes              146 non-null    int64  \n",
      " 21  Fandango_Difference         146 non-null    float64\n",
      "dtypes: float64(15), int64(6), object(1)\n",
      "memory usage: 25.2+ KB\n",
      "None\n",
      "                             FILM  RottenTomatoes  RottenTomatoes_User  \\\n",
      "0  Avengers: Age of Ultron (2015)              74                   86   \n",
      "1               Cinderella (2015)              85                   80   \n",
      "2                  Ant-Man (2015)              80                   90   \n",
      "3          Do You Believe? (2015)              18                   84   \n",
      "4   Hot Tub Time Machine 2 (2015)              14                   28   \n",
      "\n",
      "   Metacritic  Metacritic_User  IMDB  Fandango_Stars  Fandango_Ratingvalue  \\\n",
      "0          66              7.1   7.8             5.0                   4.5   \n",
      "1          67              7.5   7.1             5.0                   4.5   \n",
      "2          64              8.1   7.8             5.0                   4.5   \n",
      "3          22              4.7   5.4             5.0                   4.5   \n",
      "4          29              3.4   5.1             3.5                   3.0   \n",
      "\n",
      "   RT_norm  RT_user_norm  ...  IMDB_norm  RT_norm_round  RT_user_norm_round  \\\n",
      "0     3.70           4.3  ...       3.90            3.5                 4.5   \n",
      "1     4.25           4.0  ...       3.55            4.5                 4.0   \n",
      "2     4.00           4.5  ...       3.90            4.0                 4.5   \n",
      "3     0.90           4.2  ...       2.70            1.0                 4.0   \n",
      "4     0.70           1.4  ...       2.55            0.5                 1.5   \n",
      "\n",
      "   Metacritic_norm_round  Metacritic_user_norm_round  IMDB_norm_round  \\\n",
      "0                    3.5                         3.5              4.0   \n",
      "1                    3.5                         4.0              3.5   \n",
      "2                    3.0                         4.0              4.0   \n",
      "3                    1.0                         2.5              2.5   \n",
      "4                    1.5                         1.5              2.5   \n",
      "\n",
      "   Metacritic_user_vote_count  IMDB_user_vote_count  Fandango_votes  \\\n",
      "0                        1330                271107           14846   \n",
      "1                         249                 65709           12640   \n",
      "2                         627                103660           12055   \n",
      "3                          31                  3136            1793   \n",
      "4                          88                 19560            1021   \n",
      "\n",
      "   Fandango_Difference  \n",
      "0                  0.5  \n",
      "1                  0.5  \n",
      "2                  0.5  \n",
      "3                  0.5  \n",
      "4                  0.5  \n",
      "\n",
      "[5 rows x 22 columns]\n"
     ]
    }
   ],
   "source": [
    "import numpy as np\n",
    "import pandas as pd\n",
    "import matplotlib.pyplot as plt\n",
    "fandango = pd.read_csv(\"fandango.csv\")\n",
    "print(fandango.info())\n",
    "print(fandango.head())"
   ]
  },
  {
   "cell_type": "code",
   "execution_count": 2,
   "metadata": {},
   "outputs": [
    {
     "data": {
      "text/html": [
       "<div>\n",
       "<style scoped>\n",
       "    .dataframe tbody tr th:only-of-type {\n",
       "        vertical-align: middle;\n",
       "    }\n",
       "\n",
       "    .dataframe tbody tr th {\n",
       "        vertical-align: top;\n",
       "    }\n",
       "\n",
       "    .dataframe thead th {\n",
       "        text-align: right;\n",
       "    }\n",
       "</style>\n",
       "<table border=\"1\" class=\"dataframe\">\n",
       "  <thead>\n",
       "    <tr style=\"text-align: right;\">\n",
       "      <th></th>\n",
       "      <th>RottenTomatoes</th>\n",
       "      <th>RottenTomatoes_User</th>\n",
       "      <th>Metacritic</th>\n",
       "      <th>Metacritic_User</th>\n",
       "      <th>IMDB</th>\n",
       "      <th>Fandango_Stars</th>\n",
       "      <th>Fandango_Ratingvalue</th>\n",
       "      <th>RT_norm</th>\n",
       "      <th>RT_user_norm</th>\n",
       "      <th>Metacritic_norm</th>\n",
       "      <th>...</th>\n",
       "      <th>IMDB_norm</th>\n",
       "      <th>RT_norm_round</th>\n",
       "      <th>RT_user_norm_round</th>\n",
       "      <th>Metacritic_norm_round</th>\n",
       "      <th>Metacritic_user_norm_round</th>\n",
       "      <th>IMDB_norm_round</th>\n",
       "      <th>Metacritic_user_vote_count</th>\n",
       "      <th>IMDB_user_vote_count</th>\n",
       "      <th>Fandango_votes</th>\n",
       "      <th>Fandango_Difference</th>\n",
       "    </tr>\n",
       "  </thead>\n",
       "  <tbody>\n",
       "    <tr>\n",
       "      <th>count</th>\n",
       "      <td>146.000000</td>\n",
       "      <td>146.000000</td>\n",
       "      <td>146.000000</td>\n",
       "      <td>146.000000</td>\n",
       "      <td>146.000000</td>\n",
       "      <td>146.000000</td>\n",
       "      <td>146.000000</td>\n",
       "      <td>146.000000</td>\n",
       "      <td>146.000000</td>\n",
       "      <td>146.000000</td>\n",
       "      <td>...</td>\n",
       "      <td>146.000000</td>\n",
       "      <td>146.000000</td>\n",
       "      <td>146.000000</td>\n",
       "      <td>146.000000</td>\n",
       "      <td>146.000000</td>\n",
       "      <td>146.000000</td>\n",
       "      <td>146.000000</td>\n",
       "      <td>146.000000</td>\n",
       "      <td>146.000000</td>\n",
       "      <td>146.000000</td>\n",
       "    </tr>\n",
       "    <tr>\n",
       "      <th>mean</th>\n",
       "      <td>60.849315</td>\n",
       "      <td>63.876712</td>\n",
       "      <td>58.808219</td>\n",
       "      <td>6.519178</td>\n",
       "      <td>6.736986</td>\n",
       "      <td>4.089041</td>\n",
       "      <td>3.845205</td>\n",
       "      <td>3.042466</td>\n",
       "      <td>3.193836</td>\n",
       "      <td>2.940411</td>\n",
       "      <td>...</td>\n",
       "      <td>3.368493</td>\n",
       "      <td>3.065068</td>\n",
       "      <td>3.226027</td>\n",
       "      <td>2.972603</td>\n",
       "      <td>3.270548</td>\n",
       "      <td>3.380137</td>\n",
       "      <td>185.705479</td>\n",
       "      <td>42846.205479</td>\n",
       "      <td>3848.787671</td>\n",
       "      <td>0.243836</td>\n",
       "    </tr>\n",
       "    <tr>\n",
       "      <th>std</th>\n",
       "      <td>30.168799</td>\n",
       "      <td>20.024430</td>\n",
       "      <td>19.517389</td>\n",
       "      <td>1.510712</td>\n",
       "      <td>0.958736</td>\n",
       "      <td>0.540386</td>\n",
       "      <td>0.502831</td>\n",
       "      <td>1.508440</td>\n",
       "      <td>1.001222</td>\n",
       "      <td>0.975869</td>\n",
       "      <td>...</td>\n",
       "      <td>0.479368</td>\n",
       "      <td>1.514600</td>\n",
       "      <td>1.007014</td>\n",
       "      <td>0.990961</td>\n",
       "      <td>0.788116</td>\n",
       "      <td>0.502767</td>\n",
       "      <td>316.606515</td>\n",
       "      <td>67406.509171</td>\n",
       "      <td>6357.778617</td>\n",
       "      <td>0.152665</td>\n",
       "    </tr>\n",
       "    <tr>\n",
       "      <th>min</th>\n",
       "      <td>5.000000</td>\n",
       "      <td>20.000000</td>\n",
       "      <td>13.000000</td>\n",
       "      <td>2.400000</td>\n",
       "      <td>4.000000</td>\n",
       "      <td>3.000000</td>\n",
       "      <td>2.700000</td>\n",
       "      <td>0.250000</td>\n",
       "      <td>1.000000</td>\n",
       "      <td>0.650000</td>\n",
       "      <td>...</td>\n",
       "      <td>2.000000</td>\n",
       "      <td>0.500000</td>\n",
       "      <td>1.000000</td>\n",
       "      <td>0.500000</td>\n",
       "      <td>1.000000</td>\n",
       "      <td>2.000000</td>\n",
       "      <td>4.000000</td>\n",
       "      <td>243.000000</td>\n",
       "      <td>35.000000</td>\n",
       "      <td>0.000000</td>\n",
       "    </tr>\n",
       "    <tr>\n",
       "      <th>25%</th>\n",
       "      <td>31.250000</td>\n",
       "      <td>50.000000</td>\n",
       "      <td>43.500000</td>\n",
       "      <td>5.700000</td>\n",
       "      <td>6.300000</td>\n",
       "      <td>3.500000</td>\n",
       "      <td>3.500000</td>\n",
       "      <td>1.562500</td>\n",
       "      <td>2.500000</td>\n",
       "      <td>2.175000</td>\n",
       "      <td>...</td>\n",
       "      <td>3.150000</td>\n",
       "      <td>1.500000</td>\n",
       "      <td>2.500000</td>\n",
       "      <td>2.125000</td>\n",
       "      <td>3.000000</td>\n",
       "      <td>3.000000</td>\n",
       "      <td>33.250000</td>\n",
       "      <td>5627.000000</td>\n",
       "      <td>222.250000</td>\n",
       "      <td>0.100000</td>\n",
       "    </tr>\n",
       "    <tr>\n",
       "      <th>50%</th>\n",
       "      <td>63.500000</td>\n",
       "      <td>66.500000</td>\n",
       "      <td>59.000000</td>\n",
       "      <td>6.850000</td>\n",
       "      <td>6.900000</td>\n",
       "      <td>4.000000</td>\n",
       "      <td>3.900000</td>\n",
       "      <td>3.175000</td>\n",
       "      <td>3.325000</td>\n",
       "      <td>2.950000</td>\n",
       "      <td>...</td>\n",
       "      <td>3.450000</td>\n",
       "      <td>3.000000</td>\n",
       "      <td>3.500000</td>\n",
       "      <td>3.000000</td>\n",
       "      <td>3.500000</td>\n",
       "      <td>3.500000</td>\n",
       "      <td>72.500000</td>\n",
       "      <td>19103.000000</td>\n",
       "      <td>1446.000000</td>\n",
       "      <td>0.200000</td>\n",
       "    </tr>\n",
       "    <tr>\n",
       "      <th>75%</th>\n",
       "      <td>89.000000</td>\n",
       "      <td>81.000000</td>\n",
       "      <td>75.000000</td>\n",
       "      <td>7.500000</td>\n",
       "      <td>7.400000</td>\n",
       "      <td>4.500000</td>\n",
       "      <td>4.200000</td>\n",
       "      <td>4.450000</td>\n",
       "      <td>4.050000</td>\n",
       "      <td>3.750000</td>\n",
       "      <td>...</td>\n",
       "      <td>3.700000</td>\n",
       "      <td>4.500000</td>\n",
       "      <td>4.000000</td>\n",
       "      <td>4.000000</td>\n",
       "      <td>4.000000</td>\n",
       "      <td>3.500000</td>\n",
       "      <td>168.500000</td>\n",
       "      <td>45185.750000</td>\n",
       "      <td>4439.500000</td>\n",
       "      <td>0.400000</td>\n",
       "    </tr>\n",
       "    <tr>\n",
       "      <th>max</th>\n",
       "      <td>100.000000</td>\n",
       "      <td>94.000000</td>\n",
       "      <td>94.000000</td>\n",
       "      <td>9.600000</td>\n",
       "      <td>8.600000</td>\n",
       "      <td>5.000000</td>\n",
       "      <td>4.800000</td>\n",
       "      <td>5.000000</td>\n",
       "      <td>4.700000</td>\n",
       "      <td>4.700000</td>\n",
       "      <td>...</td>\n",
       "      <td>4.300000</td>\n",
       "      <td>5.000000</td>\n",
       "      <td>4.500000</td>\n",
       "      <td>4.500000</td>\n",
       "      <td>5.000000</td>\n",
       "      <td>4.500000</td>\n",
       "      <td>2375.000000</td>\n",
       "      <td>334164.000000</td>\n",
       "      <td>34846.000000</td>\n",
       "      <td>0.500000</td>\n",
       "    </tr>\n",
       "  </tbody>\n",
       "</table>\n",
       "<p>8 rows × 21 columns</p>\n",
       "</div>"
      ],
      "text/plain": [
       "       RottenTomatoes  RottenTomatoes_User  Metacritic  Metacritic_User  \\\n",
       "count      146.000000           146.000000  146.000000       146.000000   \n",
       "mean        60.849315            63.876712   58.808219         6.519178   \n",
       "std         30.168799            20.024430   19.517389         1.510712   \n",
       "min          5.000000            20.000000   13.000000         2.400000   \n",
       "25%         31.250000            50.000000   43.500000         5.700000   \n",
       "50%         63.500000            66.500000   59.000000         6.850000   \n",
       "75%         89.000000            81.000000   75.000000         7.500000   \n",
       "max        100.000000            94.000000   94.000000         9.600000   \n",
       "\n",
       "             IMDB  Fandango_Stars  Fandango_Ratingvalue     RT_norm  \\\n",
       "count  146.000000      146.000000            146.000000  146.000000   \n",
       "mean     6.736986        4.089041              3.845205    3.042466   \n",
       "std      0.958736        0.540386              0.502831    1.508440   \n",
       "min      4.000000        3.000000              2.700000    0.250000   \n",
       "25%      6.300000        3.500000              3.500000    1.562500   \n",
       "50%      6.900000        4.000000              3.900000    3.175000   \n",
       "75%      7.400000        4.500000              4.200000    4.450000   \n",
       "max      8.600000        5.000000              4.800000    5.000000   \n",
       "\n",
       "       RT_user_norm  Metacritic_norm  ...   IMDB_norm  RT_norm_round  \\\n",
       "count    146.000000       146.000000  ...  146.000000     146.000000   \n",
       "mean       3.193836         2.940411  ...    3.368493       3.065068   \n",
       "std        1.001222         0.975869  ...    0.479368       1.514600   \n",
       "min        1.000000         0.650000  ...    2.000000       0.500000   \n",
       "25%        2.500000         2.175000  ...    3.150000       1.500000   \n",
       "50%        3.325000         2.950000  ...    3.450000       3.000000   \n",
       "75%        4.050000         3.750000  ...    3.700000       4.500000   \n",
       "max        4.700000         4.700000  ...    4.300000       5.000000   \n",
       "\n",
       "       RT_user_norm_round  Metacritic_norm_round  Metacritic_user_norm_round  \\\n",
       "count          146.000000             146.000000                  146.000000   \n",
       "mean             3.226027               2.972603                    3.270548   \n",
       "std              1.007014               0.990961                    0.788116   \n",
       "min              1.000000               0.500000                    1.000000   \n",
       "25%              2.500000               2.125000                    3.000000   \n",
       "50%              3.500000               3.000000                    3.500000   \n",
       "75%              4.000000               4.000000                    4.000000   \n",
       "max              4.500000               4.500000                    5.000000   \n",
       "\n",
       "       IMDB_norm_round  Metacritic_user_vote_count  IMDB_user_vote_count  \\\n",
       "count       146.000000                  146.000000            146.000000   \n",
       "mean          3.380137                  185.705479          42846.205479   \n",
       "std           0.502767                  316.606515          67406.509171   \n",
       "min           2.000000                    4.000000            243.000000   \n",
       "25%           3.000000                   33.250000           5627.000000   \n",
       "50%           3.500000                   72.500000          19103.000000   \n",
       "75%           3.500000                  168.500000          45185.750000   \n",
       "max           4.500000                 2375.000000         334164.000000   \n",
       "\n",
       "       Fandango_votes  Fandango_Difference  \n",
       "count      146.000000           146.000000  \n",
       "mean      3848.787671             0.243836  \n",
       "std       6357.778617             0.152665  \n",
       "min         35.000000             0.000000  \n",
       "25%        222.250000             0.100000  \n",
       "50%       1446.000000             0.200000  \n",
       "75%       4439.500000             0.400000  \n",
       "max      34846.000000             0.500000  \n",
       "\n",
       "[8 rows x 21 columns]"
      ]
     },
     "execution_count": 2,
     "metadata": {},
     "output_type": "execute_result"
    }
   ],
   "source": [
    "fandango.describe()"
   ]
  },
  {
   "cell_type": "code",
   "execution_count": 4,
   "metadata": {},
   "outputs": [
    {
     "data": {
      "text/html": [
       "<div>\n",
       "<style scoped>\n",
       "    .dataframe tbody tr th:only-of-type {\n",
       "        vertical-align: middle;\n",
       "    }\n",
       "\n",
       "    .dataframe tbody tr th {\n",
       "        vertical-align: top;\n",
       "    }\n",
       "\n",
       "    .dataframe thead th {\n",
       "        text-align: right;\n",
       "    }\n",
       "</style>\n",
       "<table border=\"1\" class=\"dataframe\">\n",
       "  <thead>\n",
       "    <tr style=\"text-align: right;\">\n",
       "      <th></th>\n",
       "      <th>FILM</th>\n",
       "      <th>RT_user_norm</th>\n",
       "      <th>Metacritic_user_nom</th>\n",
       "      <th>IMDB_norm</th>\n",
       "      <th>Fandango_Ratingvalue</th>\n",
       "      <th>Fandango_Stars</th>\n",
       "    </tr>\n",
       "  </thead>\n",
       "  <tbody>\n",
       "    <tr>\n",
       "      <th>0</th>\n",
       "      <td>Avengers: Age of Ultron (2015)</td>\n",
       "      <td>4.3</td>\n",
       "      <td>3.55</td>\n",
       "      <td>3.9</td>\n",
       "      <td>4.5</td>\n",
       "      <td>5.0</td>\n",
       "    </tr>\n",
       "  </tbody>\n",
       "</table>\n",
       "</div>"
      ],
      "text/plain": [
       "                             FILM  RT_user_norm  Metacritic_user_nom  \\\n",
       "0  Avengers: Age of Ultron (2015)           4.3                 3.55   \n",
       "\n",
       "   IMDB_norm  Fandango_Ratingvalue  Fandango_Stars  \n",
       "0        3.9                   4.5             5.0  "
      ]
     },
     "execution_count": 4,
     "metadata": {},
     "output_type": "execute_result"
    }
   ],
   "source": [
    "cols = [\"FILM\",\"RT_user_norm\",\"Metacritic_user_nom\",\"IMDB_norm\",\"Fandango_Ratingvalue\",\"Fandango_Stars\"]\n",
    "norm_fandango = fandango[cols]\n",
    "norm_fandango.head(1)"
   ]
  },
  {
   "cell_type": "code",
   "execution_count": 30,
   "metadata": {},
   "outputs": [
    {
     "data": {
      "text/plain": [
       "RT_user_norm            4.00\n",
       "Metacritic_user_nom     3.75\n",
       "IMDB_norm               3.55\n",
       "Fandango_Ratingvalue    4.50\n",
       "Fandango_Stars          5.00\n",
       "Name: 1, dtype: float64"
      ]
     },
     "execution_count": 30,
     "metadata": {},
     "output_type": "execute_result"
    }
   ],
   "source": [
    "#bottom_space = list(range(5))\n",
    "bottom_space = np.arange(5) +.75\n",
    "height = norm_fandango[[\"RT_user_norm\",\"Metacritic_user_nom\",\"IMDB_norm\",\"Fandango_Ratingvalue\",\"Fandango_Stars\"]].loc[1]\n",
    "height"
   ]
  },
  {
   "cell_type": "code",
   "execution_count": 40,
   "metadata": {},
   "outputs": [
    {
     "data": {
      "text/plain": [
       "<BarContainer object of 5 artists>"
      ]
     },
     "execution_count": 40,
     "metadata": {},
     "output_type": "execute_result"
    },
    {
     "data": {
      "image/png": "[encoded data removed]",
      "text/plain": [
       "<Figure size 432x288 with 1 Axes>"
      ]
     },
     "metadata": {
      "needs_background": "light"
     },
     "output_type": "display_data"
    }
   ],
   "source": [
    "plt.bar(bottom_space,height,0.1)"
   ]
  },
  {
   "cell_type": "code",
   "execution_count": 49,
   "metadata": {},
   "outputs": [
    {
     "data": {
      "image/png": "[encoded data removed]",
      "text/plain": [
       "<Figure size 432x288 with 1 Axes>"
      ]
     },
     "metadata": {
      "needs_background": "light"
     },
     "output_type": "display_data"
    }
   ],
   "source": [
    "fig = plt.figure()\n",
    "ax1 = fig.add_subplot(1,1,1)\n",
    "plt.bar(bottom_space,height,0.5 , )\n",
    "ax1.set_xticks(range(1,6))\n",
    "ax1.set_xticklabels([\"RT_user_norm\",\"Metacritic_user_nom\",\"IMDB_norm\",\"Fandango_Ratingvalue\",\"Fandango_Stars\"],rotation = 90)\n",
    "\n",
    "ax1.set_xlabel(\"movie sites\")\n",
    "ax1.set_ylabel(\"user ratings\")\n",
    "plt.show()"
   ]
  },
  {
   "cell_type": "code",
   "execution_count": 61,
   "metadata": {},
   "outputs": [
    {
     "data": {
      "image/png": "[encoded data removed]",
      "text/plain": [
       "<Figure size 748.8x345.6 with 1 Axes>"
      ]
     },
     "metadata": {
      "needs_background": "light"
     },
     "output_type": "display_data"
    }
   ],
   "source": [
    "fig = plt.figure(figsize= [10.4, 4.8])\n",
    "ax1 = fig.add_subplot(1,1,1)\n",
    "plt.barh(bottom_space,height,0.5)\n",
    "ax1.set_yticks(range(1,6))\n",
    "ax1.set_yticklabels([\"RT_user_norm\",\"Metacritic_user_nom\",\"IMDB_norm\",\"Fandango_Ratingvalue\",\"Fandango_Stars\"],rotation = 45)\n",
    "\n",
    "ax1.set_ylabel(\"movie sites\")\n",
    "ax1.set_xlabel(\"user ratings\")\n",
    "plt.show()"
   ]
  },
  {
   "cell_type": "code",
   "execution_count": 62,
   "metadata": {},
   "outputs": [
    {
     "data": {
      "image/png": "[encoded data removed]",
      "text/plain": [
       "<Figure size 432x288 with 1 Axes>"
      ]
     },
     "metadata": {
      "needs_background": "light"
     },
     "output_type": "display_data"
    }
   ],
   "source": [
    "# fig = plt.figure()\n",
    "# ax = fig.add_subplot(111)\n",
    "fig , ax = plt.subplots() \n",
    "ax.scatter(norm_fandango[\"Fandango_Stars\"],norm_fandango[\"IMDB_norm\"])\n",
    "plt.show()"
   ]
  },
  {
   "cell_type": "code",
   "execution_count": 42,
   "metadata": {},
   "outputs": [
    {
     "data": {
      "image/png": "[encoded data removed]",
      "text/plain": [
       "<Figure size 432x288 with 1 Axes>"
      ]
     },
     "metadata": {
      "needs_background": "light"
     },
     "output_type": "display_data"
    }
   ],
   "source": [
    "fir, ax = plt.subplots() \n",
    "ax.scatter(norm_fandango[\"Fandango_Stars\"],norm_fandango[\"Fandango_Ratingvalue\"])\n",
    "plt.show()"
   ]
  },
  {
   "cell_type": "code",
   "execution_count": 69,
   "metadata": {},
   "outputs": [
    {
     "data": {
      "image/png": "[encoded data removed]",
      "text/plain": [
       "<Figure size 720x720 with 3 Axes>"
      ]
     },
     "metadata": {
      "needs_background": "light"
     },
     "output_type": "display_data"
    }
   ],
   "source": [
    "col = [\"RT_user_norm\",\"Metacritic_user_nom\",\"IMDB_norm\"]\n",
    "fig = plt.figure(figsize = (10,10))\n",
    "for i in range(3):\n",
    "    ax = fig.add_subplot(3,1,i+1)\n",
    "    ax.scatter(norm_fandango[\"Fandango_Ratingvalue\"],norm_fandango[col[i]])\n",
    "    ax.set_xlabel(\"Fandango_Ratingvalue\")\n",
    "    ax.set_ylabel(col[i])\n",
    "plt.show()"
   ]
  },
  {
   "cell_type": "code",
   "execution_count": null,
   "metadata": {},
   "outputs": [],
   "source": []
  }
 ],
 "metadata": {
  "kernelspec": {
   "display_name": "Python 3",
   "language": "python",
   "name": "python3"
  },
  "language_info": {
   "codemirror_mode": {
    "name": "ipython",
    "version": 3
   },
   "file_extension": ".py",
   "mimetype": "text/x-python",
   "name": "python",
   "nbconvert_exporter": "python",
   "pygments_lexer": "ipython3",
   "version": "3.8.3"
  }
 },
 "nbformat": 4,
 "nbformat_minor": 2
}
